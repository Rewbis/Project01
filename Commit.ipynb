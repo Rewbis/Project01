{
 "cells": [
  {
   "cell_type": "code",
   "execution_count": null,
   "id": "d12c4ee0",
   "metadata": {},
   "outputs": [],
   "source": [
    "# here’s a small, self-contained helper cell you can drop straight into any \n",
    "# Jupyter notebook.\n",
    "# It lets you commit and push your changes with a single line or button-like \n",
    "# call, all from inside the notebook.\n",
    "\n",
    "import os\n",
    "from datetime import datetime\n",
    "\n",
    "def git_sync(message=None):\n",
    "    \"\"\"Commit and push all changes in the current repo.\"\"\"\n",
    "    if message is None or not message.strip():\n",
    "        message = f\"Auto-commit {datetime.now():%Y-%m-%d %H:%M:%S}\"\n",
    "    print(f\"\\n🔧 Committing with message: {message!r}\\n\")\n",
    "\n",
    "    # Stage all changes\n",
    "    os.system(\"git add .\")\n",
    "    # Commit (ignore error if there's nothing new)\n",
    "    os.system(f'git commit -m \"{message}\" || echo \"No changes to commit.\"')\n",
    "    # Push to the tracked remote\n",
    "    os.system(\"git push\")\n",
    "\n",
    "print(\"✅ Function `git_sync(message='...')` ready to use.\")\n",
    "\n",
    "\n",
    "\n",
    "# Run this cell once — it defines the function.\n",
    "# Notes\n",
    "# It commits everything in the current folder (git add .).\n",
    "# It uses your existing branch (e.g., main) and remote (origin).\n",
    "# If nothing changed, you’ll see “No changes to commit.”\n",
    "# You can always replace \"git push\" with \"git push origin main\" if you want it explicit."
   ]
  },
  {
   "cell_type": "code",
   "execution_count": null,
   "id": "00f1f8aa",
   "metadata": {},
   "outputs": [],
   "source": [
    "# Use it whenever you want to save + push\n",
    "\n",
    "git_sync(\"Update data cleaning notebook and plots\")\n"
   ]
  }
 ],
 "metadata": {
  "kernelspec": {
   "display_name": ".venv",
   "language": "python",
   "name": "python3"
  },
  "language_info": {
   "codemirror_mode": {
    "name": "ipython",
    "version": 3
   },
   "file_extension": ".py",
   "mimetype": "text/x-python",
   "name": "python",
   "nbconvert_exporter": "python",
   "pygments_lexer": "ipython3",
   "version": "3.13.7"
  }
 },
 "nbformat": 4,
 "nbformat_minor": 5
}
