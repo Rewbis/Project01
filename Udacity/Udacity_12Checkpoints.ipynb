{
 "cells": [
  {
   "cell_type": "markdown",
   "id": "22b63946-f83e-4eb3-ba58-194935695d88",
   "metadata": {},
   "source": [
    "State Management and Persistence in LangGraph\n",
    "State in LangGraph acts as a data package that flows through nodes, carrying relevant information within a single execution. However, state does not persist between invocations, meaning each new execution starts from scratch.\n",
    "\n",
    "State Limitations\n",
    "When a workflow runs, it processes state only for that instance. Once execution finishes, the state is discarded. If re-invoked, the previous state is lost, which breaks continuity for applications like chatbots that need memory.\n",
    "\n",
    "Adding Short-Term Memory with Checkpoints\n",
    "To persist state across multiple runs, checkpoints store snapshots of state at each step. LangGraph provides MemorySaver(), an in-memory checkpoint system, to retain state temporarily.\n",
    "\n",
    "from langgraph.checkpoint.memory import MemorySaver\n",
    "\n",
    "checkpointer = MemorySaver()\n",
    "graph = workflow.compile(checkpointer=checkpointer)\n",
    "Using Threads for Persistent State\n",
    "Checkpoints are organized into threads, similar to conversation histories in ChatGPT. Each execution must include a thread ID to retrieve past interactions.\n",
    "\n",
    "config = {\"configurable\": {\"thread_id\": \"1\"}}\n",
    "graph.invoke({\"node_name\": \"\"}, config)\n",
    "If the same thread ID is used again, the state continues from where it left off.\n",
    "\n",
    "# Output:\n",
    "# {'node_name': 'b', 'value': ['a', 'b', 'a', 'b']}\n",
    "Accessing State History\n",
    "LangGraph allows retrieval of state history for debugging and analysis.\n",
    "\n",
    "list(graph.get_state_history(config))\n",
    "Returns a chronological list of state snapshots, showing how the workflow evolved.\n",
    "\n",
    "Final Thoughts\n",
    "State is ephemeral—without checkpoints, it resets after each execution.\n",
    "MemorySaver() is useful for debugging, but production systems should use PostgresSaver() for reliability.\n",
    "Threads track execution history, enabling persistent AI-driven interactions.\n",
    "By combining state tracking, checkpoints, and threads, LangGraph enables intelligent, memory-aware applications that evolve dynamically."
   ]
  },
  {
   "cell_type": "markdown",
   "id": "ef7fddff-e8b4-4bdd-b03c-00328f6b6602",
   "metadata": {},
   "source": [
    "L3_demo_08_checkpoints"
   ]
  },
  {
   "cell_type": "code",
   "execution_count": 1,
   "id": "c66a7e1f-60fe-430b-a5c4-e98a511204b0",
   "metadata": {},
   "outputs": [],
   "source": [
    "from typing import TypedDict, List, Annotated\n",
    "import operator\n",
    "from langgraph.checkpoint.memory import MemorySaver\n",
    "from langgraph.graph import StateGraph, MessagesState, START, END\n",
    "from IPython.display import Image, display"
   ]
  },
  {
   "cell_type": "code",
   "execution_count": 2,
   "id": "91232b50-de3b-4836-8e68-2132316be393",
   "metadata": {},
   "outputs": [
    {
     "data": {
      "image/png": "[encoded data removed]",
      "text/plain": [
       "<IPython.core.display.Image object>"
      ]
     },
     "metadata": {},
     "output_type": "display_data"
    }
   ],
   "source": [
    "class State(TypedDict):\n",
    "    value: Annotated[List[str], operator.add]\n",
    "\n",
    "def node_a(state: State):\n",
    "    return {\"value\": [\"a\"]}\n",
    "\n",
    "def node_b(state: State):\n",
    "    return {\"value\": [\"b\"]}\n",
    "\n",
    "workflow = StateGraph(State)\n",
    "\n",
    "workflow.add_node(node_a)\n",
    "workflow.add_node(node_b)\n",
    "\n",
    "workflow.add_edge(START, \"node_a\")\n",
    "workflow.add_edge(\"node_a\", \"node_b\")\n",
    "workflow.add_edge(\"node_b\", END)\n",
    "\n",
    "graph = workflow.compile()\n",
    "\n",
    "display(\n",
    "    Image(\n",
    "        graph.get_graph().draw_mermaid_png()\n",
    "    )\n",
    ")"
   ]
  },
  {
   "cell_type": "code",
   "execution_count": 4,
   "id": "614d1f7a-7bbd-4945-9ef3-28648c9699fa",
   "metadata": {
    "editable": true,
    "slideshow": {
     "slide_type": ""
    },
    "tags": []
   },
   "outputs": [
    {
     "data": {
      "text/plain": [
       "{'value': ['a', 'b']}"
      ]
     },
     "execution_count": 4,
     "metadata": {},
     "output_type": "execute_result"
    }
   ],
   "source": [
    "graph.invoke({\"value\":[]})"
   ]
  },
  {
   "cell_type": "markdown",
   "id": "fe81c3f5-6b92-407e-9363-805f1fefbc64",
   "metadata": {},
   "source": [
    "Checkpoints"
   ]
  },
  {
   "cell_type": "code",
   "execution_count": null,
   "id": "2cb9a986-b5aa-49f0-ab66-116d0abfab7a",
   "metadata": {},
   "outputs": [],
   "source": [
    "checkpointer = MemorySaver()\n",
    "graph = workflow.compile(checkpointer=checkpointer)"
   ]
  },
  {
   "cell_type": "code",
   "execution_count": null,
   "id": "dbda1a7a-1a98-4a6e-aaff-d0cc11477205",
   "metadata": {},
   "outputs": [],
   "source": [
    "config = {\"configurable\": {\"thread_id\": \"1\"}}\n",
    "graph.invoke({\"value\": []}, config)"
   ]
  },
  {
   "cell_type": "code",
   "execution_count": null,
   "id": "b6d67228-6423-4fe0-b20f-7ab069c7fca4",
   "metadata": {},
   "outputs": [],
   "source": [
    "config = {\"configurable\": {\"thread_id\": \"1\"}}\n",
    "graph.invoke({\"value\": []}, config)"
   ]
  },
  {
   "cell_type": "code",
   "execution_count": null,
   "id": "2acceabf-0452-4c83-a542-f76364a19d50",
   "metadata": {},
   "outputs": [],
   "source": [
    "config = {\"configurable\": {\"thread_id\": \"2\"}}\n",
    "graph.invoke({\"value\": []}, config)"
   ]
  },
  {
   "cell_type": "code",
   "execution_count": null,
   "id": "759b67d3-2097-4bd4-8026-d4728b070ccf",
   "metadata": {},
   "outputs": [],
   "source": [
    "config = {\"configurable\": {\"thread_id\": \"3\"}}\n",
    "graph.invoke({\"value\": []}, config)"
   ]
  },
  {
   "cell_type": "code",
   "execution_count": null,
   "id": "49c21ea6-4eff-48af-851c-f7e7ff9f982a",
   "metadata": {},
   "outputs": [],
   "source": [
    "list(graph.get_state_history({\"configurable\": {\"thread_id\": \"1\"}}))"
   ]
  },
  {
   "cell_type": "code",
   "execution_count": null,
   "id": "7d6d167c-2112-4fa9-bd28-58a261369b5d",
   "metadata": {},
   "outputs": [],
   "source": [
    "list(graph.get_state_history({\"configurable\": {\"thread_id\": \"2\"}}))"
   ]
  },
  {
   "cell_type": "markdown",
   "id": "047b8358-38f8-48f9-a83d-ad6edffc3cab",
   "metadata": {},
   "source": [
    "## Summary: Threads and Checkpoints in LangGraph\n",
    "Overview\n",
    "This demo explains how to use threads and checkpoints in LangGraph workflows. These features enable persistent conversation tracking and state snapshotting, which are critical for building multi-turn, stateful workflows and agents.\n",
    "\n",
    "Key Steps Covered  \n",
    "1. Basic Workflow Setup  \n",
    "a. State Definition\n",
    "A State is defined with a value field as a list of strings.\n",
    "A reducer (operator.add) is applied to value, allowing safe merging of updates from different nodes.\n",
    "class State(TypedDict):\n",
    "  value: List[str]\n",
    "b. Node Definitions\n",
    "node_a: Appends \"a\" to the value list.\n",
    "node_b: Appends \"b\" to the value list.\n",
    "def node_a(state):\n",
    "  return {\"value\": [\"a\"]}\n",
    "\n",
    "def node_b(state):\n",
    "  return {\"value\": [\"b\"]}\n",
    "c. Workflow Construction\n",
    "Nodes: node_a and node_b.\n",
    "Edges:\n",
    "start → node_a → node_b → end\n",
    "workflow.add_node(\"node_a\", node_a)\n",
    "workflow.add_node(\"node_b\", node_b)\n",
    "workflow.add_edge(\"start\", \"node_a\")\n",
    "workflow.add_edge(\"node_a\", \"node_b\")\n",
    "workflow.add_edge(\"node_b\", \"end\")\n",
    "d. Basic Execution\n",
    "Invoking the workflow with an empty list as input produces:\n",
    "[\"a\", \"b\"]\n",
    "Re-running without any checkpointing does not retain any additional memory or history.  \n",
    "2. Adding Checkpoints  \n",
    "a. Memory Checkpointer Setup\n",
    "A MemorySaver checkpointer is created.\n",
    "When building the workflow, the checkpointer is passed into the graph.\n",
    "from langgraph.checkpoints import MemorySaver\n",
    "\n",
    "checkpointer = MemorySaver()\n",
    "workflow = StateGraph(State, checkpointer=checkpointer)\n",
    "b. Using Config and Thread IDs\n",
    "Each invocation now accepts a RunnableConfig with a thread_id specified.\n",
    "Same thread_id → state snapshots accumulate.\n",
    "Different thread_id → separate histories.\n",
    "workflow.invoke({\"value\": []}, config={\"thread_id\": \"1\"})\n",
    "c. Behavior Differences\n",
    "Without checkpointing: Every run is stateless.\n",
    "With checkpointing:\n",
    "Running twice with thread_id=\"1\" appends twice → [\"a\", \"b\", \"a\", \"b\"]\n",
    "New thread_id values (e.g., \"2\", \"3\") start fresh each time.  \n",
    "3. Viewing State History  \n",
    "The state history for a thread can be retrieved using:\n",
    "workflow.get_state_history(thread_id=\"1\")\n",
    "State snapshots include:\n",
    "\n",
    "Node transitions (e.g., from start to node_a to node_b to end).\n",
    "The evolving value list at each step.\n",
    "Example:\n",
    "\n",
    "After two invocations under thread ID \"1\":\n",
    "First run: [\"a\", \"b\"]\n",
    "Second run: [\"a\", \"b\", \"a\", \"b\"]\n",
    "Thread ID \"2\" or \"3\" will show only one cycle of [\"a\", \"b\"].\n",
    "  \n",
    "4. Key Concepts Highlighted  \n",
    "Threads allow partitioning workflow runs by conversation ID or user session.\n",
    "Checkpoints automatically snapshot state after each node.\n",
    "State history retrieval enables:\n",
    "Debugging workflows\n",
    "Resuming from intermediate steps\n",
    "Auditing or replaying execution  \n",
    "5. Conclusion  \n",
    "Threads and checkpoints are foundational for building persistent, multi-turn, and recoverable workflows.\n",
    "LangGraph’s checkpointer mechanism enables lightweight memory without needing external databases.\n",
    "This system is scalable to more complex workflows involving LLMs, agents, and external data integrations."
   ]
  },
  {
   "cell_type": "code",
   "execution_count": null,
   "id": "88cc42b2-8334-47bc-a558-89e026f8bd17",
   "metadata": {},
   "outputs": [],
   "source": []
  },
  {
   "cell_type": "code",
   "execution_count": null,
   "id": "5fdef775-9c4e-4921-a315-350fa6b305bc",
   "metadata": {},
   "outputs": [],
   "source": []
  },
  {
   "cell_type": "code",
   "execution_count": null,
   "id": "62234503-3b35-4469-8f3f-4a82a59ba339",
   "metadata": {},
   "outputs": [],
   "source": []
  }
 ],
 "metadata": {
  "kernelspec": {
   "display_name": "Python 3 (ipykernel)",
   "language": "python",
   "name": "python3"
  },
  "language_info": {
   "codemirror_mode": {
    "name": "ipython",
    "version": 3
   },
   "file_extension": ".py",
   "mimetype": "text/x-python",
   "name": "python",
   "nbconvert_exporter": "python",
   "pygments_lexer": "ipython3",
   "version": "3.13.7"
  }
 },
 "nbformat": 4,
 "nbformat_minor": 5
}
