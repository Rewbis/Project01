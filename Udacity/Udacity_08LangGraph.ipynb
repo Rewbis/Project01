{
 "cells": [
  {
   "cell_type": "markdown",
   "id": "0ba03d2c-284d-4aa7-81dc-adfb3b48cc86",
   "metadata": {},
   "source": [
    "Introduction to Agents with LangGraph\n",
    "Simple LLM calls are limited by the knowledge the model was trained on. To overcome this, developers use Chains or Agentic Systems to give LLMs more control over application workflows.\n",
    "\n",
    "Chains vs. Agents\n",
    "Chains – Define fixed steps before and after an LLM call, ensuring reliable execution.\n",
    "\n",
    "Agents – Allow the LLM to decide the flow of execution dynamically.\n",
    "\n",
    "Why LangGraph?\n",
    "Giving more control to an LLM reduces reliability—but LangGraph helps maintain reliability while enabling agentic behavior.\n",
    "\n",
    "More flexibility in designing workflows.\n",
    "Clear visibility into control flow (no hidden complex prompts).\n",
    "Supports cycles and persistence, making it suitable for iterative AI workflows.\n",
    "Graphs in LangGraph\n",
    "LangGraph structures workflows as graphs with nodes and edges:\n",
    "\n",
    "Nodes – Python functions that define agent logic.\n",
    "\n",
    "Edges – Python functions that decide which node runs next based on state.\n",
    "\n",
    "Graph-Based AI Workflows\n",
    "Graphs are widely used in AI and data-driven applications:\n",
    "\n",
    "Social Networks – Users (nodes) connected by relationships (edges).\n",
    "E-Commerce – Items and customers as nodes, with purchasing behavior forming edges.\n",
    "In LangGraph, this concept is applied to AI workflows, where decision-making paths are dynamically determined.\n",
    "\n",
    "Integration with LangChain\n",
    "LangGraph works independently, but it integrates seamlessly with LangChain, allowing developers to:\n",
    "\n",
    "Use LangChain components to build nodes and edges.\n",
    "Leverage LangGraph for workflow orchestration.\n",
    "Final Thoughts\n",
    "LangGraph enables structured, agent-driven AI applications while keeping control and reliability in the hands of developers. By combining LangChain and LangGraph, it’s possible to build dynamic, intelligent applications that adapt to user inputs and external data."
   ]
  },
  {
   "cell_type": "code",
   "execution_count": null,
   "id": "c4dfcf66-f33c-418a-948c-6b3331fcf47d",
   "metadata": {},
   "outputs": [],
   "source": []
  },
  {
   "cell_type": "markdown",
   "id": "4fee9abc-84fc-4f10-9bcf-05f9fecdb080",
   "metadata": {},
   "source": [
    "Agentic Workflows with LangGraph\n",
    "Agentic workflows allow LLMs to control execution flow, adapting to user input, conditions, and tools. Unlike fixed Chains, agentic workflows make real-time decisions, improving flexibility and automation.\n",
    "\n",
    "Setting Up the Workflow\n",
    "Instantiate the Model – Define an LLM and optionally bind tools to expand its capabilities.\n",
    "llm_with_tools = llm.bind_tools([tool_a, tool_b, tool_c], tool_choice=\"auto\")\n",
    "Initialize the Graph – Create a StateGraph to track input, output, and intermediate data.\n",
    "workflow = StateGraph(MessagesState)\n",
    "Define Nodes – Each node represents a step in the workflow, processing input and modifying the state.\n",
    "def first_node(state):\n",
    "    return {\"results\": f\"Hello, {state['input']}!\"}\n",
    "workflow.add_node(first_node)\n",
    "Create Edges – Define execution paths between nodes.\n",
    "workflow.add_edge(\"node_a\", \"node_b\")\n",
    "Specify Start and End – Ensure the workflow has a defined entry and exit.\n",
    "workflow.add_edge(START, \"node_a\")\n",
    "workflow.add_edge(\"node_b\", END)\n",
    "Compile the Workflow – Validate structure before execution.\n",
    "graph = workflow.compile()\n",
    "Executing and Visualizing\n",
    "Invoke the workflow with input and configuration.\n",
    "\n",
    "graph.invoke({\"input\": \"Some input\"})\n",
    "Use Mermaid diagrams to visualize the process for debugging and documentation.\n",
    "\n",
    "Final Thoughts\n",
    "LangGraph enables dynamic, AI-driven workflows by combining state tracking, flexible decision-making, and structured execution. By integrating nodes, edges, and visualization, developers can create scalable, intelligent automation."
   ]
  },
  {
   "cell_type": "markdown",
   "id": "5103c09a-e01e-4d5f-83f6-4a04d6d56036",
   "metadata": {},
   "source": []
  },
  {
   "cell_type": "code",
   "execution_count": null,
   "id": "da23931e-7bd4-43eb-b7e8-e5c8013fd978",
   "metadata": {},
   "outputs": [],
   "source": []
  },
  {
   "cell_type": "code",
   "execution_count": null,
   "id": "de94b94f-7623-4504-9cb3-8d1060d9cf88",
   "metadata": {},
   "outputs": [],
   "source": []
  },
  {
   "cell_type": "code",
   "execution_count": null,
   "id": "58111592-e44f-4d1d-8d1e-771d8a106718",
   "metadata": {},
   "outputs": [],
   "source": []
  },
  {
   "cell_type": "code",
   "execution_count": null,
   "id": "a5bc38bc-249f-4a13-8b67-14fe6beeff29",
   "metadata": {},
   "outputs": [],
   "source": []
  },
  {
   "cell_type": "code",
   "execution_count": null,
   "id": "ac392aae-d902-49de-9ac4-1ba2a3a437c4",
   "metadata": {},
   "outputs": [],
   "source": []
  },
  {
   "cell_type": "code",
   "execution_count": null,
   "id": "9d6f48c6-9e3f-4057-946d-8dc8cf3ff467",
   "metadata": {},
   "outputs": [],
   "source": []
  },
  {
   "cell_type": "code",
   "execution_count": null,
   "id": "e0dc3de7-1726-4113-9c5e-5579981af5af",
   "metadata": {},
   "outputs": [],
   "source": []
  },
  {
   "cell_type": "code",
   "execution_count": null,
   "id": "4bae106e-9695-412f-92da-d665c216cf7f",
   "metadata": {},
   "outputs": [],
   "source": []
  },
  {
   "cell_type": "code",
   "execution_count": null,
   "id": "3a8b18fa-f1af-40df-8118-09a62873f562",
   "metadata": {},
   "outputs": [],
   "source": []
  },
  {
   "cell_type": "code",
   "execution_count": null,
   "id": "803f693e-2bd9-4d2b-8476-826405ba5da6",
   "metadata": {},
   "outputs": [],
   "source": []
  },
  {
   "cell_type": "code",
   "execution_count": null,
   "id": "cadb6a76-ab08-4fe0-bc81-aad349558959",
   "metadata": {},
   "outputs": [],
   "source": []
  },
  {
   "cell_type": "code",
   "execution_count": null,
   "id": "3cbd7724-8591-4e0d-a376-f2f879dc9f6e",
   "metadata": {},
   "outputs": [],
   "source": []
  },
  {
   "cell_type": "code",
   "execution_count": null,
   "id": "959661a1-c94a-466f-b616-aa9421287d84",
   "metadata": {},
   "outputs": [],
   "source": []
  },
  {
   "cell_type": "code",
   "execution_count": null,
   "id": "c59c9e32-4a56-4b39-bccc-00598ff82f8f",
   "metadata": {},
   "outputs": [],
   "source": []
  },
  {
   "cell_type": "code",
   "execution_count": null,
   "id": "93ef1ccd-5da7-4b39-b0d4-b3c82d26296c",
   "metadata": {},
   "outputs": [],
   "source": []
  },
  {
   "cell_type": "code",
   "execution_count": null,
   "id": "a06e79e9-e4a7-4e09-88d4-3ab1594f9e85",
   "metadata": {},
   "outputs": [],
   "source": []
  }
 ],
 "metadata": {
  "kernelspec": {
   "display_name": "Python 3 (ipykernel)",
   "language": "python",
   "name": "python3"
  },
  "language_info": {
   "codemirror_mode": {
    "name": "ipython",
    "version": 3
   },
   "file_extension": ".py",
   "mimetype": "text/x-python",
   "name": "python",
   "nbconvert_exporter": "python",
   "pygments_lexer": "ipython3",
   "version": "3.13.7"
  }
 },
 "nbformat": 4,
 "nbformat_minor": 5
}
