{
 "cells": [
  {
   "cell_type": "markdown",
   "id": "4cdff4b6-66dd-4efe-85d7-a45926da9da5",
   "metadata": {},
   "source": [
    "Scenario\n",
    "You’ve been hired by a startup incubator to build an AI-powered assistant that helps aspiring entrepreneurs brainstorm business ideas, evaluate their potential, and summarize key insights.\n",
    "\n",
    "_Challenge_\n",
    "Create an AI Business Advisor that:\n",
    "Accepts an industry as input.\n",
    "Generates a business idea.\n",
    "Analyzes the strengths and weaknesses.\n",
    "Formats the results as a final report.\n",
    "\n",
    "Use LangChain LCEL to chain prompts, LLMs, and output parsers."
   ]
  },
  {
   "cell_type": "markdown",
   "id": "a540eec6-f1b6-4450-90bc-9f3ca6ae1f7c",
   "metadata": {},
   "source": [
    "## 0. Import the necessary libs"
   ]
  },
  {
   "cell_type": "code",
   "execution_count": 2,
   "id": "935fd650-ae56-48c9-a5a4-e5aaa1ffb38f",
   "metadata": {},
   "outputs": [],
   "source": [
    "from langchain_openai import ChatOpenAI\n",
    "from langchain_core.prompts import PromptTemplate\n",
    "from langchain_core.output_parsers import StrOutputParser\n",
    "from langchain_core.runnables import RunnablePassthrough, RunnableParallel, RunnableLambda\n",
    "from pydantic import BaseModel, Field\n"
   ]
  },
  {
   "cell_type": "markdown",
   "id": "af5afd8f-428e-4649-908f-877333e70710",
   "metadata": {},
   "source": [
    "## 1. Instantiate Chat Model with your API Key"
   ]
  },
  {
   "cell_type": "code",
   "execution_count": 3,
   "id": "c0208b91-0f17-4d34-a740-20323ed42b6f",
   "metadata": {},
   "outputs": [],
   "source": [
    "llm = ChatOpenAI(\n",
    "    model=\"gpt-4o-mini\",\n",
    "    temperature=0.0,  # no api_key arg needed if env var is set, Env var name must be exact: OPENAI_API_KEY (uppercase). If you set openai_api_key anywhere, rename it.\n",
    ")"
   ]
  },
  {
   "cell_type": "markdown",
   "id": "ea9d4d75-95ad-4ee7-9b38-ba3fcac57db5",
   "metadata": {},
   "source": [
    "## 2. Your first Chain\n",
    "In the end of each chain, you should parse the output and save the logs"
   ]
  },
  {
   "cell_type": "code",
   "execution_count": 4,
   "id": "20b879df-27a5-40c2-9d3f-663ba608f370",
   "metadata": {},
   "outputs": [],
   "source": [
    "logs = []\n",
    "parser = StrOutputParser()\n",
    "parse_and_log_output_chain = RunnableParallel(\n",
    "    output=parser, \n",
    "    log=RunnableLambda(lambda x: logs.append(x))\n",
    ")"
   ]
  },
  {
   "cell_type": "markdown",
   "id": "3e5b14be-d8e7-458a-994c-5a3c2ecbbd68",
   "metadata": {},
   "source": [
    "## 3. Idea Generation\n",
    "Craft a prompt to generate a business idea for the given industry.\n",
    "\n",
    "Make sure {industry} placeholder is inside your template, so it can be filled when the chain is invoked."
   ]
  },
  {
   "cell_type": "code",
   "execution_count": 5,
   "id": "8e437a03-c051-4171-aba7-1abd7f2b30eb",
   "metadata": {},
   "outputs": [],
   "source": [
    "idea_prompt = PromptTemplate(\n",
    "    template=(\n",
    "        \"You are a creative business advisor. \"\n",
    "        \"Generate one innovative business idea in the industry: \"\n",
    "        \"{industry}. \"\n",
    "        \"Provide a brief description of the idea.\"\n",
    "    )\n",
    ")"
   ]
  },
  {
   "cell_type": "code",
   "execution_count": 6,
   "id": "e6c492f1-1d32-4fbf-a54b-a1deeff0b86d",
   "metadata": {},
   "outputs": [],
   "source": [
    "idea_chain = (\n",
    "    idea_prompt \n",
    "    | llm \n",
    "    | parse_and_log_output_chain\n",
    ")"
   ]
  },
  {
   "cell_type": "code",
   "execution_count": 7,
   "id": "14789976-160b-4d8c-bdbb-7a14f4787d86",
   "metadata": {},
   "outputs": [],
   "source": [
    "idea_result = idea_chain.invoke(\"agro\")"
   ]
  },
  {
   "cell_type": "code",
   "execution_count": 8,
   "id": "7189f705-255b-4399-b1fe-fd048c708b65",
   "metadata": {},
   "outputs": [
    {
     "data": {
      "text/plain": [
       "'**Business Idea: Smart Vertical Farming Pods (SVFP)**\\n\\n**Description:**\\nSmart Vertical Farming Pods (SVFP) are modular, self-sustaining farming units designed for urban environments and small-scale farmers. Each pod utilizes advanced hydroponic and aeroponic systems to grow a variety of crops year-round, regardless of external weather conditions. Equipped with IoT sensors, the pods monitor and optimize factors such as nutrient levels, humidity, temperature, and light exposure, ensuring maximum yield with minimal resource use.\\n\\nThe SVFPs can be installed in backyards, rooftops, or community spaces, making fresh produce accessible to urban dwellers. Users can control their pods via a mobile app, which provides real-time data, growth tracking, and automated care schedules. Additionally, the app includes a community feature where users can share tips, recipes, and even trade produce with neighbors.\\n\\nTo enhance sustainability, the pods are designed to use renewable energy sources, such as solar panels, and incorporate a rainwater collection system for irrigation. The business model includes direct sales of the pods, subscription services for nutrient solutions, and an online marketplace for users to sell their excess produce, fostering a local food economy.\\n\\nThis innovative approach not only addresses food security in urban areas but also promotes sustainable agricultural practices and community engagement.'"
      ]
     },
     "execution_count": 8,
     "metadata": {},
     "output_type": "execute_result"
    }
   ],
   "source": [
    "idea_result[\"output\"]"
   ]
  },
  {
   "cell_type": "code",
   "execution_count": 9,
   "id": "fcca1236-5948-4231-af0e-2149694f946e",
   "metadata": {},
   "outputs": [
    {
     "data": {
      "text/plain": [
       "[AIMessage(content='**Business Idea: Smart Vertical Farming Pods (SVFP)**\\n\\n**Description:**\\nSmart Vertical Farming Pods (SVFP) are modular, self-sustaining farming units designed for urban environments and small-scale farmers. Each pod utilizes advanced hydroponic and aeroponic systems to grow a variety of crops year-round, regardless of external weather conditions. Equipped with IoT sensors, the pods monitor and optimize factors such as nutrient levels, humidity, temperature, and light exposure, ensuring maximum yield with minimal resource use.\\n\\nThe SVFPs can be installed in backyards, rooftops, or community spaces, making fresh produce accessible to urban dwellers. Users can control their pods via a mobile app, which provides real-time data, growth tracking, and automated care schedules. Additionally, the app includes a community feature where users can share tips, recipes, and even trade produce with neighbors.\\n\\nTo enhance sustainability, the pods are designed to use renewable energy sources, such as solar panels, and incorporate a rainwater collection system for irrigation. The business model includes direct sales of the pods, subscription services for nutrient solutions, and an online marketplace for users to sell their excess produce, fostering a local food economy.\\n\\nThis innovative approach not only addresses food security in urban areas but also promotes sustainable agricultural practices and community engagement.', additional_kwargs={'refusal': None}, response_metadata={'token_usage': {'completion_tokens': 261, 'prompt_tokens': 33, 'total_tokens': 294, 'completion_tokens_details': {'accepted_prediction_tokens': 0, 'audio_tokens': 0, 'reasoning_tokens': 0, 'rejected_prediction_tokens': 0}, 'prompt_tokens_details': {'audio_tokens': 0, 'cached_tokens': 0}}, 'model_name': 'gpt-4o-mini-2024-07-18', 'system_fingerprint': 'fp_560af6e559', 'id': 'chatcmpl-CNiXS46W0HuMsqkUjFpWQcF0xROja', 'service_tier': 'default', 'finish_reason': 'stop', 'logprobs': None}, id='run--f3e3b745-8c39-4d32-b6c9-48d74e0f636c-0', usage_metadata={'input_tokens': 33, 'output_tokens': 261, 'total_tokens': 294, 'input_token_details': {'audio': 0, 'cache_read': 0}, 'output_token_details': {'audio': 0, 'reasoning': 0}})]"
      ]
     },
     "execution_count": 9,
     "metadata": {},
     "output_type": "execute_result"
    }
   ],
   "source": [
    "logs"
   ]
  },
  {
   "cell_type": "markdown",
   "id": "4dc42ca9-a673-4d0f-9781-826d54afd4de",
   "metadata": {},
   "source": [
    "## 4. Idea Analysis\n",
    "Craft a prompt to analyze the generated idea's strengths and weaknesses"
   ]
  },
  {
   "cell_type": "code",
   "execution_count": 10,
   "id": "025e5141-859e-4961-a81c-db1f4e913b03",
   "metadata": {},
   "outputs": [],
   "source": [
    "analysis_prompt = PromptTemplate(\n",
    "    template=(\n",
    "        \"Analyze the following business idea: \"\n",
    "        \"Idea: {idea} \"\n",
    "        \"Identify 3 key strengths and 3 potential weaknesses of the idea.\"\n",
    "    )\n",
    ")"
   ]
  },
  {
   "cell_type": "code",
   "execution_count": 11,
   "id": "63d5c4bb-2e8b-4a80-a613-030279ac8c08",
   "metadata": {},
   "outputs": [],
   "source": [
    "analysis_chain = (\n",
    "    analysis_prompt \n",
    "    | llm \n",
    "    | parse_and_log_output_chain\n",
    ")"
   ]
  },
  {
   "cell_type": "code",
   "execution_count": 12,
   "id": "6bebfb4f-ac2c-4f29-86ef-471e6f26603b",
   "metadata": {},
   "outputs": [],
   "source": [
    "analysis_result = analysis_chain.invoke(idea_result[\"output\"])"
   ]
  },
  {
   "cell_type": "code",
   "execution_count": 13,
   "id": "d79ac077-b280-4f44-a97e-b93487810ffb",
   "metadata": {},
   "outputs": [
    {
     "data": {
      "text/plain": [
       "\"### Key Strengths\\n\\n1. **Sustainability and Resource Efficiency**: The Smart Vertical Farming Pods (SVFP) utilize advanced hydroponic and aeroponic systems, which are known for their efficient use of water and nutrients compared to traditional farming. The incorporation of renewable energy sources and rainwater collection further enhances sustainability, appealing to environmentally conscious consumers and aligning with global trends toward sustainable living.\\n\\n2. **Urban Food Security and Accessibility**: By enabling urban dwellers to grow their own food in limited spaces, SVFP addresses the growing concern of food security in cities. The modular design allows for installation in various urban settings, making fresh produce more accessible and reducing the carbon footprint associated with transporting food from rural farms to urban markets.\\n\\n3. **Community Engagement and Education**: The mobile app's community features encourage interaction among users, fostering a sense of community and shared learning. This not only enhances user experience but also promotes knowledge sharing about sustainable practices, gardening techniques, and healthy eating, which can lead to increased customer loyalty and brand advocacy.\\n\\n### Potential Weaknesses\\n\\n1. **High Initial Investment and Maintenance Costs**: The upfront cost of purchasing a Smart Vertical Farming Pod may be prohibitive for some potential users, particularly in lower-income urban areas. Additionally, ongoing maintenance and subscription costs for nutrient solutions could deter users who are not fully committed to the farming lifestyle or who may not see a return on their investment.\\n\\n2. **Technical Complexity and User Adoption**: While the IoT features and mobile app provide advanced monitoring and control, they may also introduce a level of complexity that could be intimidating for less tech-savvy users. Ensuring that the system is user-friendly and providing adequate support and education will be crucial for widespread adoption.\\n\\n3. **Market Competition and Scalability**: The vertical farming industry is becoming increasingly competitive, with various players offering similar solutions. SVFP will need to differentiate itself through unique features, pricing strategies, or partnerships. Additionally, scaling the business to reach a broader market while maintaining quality and customer support could pose challenges as demand grows.\""
      ]
     },
     "execution_count": 13,
     "metadata": {},
     "output_type": "execute_result"
    }
   ],
   "source": [
    "analysis_result[\"output\"]"
   ]
  },
  {
   "cell_type": "code",
   "execution_count": 14,
   "id": "17d9588b-ff93-4140-a9ee-03103348ee0d",
   "metadata": {},
   "outputs": [
    {
     "data": {
      "text/plain": [
       "[AIMessage(content='**Business Idea: Smart Vertical Farming Pods (SVFP)**\\n\\n**Description:**\\nSmart Vertical Farming Pods (SVFP) are modular, self-sustaining farming units designed for urban environments and small-scale farmers. Each pod utilizes advanced hydroponic and aeroponic systems to grow a variety of crops year-round, regardless of external weather conditions. Equipped with IoT sensors, the pods monitor and optimize factors such as nutrient levels, humidity, temperature, and light exposure, ensuring maximum yield with minimal resource use.\\n\\nThe SVFPs can be installed in backyards, rooftops, or community spaces, making fresh produce accessible to urban dwellers. Users can control their pods via a mobile app, which provides real-time data, growth tracking, and automated care schedules. Additionally, the app includes a community feature where users can share tips, recipes, and even trade produce with neighbors.\\n\\nTo enhance sustainability, the pods are designed to use renewable energy sources, such as solar panels, and incorporate a rainwater collection system for irrigation. The business model includes direct sales of the pods, subscription services for nutrient solutions, and an online marketplace for users to sell their excess produce, fostering a local food economy.\\n\\nThis innovative approach not only addresses food security in urban areas but also promotes sustainable agricultural practices and community engagement.', additional_kwargs={'refusal': None}, response_metadata={'token_usage': {'completion_tokens': 261, 'prompt_tokens': 33, 'total_tokens': 294, 'completion_tokens_details': {'accepted_prediction_tokens': 0, 'audio_tokens': 0, 'reasoning_tokens': 0, 'rejected_prediction_tokens': 0}, 'prompt_tokens_details': {'audio_tokens': 0, 'cached_tokens': 0}}, 'model_name': 'gpt-4o-mini-2024-07-18', 'system_fingerprint': 'fp_560af6e559', 'id': 'chatcmpl-CNiXS46W0HuMsqkUjFpWQcF0xROja', 'service_tier': 'default', 'finish_reason': 'stop', 'logprobs': None}, id='run--f3e3b745-8c39-4d32-b6c9-48d74e0f636c-0', usage_metadata={'input_tokens': 33, 'output_tokens': 261, 'total_tokens': 294, 'input_token_details': {'audio': 0, 'cache_read': 0}, 'output_token_details': {'audio': 0, 'reasoning': 0}}),\n",
       " AIMessage(content=\"### Key Strengths\\n\\n1. **Sustainability and Resource Efficiency**: The Smart Vertical Farming Pods (SVFP) utilize advanced hydroponic and aeroponic systems, which are known for their efficient use of water and nutrients compared to traditional farming. The incorporation of renewable energy sources and rainwater collection further enhances sustainability, appealing to environmentally conscious consumers and aligning with global trends toward sustainable living.\\n\\n2. **Urban Food Security and Accessibility**: By enabling urban dwellers to grow their own food in limited spaces, SVFP addresses the growing concern of food security in cities. The modular design allows for installation in various urban settings, making fresh produce more accessible and reducing the carbon footprint associated with transporting food from rural farms to urban markets.\\n\\n3. **Community Engagement and Education**: The mobile app's community features encourage interaction among users, fostering a sense of community and shared learning. This not only enhances user experience but also promotes knowledge sharing about sustainable practices, gardening techniques, and healthy eating, which can lead to increased customer loyalty and brand advocacy.\\n\\n### Potential Weaknesses\\n\\n1. **High Initial Investment and Maintenance Costs**: The upfront cost of purchasing a Smart Vertical Farming Pod may be prohibitive for some potential users, particularly in lower-income urban areas. Additionally, ongoing maintenance and subscription costs for nutrient solutions could deter users who are not fully committed to the farming lifestyle or who may not see a return on their investment.\\n\\n2. **Technical Complexity and User Adoption**: While the IoT features and mobile app provide advanced monitoring and control, they may also introduce a level of complexity that could be intimidating for less tech-savvy users. Ensuring that the system is user-friendly and providing adequate support and education will be crucial for widespread adoption.\\n\\n3. **Market Competition and Scalability**: The vertical farming industry is becoming increasingly competitive, with various players offering similar solutions. SVFP will need to differentiate itself through unique features, pricing strategies, or partnerships. Additionally, scaling the business to reach a broader market while maintaining quality and customer support could pose challenges as demand grows.\", additional_kwargs={'refusal': None}, response_metadata={'token_usage': {'completion_tokens': 416, 'prompt_tokens': 290, 'total_tokens': 706, 'completion_tokens_details': {'accepted_prediction_tokens': 0, 'audio_tokens': 0, 'reasoning_tokens': 0, 'rejected_prediction_tokens': 0}, 'prompt_tokens_details': {'audio_tokens': 0, 'cached_tokens': 0}}, 'model_name': 'gpt-4o-mini-2024-07-18', 'system_fingerprint': 'fp_560af6e559', 'id': 'chatcmpl-CNiXY26Andr9bdLaqQw3MfAUtSdYz', 'service_tier': 'default', 'finish_reason': 'stop', 'logprobs': None}, id='run--0de935c2-b929-4c41-a467-96c72025f58a-0', usage_metadata={'input_tokens': 290, 'output_tokens': 416, 'total_tokens': 706, 'input_token_details': {'audio': 0, 'cache_read': 0}, 'output_token_details': {'audio': 0, 'reasoning': 0}})]"
      ]
     },
     "execution_count": 14,
     "metadata": {},
     "output_type": "execute_result"
    }
   ],
   "source": [
    "logs"
   ]
  },
  {
   "cell_type": "markdown",
   "id": "9582008d-2ce2-44ab-8232-227fba4971d3",
   "metadata": {},
   "source": [
    "## 5. Report Generation\n",
    "Craft a prompt to structure the information into a business report."
   ]
  },
  {
   "cell_type": "code",
   "execution_count": 15,
   "id": "a708d390-5bc4-45a6-9277-e11a5e030717",
   "metadata": {},
   "outputs": [],
   "source": [
    "report_prompt = PromptTemplate(\n",
    "    template=(\n",
    "        \"Here is a business analysis: \"\n",
    "        \"Strengths & Weaknesses: {output} \"\n",
    "        \"Generate a structured business report.\" \n",
    "    )\n",
    ")"
   ]
  },
  {
   "cell_type": "code",
   "execution_count": 16,
   "id": "f613ea6d-d382-48f3-b3e4-b0d3a549d6f8",
   "metadata": {},
   "outputs": [],
   "source": [
    "class AnalysisReport(BaseModel):\n",
    "    \"\"\"Strengths and Weaknesses about a business idea\"\"\"\n",
    "    strengths: list = Field(default=[], description=\"Idea's strength list\")\n",
    "    weaknesses: list = Field(default=[], description=\"Idea's weaknesse list\")"
   ]
  },
  {
   "cell_type": "code",
   "execution_count": 17,
   "id": "31b8bffc-130b-40ec-b9a7-2b3fc8ab03ee",
   "metadata": {},
   "outputs": [],
   "source": [
    "report_chain = (\n",
    "    report_prompt | llm.with_structured_output(schema=AnalysisReport, method=\"function_calling\")\n",
    ")"
   ]
  },
  {
   "cell_type": "code",
   "execution_count": 18,
   "id": "537b16ba-8d70-4215-b187-1f0946a88923",
   "metadata": {},
   "outputs": [],
   "source": [
    "report_result = report_chain.invoke(analysis_result[\"output\"])"
   ]
  },
  {
   "cell_type": "code",
   "execution_count": 19,
   "id": "5d4a4908-2c25-49d4-952b-ed16aebd9d91",
   "metadata": {},
   "outputs": [
    {
     "data": {
      "text/plain": [
       "AnalysisReport(strengths=['Sustainability and Resource Efficiency: Utilizes advanced hydroponic and aeroponic systems for efficient water and nutrient use, appealing to environmentally conscious consumers.', 'Urban Food Security and Accessibility: Enables urban dwellers to grow their own food, addressing food security concerns and reducing carbon footprint associated with food transport.', 'Community Engagement and Education: Mobile app fosters user interaction and knowledge sharing, enhancing user experience and promoting brand loyalty.'], weaknesses=['High Initial Investment and Maintenance Costs: Upfront costs may deter potential users, especially in lower-income areas, along with ongoing maintenance costs.', 'Technical Complexity and User Adoption: IoT features may intimidate less tech-savvy users, necessitating user-friendly design and support.', 'Market Competition and Scalability: Increasing competition in vertical farming requires differentiation and poses challenges in scaling while maintaining quality.'])"
      ]
     },
     "execution_count": 19,
     "metadata": {},
     "output_type": "execute_result"
    }
   ],
   "source": [
    "report_result"
   ]
  },
  {
   "cell_type": "markdown",
   "id": "a49e2e85-33ac-41de-9d6d-f5411b0ff598",
   "metadata": {},
   "source": [
    "## 6. End to End Chain"
   ]
  },
  {
   "cell_type": "code",
   "execution_count": 20,
   "id": "da390ad2-1431-445f-bf0c-d09845e533ce",
   "metadata": {},
   "outputs": [],
   "source": [
    "e2e_chain = ( \n",
    "    RunnablePassthrough() \n",
    "    | idea_chain\n",
    "    | RunnableParallel(idea=RunnablePassthrough())\n",
    "    | analysis_chain\n",
    "    | report_chain\n",
    ")"
   ]
  },
  {
   "cell_type": "code",
   "execution_count": 21,
   "id": "7efe7f27-637c-4aa6-aa85-004e2ca67c4b",
   "metadata": {},
   "outputs": [
    {
     "name": "stdout",
     "output_type": "stream",
     "text": [
      "            +------------------+         \n",
      "            | PassthroughInput |         \n",
      "            +------------------+         \n",
      "                      *                  \n",
      "                      *                  \n",
      "                      *                  \n",
      "              +-------------+            \n",
      "              | Passthrough |            \n",
      "              +-------------+            \n",
      "                      *                  \n",
      "                      *                  \n",
      "                      *                  \n",
      "             +----------------+          \n",
      "             | PromptTemplate |          \n",
      "             +----------------+          \n",
      "                      *                  \n",
      "                      *                  \n",
      "                      *                  \n",
      "               +------------+            \n",
      "               | ChatOpenAI |            \n",
      "               +------------+            \n",
      "                      *                  \n",
      "                      *                  \n",
      "                      *                  \n",
      "       +---------------------------+     \n",
      "       | Parallel<output,log>Input |     \n",
      "       +---------------------------+     \n",
      "               ***         ***           \n",
      "              *               *          \n",
      "            **                 **        \n",
      "+-----------------+          +--------+  \n",
      "| StrOutputParser |          | Lambda |  \n",
      "+-----------------+          +--------+  \n",
      "               ***         ***           \n",
      "                  *       *              \n",
      "                   **   **               \n",
      "       +----------------------------+    \n",
      "       | Parallel<output,log>Output |    \n",
      "       +----------------------------+    \n",
      "                      *                  \n",
      "                      *                  \n",
      "                      *                  \n",
      "              +-------------+            \n",
      "              | Passthrough |            \n",
      "              +-------------+            \n",
      "                      *                  \n",
      "                      *                  \n",
      "                      *                  \n",
      "             +----------------+          \n",
      "             | PromptTemplate |          \n",
      "             +----------------+          \n",
      "                      *                  \n",
      "                      *                  \n",
      "                      *                  \n",
      "               +------------+            \n",
      "               | ChatOpenAI |            \n",
      "               +------------+            \n",
      "                      *                  \n",
      "                      *                  \n",
      "                      *                  \n",
      "       +---------------------------+     \n",
      "       | Parallel<output,log>Input |     \n",
      "       +---------------------------+     \n",
      "               ***         ***           \n",
      "              *               *          \n",
      "            **                 **        \n",
      "+-----------------+          +--------+  \n",
      "| StrOutputParser |          | Lambda |  \n",
      "+-----------------+          +--------+  \n",
      "               ***         ***           \n",
      "                  *       *              \n",
      "                   **   **               \n",
      "       +----------------------------+    \n",
      "       | Parallel<output,log>Output |    \n",
      "       +----------------------------+    \n",
      "                      *                  \n",
      "                      *                  \n",
      "                      *                  \n",
      "             +----------------+          \n",
      "             | PromptTemplate |          \n",
      "             +----------------+          \n",
      "                      *                  \n",
      "                      *                  \n",
      "                      *                  \n",
      "               +------------+            \n",
      "               | ChatOpenAI |            \n",
      "               +------------+            \n",
      "                      *                  \n",
      "                      *                  \n",
      "                      *                  \n",
      "          +---------------------+        \n",
      "          | PydanticToolsParser |        \n",
      "          +---------------------+        \n",
      "                      *                  \n",
      "                      *                  \n",
      "                      *                  \n",
      "       +---------------------------+     \n",
      "       | PydanticToolsParserOutput |     \n",
      "       +---------------------------+     \n"
     ]
    }
   ],
   "source": [
    "e2e_chain.get_graph().print_ascii()"
   ]
  },
  {
   "cell_type": "code",
   "execution_count": 22,
   "id": "f3be27ab-d687-4450-958a-cd65bcb2ecc0",
   "metadata": {},
   "outputs": [],
   "source": [
    "# Change the industry if you want\n",
    "e2e_result = e2e_chain.invoke(\"agro\")"
   ]
  },
  {
   "cell_type": "code",
   "execution_count": 24,
   "id": "e956e2af-c1bd-4ac4-b753-ba3caf89794a",
   "metadata": {},
   "outputs": [
    {
     "data": {
      "text/plain": [
       "AnalysisReport(strengths=['Sustainability and Local Food Production', 'Technological Integration', 'Community Engagement and Education'], weaknesses=['High Initial Investment', 'Maintenance and Technical Issues', 'Market Competition and Adoption'])"
      ]
     },
     "execution_count": 24,
     "metadata": {},
     "output_type": "execute_result"
    }
   ],
   "source": [
    "e2e_result"
   ]
  },
  {
   "cell_type": "code",
   "execution_count": 25,
   "id": "43046d80-bcb5-4e1e-be98-3ecd3d7c0538",
   "metadata": {},
   "outputs": [
    {
     "data": {
      "text/plain": [
       "['Sustainability and Local Food Production',\n",
       " 'Technological Integration',\n",
       " 'Community Engagement and Education']"
      ]
     },
     "execution_count": 25,
     "metadata": {},
     "output_type": "execute_result"
    }
   ],
   "source": [
    "e2e_result.strengths"
   ]
  },
  {
   "cell_type": "code",
   "execution_count": 27,
   "id": "8d04cc59-8130-417d-bdd9-3f60d6f587d4",
   "metadata": {},
   "outputs": [
    {
     "data": {
      "text/plain": [
       "['High Initial Investment',\n",
       " 'Maintenance and Technical Issues',\n",
       " 'Market Competition and Adoption']"
      ]
     },
     "execution_count": 27,
     "metadata": {},
     "output_type": "execute_result"
    }
   ],
   "source": [
    "e2e_result.weaknesses"
   ]
  },
  {
   "cell_type": "code",
   "execution_count": 28,
   "id": "9dcebe07-6d5f-437a-9760-161cfbcacd7c",
   "metadata": {},
   "outputs": [
    {
     "data": {
      "text/plain": [
       "[AIMessage(content='**Business Idea: Smart Vertical Farming Pods (SVFP)**\\n\\n**Description:**\\nSmart Vertical Farming Pods (SVFP) are modular, self-sustaining farming units designed for urban environments and small-scale farmers. Each pod utilizes advanced hydroponic and aeroponic systems to grow a variety of crops year-round, regardless of external weather conditions. Equipped with IoT sensors, the pods monitor and optimize factors such as nutrient levels, humidity, temperature, and light exposure, ensuring maximum yield with minimal resource use.\\n\\nThe SVFPs can be installed in backyards, rooftops, or community spaces, making fresh produce accessible to urban dwellers. Users can control their pods via a mobile app, which provides real-time data, growth tracking, and automated care schedules. Additionally, the app includes a community feature where users can share tips, recipes, and even trade produce with neighbors.\\n\\nTo enhance sustainability, the pods are designed to use renewable energy sources, such as solar panels, and incorporate a rainwater collection system for irrigation. The business model includes direct sales of the pods, subscription services for nutrient solutions, and an online marketplace for users to sell their excess produce, fostering a local food economy.\\n\\nThis innovative approach not only addresses food security in urban areas but also promotes sustainable agricultural practices and community engagement.', additional_kwargs={'refusal': None}, response_metadata={'token_usage': {'completion_tokens': 261, 'prompt_tokens': 33, 'total_tokens': 294, 'completion_tokens_details': {'accepted_prediction_tokens': 0, 'audio_tokens': 0, 'reasoning_tokens': 0, 'rejected_prediction_tokens': 0}, 'prompt_tokens_details': {'audio_tokens': 0, 'cached_tokens': 0}}, 'model_name': 'gpt-4o-mini-2024-07-18', 'system_fingerprint': 'fp_560af6e559', 'id': 'chatcmpl-CNiXS46W0HuMsqkUjFpWQcF0xROja', 'service_tier': 'default', 'finish_reason': 'stop', 'logprobs': None}, id='run--f3e3b745-8c39-4d32-b6c9-48d74e0f636c-0', usage_metadata={'input_tokens': 33, 'output_tokens': 261, 'total_tokens': 294, 'input_token_details': {'audio': 0, 'cache_read': 0}, 'output_token_details': {'audio': 0, 'reasoning': 0}}),\n",
       " AIMessage(content=\"### Key Strengths\\n\\n1. **Sustainability and Resource Efficiency**: The Smart Vertical Farming Pods (SVFP) utilize advanced hydroponic and aeroponic systems, which are known for their efficient use of water and nutrients compared to traditional farming. The incorporation of renewable energy sources and rainwater collection further enhances sustainability, appealing to environmentally conscious consumers and aligning with global trends toward sustainable living.\\n\\n2. **Urban Food Security and Accessibility**: By enabling urban dwellers to grow their own food in limited spaces, SVFP addresses the growing concern of food security in cities. The modular design allows for installation in various urban settings, making fresh produce more accessible and reducing the carbon footprint associated with transporting food from rural farms to urban markets.\\n\\n3. **Community Engagement and Education**: The mobile app's community features encourage interaction among users, fostering a sense of community and shared learning. This not only enhances user experience but also promotes knowledge sharing about sustainable practices, gardening techniques, and healthy eating, which can lead to increased customer loyalty and brand advocacy.\\n\\n### Potential Weaknesses\\n\\n1. **High Initial Investment and Maintenance Costs**: The upfront cost of purchasing a Smart Vertical Farming Pod may be prohibitive for some potential users, particularly in lower-income urban areas. Additionally, ongoing maintenance and subscription costs for nutrient solutions could deter users who are not fully committed to the farming lifestyle or who may not see a return on their investment.\\n\\n2. **Technical Complexity and User Adoption**: While the IoT features and mobile app provide advanced monitoring and control, they may also introduce a level of complexity that could be intimidating for less tech-savvy users. Ensuring that the system is user-friendly and providing adequate support and education will be crucial for widespread adoption.\\n\\n3. **Market Competition and Scalability**: The vertical farming industry is becoming increasingly competitive, with various players offering similar solutions. SVFP will need to differentiate itself through unique features, pricing strategies, or partnerships. Additionally, scaling the business to reach a broader market while maintaining quality and customer support could pose challenges as demand grows.\", additional_kwargs={'refusal': None}, response_metadata={'token_usage': {'completion_tokens': 416, 'prompt_tokens': 290, 'total_tokens': 706, 'completion_tokens_details': {'accepted_prediction_tokens': 0, 'audio_tokens': 0, 'reasoning_tokens': 0, 'rejected_prediction_tokens': 0}, 'prompt_tokens_details': {'audio_tokens': 0, 'cached_tokens': 0}}, 'model_name': 'gpt-4o-mini-2024-07-18', 'system_fingerprint': 'fp_560af6e559', 'id': 'chatcmpl-CNiXY26Andr9bdLaqQw3MfAUtSdYz', 'service_tier': 'default', 'finish_reason': 'stop', 'logprobs': None}, id='run--0de935c2-b929-4c41-a467-96c72025f58a-0', usage_metadata={'input_tokens': 290, 'output_tokens': 416, 'total_tokens': 706, 'input_token_details': {'audio': 0, 'cache_read': 0}, 'output_token_details': {'audio': 0, 'reasoning': 0}}),\n",
       " AIMessage(content='**Business Idea: Smart Vertical Farming Pods (SVFP)**\\n\\n**Description:**\\nSmart Vertical Farming Pods (SVFP) are modular, self-sustaining farming units designed for urban environments, allowing individuals and small businesses to grow fresh produce year-round, regardless of climate conditions. Each pod is equipped with advanced hydroponic systems, automated climate control, and IoT sensors that monitor plant health, nutrient levels, and environmental conditions.\\n\\nThe SVFPs can be installed in backyards, rooftops, or even as part of community gardens, promoting local food production and reducing the carbon footprint associated with transporting food. Users can connect to a mobile app that provides real-time data, growth tips, and the ability to order seeds and nutrients tailored to their specific crops.\\n\\nAdditionally, the business can offer subscription services for seasonal seed kits, nutrient packs, and access to an online community for sharing tips and recipes. By combining technology with sustainable agriculture, SVFP not only empowers individuals to grow their own food but also fosters a sense of community and environmental responsibility.', additional_kwargs={'refusal': None}, response_metadata={'token_usage': {'completion_tokens': 210, 'prompt_tokens': 33, 'total_tokens': 243, 'completion_tokens_details': {'accepted_prediction_tokens': 0, 'audio_tokens': 0, 'reasoning_tokens': 0, 'rejected_prediction_tokens': 0}, 'prompt_tokens_details': {'audio_tokens': 0, 'cached_tokens': 0}}, 'model_name': 'gpt-4o-mini-2024-07-18', 'system_fingerprint': 'fp_560af6e559', 'id': 'chatcmpl-CNiY5eYej71sSQPCm857nnjnp9qPS', 'service_tier': 'default', 'finish_reason': 'stop', 'logprobs': None}, id='run--3470b7db-e277-4ce1-8df8-d416a8599a07-0', usage_metadata={'input_tokens': 33, 'output_tokens': 210, 'total_tokens': 243, 'input_token_details': {'audio': 0, 'cache_read': 0}, 'output_token_details': {'audio': 0, 'reasoning': 0}}),\n",
       " AIMessage(content='### Key Strengths:\\n\\n1. **Sustainability and Local Food Production**: The Smart Vertical Farming Pods (SVFP) promote sustainable agriculture by enabling local food production. This reduces the carbon footprint associated with transporting food and encourages individuals to grow their own fresh produce, which can lead to healthier eating habits and increased food security.\\n\\n2. **Technological Integration**: The incorporation of advanced hydroponic systems, automated climate control, and IoT sensors provides users with a high-tech solution that simplifies the farming process. The mobile app enhances user experience by offering real-time data, growth tips, and tailored nutrient solutions, making it accessible even for those without prior gardening experience.\\n\\n3. **Community Engagement and Education**: By fostering a sense of community through shared gardening experiences and an online platform for tips and recipes, SVFP can create a supportive network of users. This community aspect can enhance customer loyalty and encourage more people to participate in urban farming initiatives.\\n\\n### Potential Weaknesses:\\n\\n1. **High Initial Investment**: The cost of developing and manufacturing the SVFPs, along with the technology integration, may result in a high initial investment. This could limit accessibility for some potential users, particularly in lower-income urban areas where the need for affordable food solutions is greatest.\\n\\n2. **Maintenance and Technical Issues**: While the technology aims to simplify the farming process, users may still face challenges related to maintenance, troubleshooting, and technical issues. If the systems are not user-friendly or if support is inadequate, it could lead to frustration and deter potential customers.\\n\\n3. **Market Competition and Adoption**: The market for urban farming solutions is becoming increasingly competitive, with various players offering similar products. Additionally, convincing individuals and small businesses to adopt this technology may be challenging, especially if they are accustomed to traditional gardening methods or if they perceive the SVFP as unnecessary or too complex.', additional_kwargs={'refusal': None}, response_metadata={'token_usage': {'completion_tokens': 376, 'prompt_tokens': 254, 'total_tokens': 630, 'completion_tokens_details': {'accepted_prediction_tokens': 0, 'audio_tokens': 0, 'reasoning_tokens': 0, 'rejected_prediction_tokens': 0}, 'prompt_tokens_details': {'audio_tokens': 0, 'cached_tokens': 0}}, 'model_name': 'gpt-4o-mini-2024-07-18', 'system_fingerprint': 'fp_51db84afab', 'id': 'chatcmpl-CNiY7P0uHRvExRGUQhpMAHrES80nL', 'service_tier': 'default', 'finish_reason': 'stop', 'logprobs': None}, id='run--5485e9a0-42b5-4275-b398-ae11036d8dd3-0', usage_metadata={'input_tokens': 254, 'output_tokens': 376, 'total_tokens': 630, 'input_token_details': {'audio': 0, 'cache_read': 0}, 'output_token_details': {'audio': 0, 'reasoning': 0}})]"
      ]
     },
     "execution_count": 28,
     "metadata": {},
     "output_type": "execute_result"
    }
   ],
   "source": [
    "logs"
   ]
  },
  {
   "cell_type": "markdown",
   "id": "87f8c1bf-48e3-4fd7-b29d-35a92941026f",
   "metadata": {},
   "source": [
    "## 7. Experiment\n",
    "Now that you understood how it works, experiment with new things.\n",
    "\n",
    "Improve memory\n",
    "Explore the Runnables\n",
    "Add More Complexity"
   ]
  },
  {
   "cell_type": "code",
   "execution_count": null,
   "id": "7d6a3ded-d3b7-4eb5-b14c-3d27c80d4985",
   "metadata": {},
   "outputs": [],
   "source": []
  }
 ],
 "metadata": {
  "kernelspec": {
   "display_name": "Python 3 (ipykernel)",
   "language": "python",
   "name": "python3"
  },
  "language_info": {
   "codemirror_mode": {
    "name": "ipython",
    "version": 3
   },
   "file_extension": ".py",
   "mimetype": "text/x-python",
   "name": "python",
   "nbconvert_exporter": "python",
   "pygments_lexer": "ipython3",
   "version": "3.13.7"
  }
 },
 "nbformat": 4,
 "nbformat_minor": 5
}
