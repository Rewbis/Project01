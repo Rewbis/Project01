{
 "cells": [
  {
   "cell_type": "markdown",
   "id": "25f11b38-5512-4df4-9bd4-9e8125a9b7ac",
   "metadata": {},
   "source": [
    "Demo: Making Agents to Interact with Each Other\n"
   ]
  },
  {
   "cell_type": "markdown",
   "id": "a085b491-dd4b-4a62-8e8e-8c982f20d226",
   "metadata": {},
   "source": [
    "1. Setup and Imports\n",
    "Required libraries are imported, environment variables loaded, and the OpenAI client instantiated.\n",
    "Supporting classes and components are reused:\n",
    "Memory for conversation tracking\n",
    "Tool abstraction to define functions\n",
    "StopReactLoopException and call_termination() for stopping loops"
   ]
  },
  {
   "cell_type": "code",
   "execution_count": 15,
   "id": "847543ec-b02e-4691-8ea3-3ac61d5fa42f",
   "metadata": {},
   "outputs": [
    {
     "name": "stdout",
     "output_type": "stream",
     "text": [
      "Model count: 84\n"
     ]
    }
   ],
   "source": [
    "import datetime\n",
    "import inspect\n",
    "import json\n",
    "from typing import (\n",
    "    List,\n",
    "    Dict,\n",
    "    Literal,\n",
    "    Callable,\n",
    "    Any,\n",
    "    get_type_hints\n",
    ")\n",
    "\n",
    "\n",
    "from openai import OpenAI\n",
    "from openai.types.chat.chat_completion_message import ChatCompletionMessage\n",
    "from openai.types.chat.chat_completion_message_tool_call import ChatCompletionMessageToolCall\n",
    "\n",
    "from openai import OpenAI\n",
    "client = OpenAI()  # reads OPENAI_API_KEY from env\n",
    "\n",
    "# Auth + connectivity check\n",
    "models = client.models.list()\n",
    "print(\"Model count:\", len(models.data))"
   ]
  },
  {
   "cell_type": "markdown",
   "id": "9b611704-9b3f-4ec5-a91b-bfc6f39fddc4",
   "metadata": {},
   "source": [
    "Define classes"
   ]
  },
  {
   "cell_type": "code",
   "execution_count": 2,
   "id": "35aefa5f-0000-47a6-b656-c7f9efbc4457",
   "metadata": {},
   "outputs": [],
   "source": [
    "class Memory:\n",
    "    def __init__(self):\n",
    "        self._messages: List[Dict[str, str]] = []\n",
    "    \n",
    "    def add_message(self, \n",
    "                    role: Literal['user', 'system', 'assistant', 'tool'], \n",
    "                    content: str,\n",
    "                    tool_calls: dict=dict(),\n",
    "                    tool_call_id=None)-> None:\n",
    "\n",
    "        message = {\n",
    "            \"role\": role,\n",
    "            \"content\": content,\n",
    "            \"tool_calls\": tool_calls,\n",
    "        }\n",
    "\n",
    "        if role == \"tool\":\n",
    "            message = {\n",
    "                \"role\": role,\n",
    "                \"content\": content,\n",
    "                \"tool_call_id\": tool_call_id,\n",
    "            }\n",
    "\n",
    "        self._messages.append(message)\n",
    "\n",
    "    def get_messages(self) -> List[Dict[str, str]]:\n",
    "        return self._messages\n",
    "\n",
    "    def last_message(self) -> None:\n",
    "        if self._messages:\n",
    "            return self._messages[-1]\n",
    "\n",
    "    def reset(self) -> None:\n",
    "        self._messages = []"
   ]
  },
  {
   "cell_type": "markdown",
   "id": "fd39720e-d02a-47f3-9e47-c827c6b3a003",
   "metadata": {},
   "source": [
    "More:"
   ]
  },
  {
   "cell_type": "code",
   "execution_count": 3,
   "id": "7f17bcfb-bb16-4be2-a40e-e1583b987173",
   "metadata": {},
   "outputs": [],
   "source": [
    "class Tool:\n",
    "    def __init__(self, func:Callable):\n",
    "        self.func = func\n",
    "        self.name = func.__name__\n",
    "        self.description = func.__doc__\n",
    "        self.argument_types_map = get_type_hints(func)\n",
    "        self.signature = inspect.signature(func)\n",
    "        self.arguments = [\n",
    "            {\n",
    "                \"name\": key, \n",
    "                \"type\": self._infer_json_schema_type(value),\n",
    "                \"required\": param.default == inspect.Parameter.empty\n",
    "            } \n",
    "            for key, value in self.argument_types_map.items()\n",
    "            if (param := self.signature.parameters.get(key))\n",
    "        ]\n",
    "\n",
    "    def dict(self):\n",
    "        return {\n",
    "            \"type\": \"function\",\n",
    "            \"function\": {\n",
    "                \"name\": self.name,\n",
    "                \"description\": self.description,\n",
    "                \"parallel_tool_calls\": False,\n",
    "                \"parameters\": {\n",
    "                    \"type\": \"object\",\n",
    "                    \"properties\": {\n",
    "                        argument[\"name\"]: {\n",
    "                            \"type\": argument[\"type\"],\n",
    "                        }\n",
    "                        for argument in self.arguments\n",
    "                    },\n",
    "                    \"required\": [\n",
    "                        argument[\"name\"] \n",
    "                        for argument in self.arguments \n",
    "                        if argument[\"required\"]\n",
    "                    ],\n",
    "                    \"additionalProperties\": False,\n",
    "                },\n",
    "                \"strict\": True\n",
    "            }\n",
    "        }\n",
    "\n",
    "    def __call__(self, *args, **kwargs):\n",
    "        return self.func(*args, **kwargs)\n",
    "    \n",
    "    def _infer_json_schema_type(self, arg_type: Any) -> str:\n",
    "        if arg_type == bool:\n",
    "            return \"boolean\"\n",
    "        elif arg_type == int:\n",
    "            return \"integer\"\n",
    "        elif arg_type == float:\n",
    "            return \"number\"\n",
    "        elif arg_type == str:\n",
    "            return \"string\"\n",
    "        elif arg_type == list:\n",
    "            return \"array\"\n",
    "        elif arg_type == dict:\n",
    "            return \"object\"\n",
    "        elif arg_type is None:\n",
    "            return \"null\"\n",
    "        elif arg_type == datetime.date or arg_type == datetime.datetime:\n",
    "            return \"string\"  # JSON Schema treats dates as strings\n",
    "        else:\n",
    "            return \"string\"  # Default to string if type is unknown"
   ]
  },
  {
   "cell_type": "code",
   "execution_count": 4,
   "id": "b6af172a-60b4-473c-84eb-012af06327b4",
   "metadata": {},
   "outputs": [],
   "source": [
    "class StopReactLoopException(Exception):\n",
    "    \"\"\"\n",
    "    Terminates ReAct loop\n",
    "    \"\"\""
   ]
  },
  {
   "cell_type": "code",
   "execution_count": 5,
   "id": "87517b63-fa84-47ed-9322-ac82e2ae6b5e",
   "metadata": {},
   "outputs": [],
   "source": [
    "TERMINATION_MESSAGE = \"StopReactLoopException\""
   ]
  },
  {
   "cell_type": "code",
   "execution_count": 6,
   "id": "c0489090-673c-49ed-b33f-223013fa088a",
   "metadata": {},
   "outputs": [],
   "source": [
    "def termination()-> str:\n",
    "    \"\"\"Terminate the ReAct loop. If the agent thinks there's no further actions to take\"\"\"\n",
    "    return TERMINATION_MESSAGE "
   ]
  },
  {
   "cell_type": "markdown",
   "id": "bf32c123-5145-4323-950c-51c3da682119",
   "metadata": {},
   "source": [
    "2. New Tool: call_peer_agent\n",
    "This tool enables one agent to invoke another.\n",
    "Function is defined and wrapped with the required metadata for function calling."
   ]
  },
  {
   "cell_type": "code",
   "execution_count": 7,
   "id": "9e265fcc-62ed-471d-b63f-278b2b2452ca",
   "metadata": {},
   "outputs": [],
   "source": [
    "def call_peer_agent(agent_name:str, message:str)->Dict[str,str]:\n",
    "    \"\"\"\n",
    "    Based on the task at hand and the available agents, call one to perform it.\n",
    "    Tell the agent with a message the exact task it needs to perform just like if you were the user.\n",
    "    \"\"\"\n",
    "    return {\n",
    "        \"agent_name\": agent_name,\n",
    "        \"message\": message\n",
    "    }"
   ]
  },
  {
   "cell_type": "markdown",
   "id": "8777d87a-f1f4-4038-8502-481225a6cc77",
   "metadata": {},
   "source": [
    "3. Agent Class Enhancements\n",
    "The Agent class is modified to support a list of peer agents.\n",
    "When a peer agent is provided, the call_peer_agent function is automatically registered.\n",
    "Peer agents are stored in a dictionary for easy access by name.\n",
    "The call_tools() method is updated to:\n",
    "Detect tool calls to call_peer_agent\n",
    "Forward the delegated message to the appropriate agent\n",
    "Capture and return the peer agent's response"
   ]
  },
  {
   "cell_type": "code",
   "execution_count": 8,
   "id": "3c42dd96-6552-49c1-abce-a5f5a9f11d08",
   "metadata": {},
   "outputs": [],
   "source": [
    "class Agent:\n",
    "    \"\"\"A tool-calling AI Agent\"\"\"\n",
    "\n",
    "    def __init__(\n",
    "        self,\n",
    "        name:str, # This is the id of your agent, and should be unique\n",
    "        role:str = \"Personal Assistant\",\n",
    "        instructions:str = \"Help users with any question\",\n",
    "        model:str = \"gpt-4o-mini\",\n",
    "        temperature:float = 0.0,\n",
    "        tools:List[Tool] = [],\n",
    "        peer_agents:List[\"Agent\"]=None,\n",
    "    ):\n",
    "        self.name = name if name else self._default_agent_name()\n",
    "        self.role = role\n",
    "        self.instructions = instructions\n",
    "        self.model = model\n",
    "        self.temperature = temperature\n",
    "        self.client = OpenAI()\n",
    "        self.tools = tools\n",
    "        self.termination_message = TERMINATION_MESSAGE\n",
    "        self._register_tool(Tool(termination))\n",
    "        self.peer_agents = peer_agents\n",
    "        if peer_agents:\n",
    "            self._register_tool(Tool(call_peer_agent))\n",
    "            self.peer_agents = [\n",
    "                {\n",
    "                    \"name\": agent.name, \n",
    "                    \"role\":agent.role, \n",
    "                    \"instructions\":agent.instructions\n",
    "                }\n",
    "                for agent in peer_agents\n",
    "            ]\n",
    "            self.peer_agents_map = {\n",
    "                agent.name: agent\n",
    "                for agent in peer_agents\n",
    "            }\n",
    "        self.tool_map = {t.name:t for t in tools}\n",
    "        self.openai_tools = [t.dict() for t in self.tools] if self.tools else None\n",
    "        self.memory = Memory()\n",
    "\n",
    "        self.memory.add_message(\n",
    "            role=\"system\",\n",
    "            content=f\"You're an AI Agent, your role is {self.role}, \" \n",
    "                    f\"and you need to {self.instructions} \"\n",
    "                    \"You can answer multistep questions by sequentially calling functions. \"\n",
    "                    \"You follow a pattern of of Thought and Action. \"\n",
    "                    \"Create a plan of execution: \"\n",
    "                    \"- Use Thought to describe your thoughts about the question you have been asked. \"\n",
    "                    \"- Use Action to specify one of the tools available to you. \"\n",
    "                    \"When you think it's over call the termination tool. \"\n",
    "                    \"Never try to respond directly if the question needs a tool.\"\n",
    "                    \"The actions you have are the Tools: \"\n",
    "                    \"```\\n\"\n",
    "                    f\"{self.openai_tools} \"\n",
    "                    \"```\\n\"\n",
    "                    \"The call_agents tool is to call one of the following peer agents: \"\n",
    "                    f\"{self.peer_agents} \",\n",
    "        )\n",
    "    \n",
    "    def invoke(self, user_message: str, max_iter:int=3) -> str:\n",
    "        self.memory.add_message(\n",
    "            role=\"user\",\n",
    "            content=user_message,\n",
    "        )\n",
    "        try:\n",
    "            self._react_loop(max_iter)\n",
    "        except StopReactLoopException as e:\n",
    "            print(f\"Termninated loop with message: '{e!s}'\")\n",
    "            self._reason()\n",
    "\n",
    "        return self.memory.last_message()\n",
    "\n",
    "    def _react_loop(self, max_iter:int):\n",
    "        for i in range(max_iter):\n",
    "            self._reason()\n",
    "\n",
    "            ai_message = self._get_completion(\n",
    "                messages = self.memory.get_messages(),\n",
    "                tools=self.openai_tools,\n",
    "            )\n",
    "            tool_calls = ai_message.tool_calls\n",
    "            \n",
    "            self.memory.add_message(\n",
    "                role=\"assistant\",\n",
    "                content=ai_message.content,\n",
    "                tool_calls=tool_calls,\n",
    "            )\n",
    "\n",
    "            if tool_calls:\n",
    "                self._call_tools(tool_calls)\n",
    "\n",
    "    def _reason(self):\n",
    "        # No tools\n",
    "        ai_message = self._get_completion(\n",
    "            messages = self.memory.get_messages(),\n",
    "        )\n",
    "\n",
    "        self.memory.add_message(\n",
    "            role=\"assistant\",\n",
    "            content=ai_message.content,\n",
    "            tool_calls=None,\n",
    "        )\n",
    "\n",
    "    def _call_tools(self, tool_calls:List[ChatCompletionMessageToolCall]):\n",
    "        for t in tool_calls:\n",
    "            tool_call_id = t.id\n",
    "            function_name = t.function.name\n",
    "            args = json.loads(t.function.arguments)\n",
    "            callable_tool = self.tool_map[function_name]\n",
    "            result = callable_tool(**args)\n",
    "\n",
    "            if function_name == \"call_peer_agent\":\n",
    "                print(result)\n",
    "                agent_name = result[\"agent_name\"]\n",
    "                message = result[\"message\"]\n",
    "                peer_agent = self.peer_agents_map[agent_name]\n",
    "                result = peer_agent.invoke(message)\n",
    "            \n",
    "            self.memory.add_message(\n",
    "                role=\"tool\", \n",
    "                content=str(result), \n",
    "                tool_call_id=tool_call_id\n",
    "            )\n",
    "            if result == TERMINATION_MESSAGE:\n",
    "                raise StopReactLoopException(TERMINATION_MESSAGE)\n",
    "            \n",
    "\n",
    "    def _get_completion(self, messages:List[Dict], tools:List=None)-> ChatCompletionMessage:\n",
    "        response = self.client.chat.completions.create(\n",
    "            model=self.model,\n",
    "            temperature=self.temperature,\n",
    "            messages=messages,\n",
    "            tools=tools,\n",
    "        )\n",
    "        \n",
    "        return response.choices[0].message\n",
    "\n",
    "    def _register_tool(self, tool:Tool):\n",
    "        self.tools.append(tool)\n",
    "\n",
    "    def _default_agent_name(self):\n",
    "        for var_name, obj in globals().items():\n",
    "            if obj is self:\n",
    "                return var_name\n",
    "        return None \n"
   ]
  },
  {
   "cell_type": "code",
   "execution_count": 9,
   "id": "301ecf20-e772-44d0-a973-46ce4fd984fe",
   "metadata": {},
   "outputs": [],
   "source": [
    "def power(base:float, exponent:float):\n",
    "    \"\"\"Exponentatiation: base to the power of exponent\"\"\"\n",
    "    \n",
    "    return base ** exponent"
   ]
  },
  {
   "cell_type": "code",
   "execution_count": 10,
   "id": "2dd37a70-cae0-43ea-8a53-3cd311e76321",
   "metadata": {},
   "outputs": [],
   "source": [
    "def sum(number_1:float, number_2:float):\n",
    "    \"\"\"Sum / Addition: Add two numbers\"\"\"\n",
    "    \n",
    "    return number_1 + number_2"
   ]
  },
  {
   "cell_type": "markdown",
   "id": "9936b91b-e758-4504-84f2-39a2b93d18ab",
   "metadata": {},
   "source": [
    "4. Defining Specialized Agents\n",
    "Three agents are created:\n",
    "\n",
    "exponentiation_agent:\n",
    "Role: Handles exponentiation.\n",
    "Tool: power(base, exponent)\n",
    "summing_agent:\n",
    "Role: Performs addition.\n",
    "Tool: sum_numbers(a, b)\n",
    "supervisor_agent:\n",
    "Role: Delegates tasks.\n",
    "Tools: Only call_peer_agent.\n",
    "Peer agents: exponentiation_agent and summing_agent"
   ]
  },
  {
   "cell_type": "code",
   "execution_count": 11,
   "id": "4ae650b8-f6ac-4752-a081-f32114bb3ce4",
   "metadata": {},
   "outputs": [],
   "source": [
    "exponentiation_agent = Agent(\n",
    "    name=\"exponentiation_agent\",\n",
    "    role=\"Do the exponentation of a base to the power of an exponent\",\n",
    "    instructions=\"Help your peers with exponentiation problems\",\n",
    "    tools=[Tool(power)]\n",
    ")"
   ]
  },
  {
   "cell_type": "code",
   "execution_count": 12,
   "id": "6b62be28-f892-4169-98eb-e4fa62795cf8",
   "metadata": {},
   "outputs": [],
   "source": [
    "summing_agent = Agent(\n",
    "    name=\"summing_agent\",\n",
    "    role=\"Sum two numbers\",\n",
    "    instructions=\"Help your peers with addition problems\",\n",
    "    tools=[Tool(sum)]\n",
    ")"
   ]
  },
  {
   "cell_type": "code",
   "execution_count": 13,
   "id": "1572e357-fc0e-4c5b-928d-fd5b111600bb",
   "metadata": {},
   "outputs": [],
   "source": [
    "agent = Agent(\n",
    "    \"assistant\", \n",
    "    peer_agents=[summing_agent, exponentiation_agent]\n",
    ")"
   ]
  },
  {
   "cell_type": "markdown",
   "id": "d1ad3ddd-191a-4975-8c59-24555c993538",
   "metadata": {},
   "source": [
    "5. Execution Flow\n",
    "The supervisor agent receives the query: \"What’s 2^3 then add 10 to the result?\"\n",
    "\n",
    "Execution trace:\n",
    "\n",
    "Thought: I need to calculate 2^3.\n",
    "Action: Call exponentiation_agent → result is 8.\n",
    "Thought: I now need to add 10 to 8.\n",
    "Action: Call summing_agent → result is 18.\n",
    "Thought: Task complete.\n",
    "Action: Call termination function.\n",
    "Final response: \"The final result of 2^3 + 10 is 18.\""
   ]
  },
  {
   "cell_type": "code",
   "execution_count": 16,
   "id": "02f0ad45-27d1-4e7c-9305-6477b9cfbfde",
   "metadata": {},
   "outputs": [
    {
     "name": "stdout",
     "output_type": "stream",
     "text": [
      "{'agent_name': 'exponentiation_agent', 'message': 'Calculate 2 to the power of 3.'}\n",
      "Termninated loop with message: 'StopReactLoopException'\n",
      "Termninated loop with message: 'StopReactLoopException'\n"
     ]
    },
    {
     "data": {
      "text/plain": [
       "{'role': 'assistant',\n",
       " 'content': 'The result of \\\\(2\\\\) to the power of \\\\(3\\\\) is \\\\(8\\\\). Adding \\\\(10\\\\) to that gives \\\\(18\\\\).',\n",
       " 'tool_calls': None}"
      ]
     },
     "execution_count": 16,
     "metadata": {},
     "output_type": "execute_result"
    }
   ],
   "source": [
    "agent.invoke(\"What's 2 to the power of 3? Then add 10 to the result\")"
   ]
  },
  {
   "cell_type": "markdown",
   "id": "9993dd14-80ce-4619-bbc8-c3220ac03a14",
   "metadata": {},
   "source": [
    "6. Inspecting Agent Memories\n",
    "Each agent maintains its own memory.\n",
    "supervisor_agent memory includes:\n",
    "User question\n",
    "Thoughts\n",
    "Tool calls (to peer agents)\n",
    "exponentiation_agent memory:\n",
    "Instruction to compute 2^3\n",
    "Result of 8\n",
    "summing_agent memory:\n",
    "Instruction to compute 8 + 10\n",
    "Result of 18"
   ]
  },
  {
   "cell_type": "code",
   "execution_count": 17,
   "id": "75ad605e-2e30-43a3-b7ef-4de9a850e006",
   "metadata": {},
   "outputs": [
    {
     "data": {
      "text/plain": [
       "[{'role': 'system',\n",
       "  'content': 'You\\'re an AI Agent, your role is Personal Assistant, and you need to Help users with any question You can answer multistep questions by sequentially calling functions. You follow a pattern of of Thought and Action. Create a plan of execution: - Use Thought to describe your thoughts about the question you have been asked. - Use Action to specify one of the tools available to you. When you think it\\'s over call the termination tool. Never try to respond directly if the question needs a tool.The actions you have are the Tools: ```\\n[{\\'type\\': \\'function\\', \\'function\\': {\\'name\\': \\'termination\\', \\'description\\': \"Terminate the ReAct loop. If the agent thinks there\\'s no further actions to take\", \\'parallel_tool_calls\\': False, \\'parameters\\': {\\'type\\': \\'object\\', \\'properties\\': {}, \\'required\\': [], \\'additionalProperties\\': False}, \\'strict\\': True}}, {\\'type\\': \\'function\\', \\'function\\': {\\'name\\': \\'call_peer_agent\\', \\'description\\': \\'\\\\nBased on the task at hand and the available agents, call one to perform it.\\\\nTell the agent with a message the exact task it needs to perform just like if you were the user.\\\\n\\', \\'parallel_tool_calls\\': False, \\'parameters\\': {\\'type\\': \\'object\\', \\'properties\\': {\\'agent_name\\': {\\'type\\': \\'string\\'}, \\'message\\': {\\'type\\': \\'string\\'}}, \\'required\\': [\\'agent_name\\', \\'message\\'], \\'additionalProperties\\': False}, \\'strict\\': True}}] ```\\nThe call_agents tool is to call one of the following peer agents: [{\\'name\\': \\'summing_agent\\', \\'role\\': \\'Sum two numbers\\', \\'instructions\\': \\'Help your peers with addition problems\\'}, {\\'name\\': \\'exponentiation_agent\\', \\'role\\': \\'Do the exponentation of a base to the power of an exponent\\', \\'instructions\\': \\'Help your peers with exponentiation problems\\'}] ',\n",
       "  'tool_calls': {}},\n",
       " {'role': 'user',\n",
       "  'content': \"What's 2 to the power of 3? Then add 10 to the result\",\n",
       "  'tool_calls': {}},\n",
       " {'role': 'assistant',\n",
       "  'content': 'Thought: To solve the problem, I need to first calculate \\\\(2\\\\) raised to the power of \\\\(3\\\\), which is \\\\(2^3\\\\). After that, I will add \\\\(10\\\\) to the result of that calculation. Since I need to perform exponentiation, I will call the exponentiation agent to handle the first part of the calculation.\\n\\nAction: I will call the exponentiation agent to calculate \\\\(2^3\\\\). \\n\\nCalling the agent now.',\n",
       "  'tool_calls': None},\n",
       " {'role': 'user',\n",
       "  'content': \"What's 2 to the power of 3? Then add 10 to the result\",\n",
       "  'tool_calls': {}},\n",
       " {'role': 'assistant',\n",
       "  'content': 'Thought: To solve the problem, I need to first calculate \\\\(2\\\\) raised to the power of \\\\(3\\\\), which is \\\\(2^3\\\\). After that, I will add \\\\(10\\\\) to the result of that calculation. Since I need to perform exponentiation, I will call the exponentiation agent to handle the first part of the calculation.\\n\\nAction: I will call the exponentiation agent to calculate \\\\(2^3\\\\). \\n\\nCalling the agent now.',\n",
       "  'tool_calls': None},\n",
       " {'role': 'assistant',\n",
       "  'content': None,\n",
       "  'tool_calls': [ChatCompletionMessageFunctionToolCall(id='call_4FzECooybSxK3fZPlPLORrgg', function=Function(arguments='{\"agent_name\":\"exponentiation_agent\",\"message\":\"Calculate 2 to the power of 3.\"}', name='call_peer_agent'), type='function')]},\n",
       " {'role': 'tool',\n",
       "  'content': \"{'role': 'assistant', 'content': 'The calculation is complete. The result of 2 to the power of 3 is 8.', 'tool_calls': None}\",\n",
       "  'tool_call_id': 'call_4FzECooybSxK3fZPlPLORrgg'},\n",
       " {'role': 'assistant',\n",
       "  'content': 'Thought: The exponentiation agent has provided the result of \\\\(2^3\\\\), which is \\\\(8\\\\). Now, I need to add \\\\(10\\\\) to this result to complete the calculation.\\n\\nAction: I will now perform the addition of \\\\(8\\\\) and \\\\(10\\\\). \\n\\nCalling the termination tool as there are no further actions needed.',\n",
       "  'tool_calls': None},\n",
       " {'role': 'assistant',\n",
       "  'content': None,\n",
       "  'tool_calls': [ChatCompletionMessageFunctionToolCall(id='call_3yJcId98ODRggyMnlhAhvqKA', function=Function(arguments='{}', name='termination'), type='function')]},\n",
       " {'role': 'tool',\n",
       "  'content': 'StopReactLoopException',\n",
       "  'tool_call_id': 'call_3yJcId98ODRggyMnlhAhvqKA'},\n",
       " {'role': 'assistant',\n",
       "  'content': 'The result of \\\\(2\\\\) to the power of \\\\(3\\\\) is \\\\(8\\\\). Adding \\\\(10\\\\) to that gives \\\\(18\\\\).',\n",
       "  'tool_calls': None}]"
      ]
     },
     "execution_count": 17,
     "metadata": {},
     "output_type": "execute_result"
    }
   ],
   "source": [
    "agent.memory.get_messages()"
   ]
  },
  {
   "cell_type": "code",
   "execution_count": 18,
   "id": "86645897-e85f-4d81-bbf4-2de40a9ab254",
   "metadata": {},
   "outputs": [
    {
     "data": {
      "text/plain": [
       "[{'role': 'system',\n",
       "  'content': 'You\\'re an AI Agent, your role is Do the exponentation of a base to the power of an exponent, and you need to Help your peers with exponentiation problems You can answer multistep questions by sequentially calling functions. You follow a pattern of of Thought and Action. Create a plan of execution: - Use Thought to describe your thoughts about the question you have been asked. - Use Action to specify one of the tools available to you. When you think it\\'s over call the termination tool. Never try to respond directly if the question needs a tool.The actions you have are the Tools: ```\\n[{\\'type\\': \\'function\\', \\'function\\': {\\'name\\': \\'power\\', \\'description\\': \\'Exponentatiation: base to the power of exponent\\', \\'parallel_tool_calls\\': False, \\'parameters\\': {\\'type\\': \\'object\\', \\'properties\\': {\\'base\\': {\\'type\\': \\'number\\'}, \\'exponent\\': {\\'type\\': \\'number\\'}}, \\'required\\': [\\'base\\', \\'exponent\\'], \\'additionalProperties\\': False}, \\'strict\\': True}}, {\\'type\\': \\'function\\', \\'function\\': {\\'name\\': \\'termination\\', \\'description\\': \"Terminate the ReAct loop. If the agent thinks there\\'s no further actions to take\", \\'parallel_tool_calls\\': False, \\'parameters\\': {\\'type\\': \\'object\\', \\'properties\\': {}, \\'required\\': [], \\'additionalProperties\\': False}, \\'strict\\': True}}] ```\\nThe call_agents tool is to call one of the following peer agents: None ',\n",
       "  'tool_calls': {}},\n",
       " {'role': 'user',\n",
       "  'content': 'Calculate 2 to the power of 3.',\n",
       "  'tool_calls': {}},\n",
       " {'role': 'assistant',\n",
       "  'content': 'Thought: I need to calculate 2 raised to the power of 3. This is a straightforward exponentiation problem where the base is 2 and the exponent is 3.\\n\\nAction: I will use the power function to perform the calculation. \\n\\nCalling the power function with base 2 and exponent 3.',\n",
       "  'tool_calls': None},\n",
       " {'role': 'assistant',\n",
       "  'content': None,\n",
       "  'tool_calls': [ChatCompletionMessageFunctionToolCall(id='call_kmCtwyIMZchESnDXtWf8OE0J', function=Function(arguments='{\"base\":2,\"exponent\":3}', name='power'), type='function')]},\n",
       " {'role': 'tool',\n",
       "  'content': '8',\n",
       "  'tool_call_id': 'call_kmCtwyIMZchESnDXtWf8OE0J'},\n",
       " {'role': 'assistant',\n",
       "  'content': 'Thought: I have calculated the result of 2 to the power of 3, which is 8.\\n\\nAction: Since I have provided the answer, I will now terminate the process. \\n\\nCalling the termination function.',\n",
       "  'tool_calls': None},\n",
       " {'role': 'assistant',\n",
       "  'content': None,\n",
       "  'tool_calls': [ChatCompletionMessageFunctionToolCall(id='call_GE9WzIS01mb2FMkhUwMHNz3t', function=Function(arguments='{}', name='termination'), type='function')]},\n",
       " {'role': 'tool',\n",
       "  'content': 'StopReactLoopException',\n",
       "  'tool_call_id': 'call_GE9WzIS01mb2FMkhUwMHNz3t'},\n",
       " {'role': 'assistant',\n",
       "  'content': 'The calculation is complete. The result of 2 to the power of 3 is 8.',\n",
       "  'tool_calls': None}]"
      ]
     },
     "execution_count": 18,
     "metadata": {},
     "output_type": "execute_result"
    }
   ],
   "source": [
    "agent.peer_agents_map['exponentiation_agent'].memory.get_messages()"
   ]
  },
  {
   "cell_type": "code",
   "execution_count": 19,
   "id": "079f9681-e82a-47ec-b3b9-4896d878d830",
   "metadata": {},
   "outputs": [
    {
     "data": {
      "text/plain": [
       "[{'role': 'system',\n",
       "  'content': 'You\\'re an AI Agent, your role is Sum two numbers, and you need to Help your peers with addition problems You can answer multistep questions by sequentially calling functions. You follow a pattern of of Thought and Action. Create a plan of execution: - Use Thought to describe your thoughts about the question you have been asked. - Use Action to specify one of the tools available to you. When you think it\\'s over call the termination tool. Never try to respond directly if the question needs a tool.The actions you have are the Tools: ```\\n[{\\'type\\': \\'function\\', \\'function\\': {\\'name\\': \\'sum\\', \\'description\\': \\'Sum / Addition: Add two numbers\\', \\'parallel_tool_calls\\': False, \\'parameters\\': {\\'type\\': \\'object\\', \\'properties\\': {\\'number_1\\': {\\'type\\': \\'number\\'}, \\'number_2\\': {\\'type\\': \\'number\\'}}, \\'required\\': [\\'number_1\\', \\'number_2\\'], \\'additionalProperties\\': False}, \\'strict\\': True}}, {\\'type\\': \\'function\\', \\'function\\': {\\'name\\': \\'termination\\', \\'description\\': \"Terminate the ReAct loop. If the agent thinks there\\'s no further actions to take\", \\'parallel_tool_calls\\': False, \\'parameters\\': {\\'type\\': \\'object\\', \\'properties\\': {}, \\'required\\': [], \\'additionalProperties\\': False}, \\'strict\\': True}}] ```\\nThe call_agents tool is to call one of the following peer agents: None ',\n",
       "  'tool_calls': {}}]"
      ]
     },
     "execution_count": 19,
     "metadata": {},
     "output_type": "execute_result"
    }
   ],
   "source": [
    "agent.peer_agents_map['summing_agent'].memory.get_messages()"
   ]
  },
  {
   "cell_type": "code",
   "execution_count": null,
   "id": "61855af3-56d9-4c29-ad3a-60dd0debb979",
   "metadata": {},
   "outputs": [],
   "source": []
  },
  {
   "cell_type": "markdown",
   "id": "69560c31-89d1-48c4-a43c-f70deef423d4",
   "metadata": {},
   "source": [
    "7. Conclusion\n",
    "This demo showcases a simple but powerful pattern for multi-agent collaboration.\n",
    "Agents can be modularized, with each handling a specific type of task.\n",
    "Communication is enabled through a generic peer-calling mechanism.\n",
    "The design is scalable and could support more complex task delegation in the future."
   ]
  },
  {
   "cell_type": "code",
   "execution_count": null,
   "id": "9ca1de69-35cc-4db7-9d9c-e4f1a8505dea",
   "metadata": {},
   "outputs": [],
   "source": []
  }
 ],
 "metadata": {
  "kernelspec": {
   "display_name": "Python 3 (ipykernel)",
   "language": "python",
   "name": "python3"
  },
  "language_info": {
   "codemirror_mode": {
    "name": "ipython",
    "version": 3
   },
   "file_extension": ".py",
   "mimetype": "text/x-python",
   "name": "python",
   "nbconvert_exporter": "python",
   "pygments_lexer": "ipython3",
   "version": "3.13.7"
  }
 },
 "nbformat": 4,
 "nbformat_minor": 5
}
