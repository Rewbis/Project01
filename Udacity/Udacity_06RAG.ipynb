{
 "cells": [
  {
   "cell_type": "markdown",
   "id": "5de5d9ae-eeed-4bff-b74f-75dd86b0da95",
   "metadata": {},
   "source": [
    "Follow on from 05: \n",
    "Summary: Multi-Step Workflow with LCEL\n",
    "Overview\n",
    "This exercise demonstrates how to build a more complex, multi-step workflow using the LangChain Expression Language (LCEL). The project involves generating business ideas, analyzing them for strengths and weaknesses, and producing a structured business report, all through interconnected chains.\n",
    "\n",
    "Key Steps Covered\n",
    "1. Initial Setup\n",
    "All necessary imports and environment configurations are completed.\n",
    "LCEL components such as RunnableParallel, pipe, and message parsing utilities are ready for use.\n",
    "2. Idea Generation Chain\n",
    "A prompt template is created to generate a business idea based on a given industry.\n",
    "The chain uses:\n",
    "The idea prompt\n",
    "A language model (llm)\n",
    "An output parser to structure the result\n",
    "idea_chain = idea_prompt | llm | parse\n",
    "Invoking the chain with an example input like \"agro\" produces an innovative business idea and a brief description.\n",
    "3. Business Idea Analysis Chain\n",
    "A second prompt template is created to analyze the generated business idea.\n",
    "\n",
    "The analysis prompt asks for:\n",
    "\n",
    "Three key strengths\n",
    "Three potential weaknesses\n",
    "This chain follows the same structure: prompt → model → parser.\n",
    "\n",
    "analysis_chain = analysis_prompt | llm | parse\n",
    "The output lists the strengths and weaknesses of the business idea clearly.\n",
    "4. Business Report Generation Chain\n",
    "A structured prompt and Pydantic model are used to create a business report from the analysis.\n",
    "The report uses function calling to ensure structured output:\n",
    "A Report class is defined with strengths and weaknesses fields.\n",
    "class Report(BaseModel):\n",
    "  strengths: List[str]\n",
    "  weaknesses: List[str]\n",
    "The report chain builds a structured final report from the analysis results.\n",
    "report_chain = report_prompt | llm.with_structured_output(Report)\n",
    "5. Building the End-to-End Workflow\n",
    "An overall end-to-end chain combines:\n",
    "\n",
    "idea_chain\n",
    "analysis_chain\n",
    "report_chain\n",
    "This composite chain takes an industry input and produces a complete, structured business report in one invocation.\n",
    "\n",
    "end_to_end_chain = idea_chain | analysis_chain | report_chain\n",
    "Testing the full chain with \"agro\" yields:\n",
    "An innovative idea\n",
    "An analysis\n",
    "A final structured report\n",
    "6. Encouraged Exploration\n",
    "Learners are encouraged to:\n",
    "Add memory modules to track multiple interactions.\n",
    "Explore additional runnables to expand the workflow.\n",
    "Integrate even more complex processing steps or refine output formatting."
   ]
  },
  {
   "cell_type": "markdown",
   "id": "1fd6bcd7-6ee6-4e37-b3bf-b21b03415d71",
   "metadata": {},
   "source": [
    "## Introduction to Retrieval-Augmented Generation (RAG)"
   ]
  },
  {
   "cell_type": "markdown",
   "id": "20c45bea-6eb3-4ea6-8794-5fe4cbdf5984",
   "metadata": {},
   "source": [
    "Retrieval-Augmented Generation (RAG) enhances language models by providing external context from a retrieval system before generating responses. This approach improves accuracy and reduces hallucinations by grounding responses in relevant information.\n",
    "\n",
    "How RAG Works\n",
    "RAG pipelines consist of three main components:\n",
    "\n",
    "Retrieval – Searches a database or document corpus to find relevant information. Uses vector search or keyword matching.\n",
    "\n",
    "Augmentation – Combines retrieved documents with the user’s query in a structured prompt.\n",
    "\n",
    "Generation – The LLM generates a response using both the query and retrieved context.\n",
    "\n",
    "Building a RAG Pipeline\n",
    "A RAG system requires both an offline indexing phase and an online retrieval phase.\n",
    "\n",
    "Indexing (Offline Phase)\n",
    "Before retrieval can happen, documents must be processed and stored efficiently:\n",
    "\n",
    "Document Loaders – Extract raw data from files, APIs, or databases.\n",
    "Text Splitters – Divide large documents into smaller, searchable chunks.\n",
    "VectorStore & Embeddings – Convert text into vector representations and store them for fast retrieval.\n",
    "Retrieval & Augmented Generation (Online Phase)\n",
    "When a user submits a query, the system:\n",
    "\n",
    "Searches the VectorStore for relevant document chunks.\n",
    "\n",
    "Incorporates retrieved text into a structured prompt.\n",
    "\n",
    "Generates an informed response using the LLM.\n",
    "\n",
    "Applications of RAG\n",
    "Customer Support – AI chatbots retrieve relevant FAQ responses.\n",
    "Content Creation – AI-assisted writing tools generate fact-based content.\n",
    "Research & Knowledge Management – Quickly synthesize insights from large datasets.\n",
    "Design Considerations\n",
    "Ensure retrieval quality – Poorly selected documents lead to irrelevant outputs.\n",
    "Optimize text chunking – Too small, and key details get lost; too large, and retrieval suffers.\n",
    "Manage LLM context limits – Retrieved text must fit within the model’s processing window.\n",
    "Final Thoughts\n",
    "RAG significantly improves the accuracy, efficiency, and trustworthiness of AI-generated content. By combining retrieval systems with generative models, applications can deliver more precise and context-aware responses."
   ]
  },
  {
   "cell_type": "markdown",
   "id": "daa44f4b-e5e6-4ea5-931d-9f16202393a2",
   "metadata": {},
   "source": [
    "Demo: RAG pipelines"
   ]
  },
  {
   "cell_type": "code",
   "execution_count": 1,
   "id": "7c7ef822-d5ff-45e5-991a-83e71c244f1e",
   "metadata": {},
   "outputs": [],
   "source": [
    "from langchain_openai import ChatOpenAI, OpenAIEmbeddings\n",
    "from langchain_core.prompts import ChatPromptTemplate\n",
    "from langchain_core.vectorstores import InMemoryVectorStore\n",
    "from langchain_community.document_loaders.wikipedia import WikipediaLoader\n",
    "from langchain_text_splitters import RecursiveCharacterTextSplitter\n",
    "from langchain_core.runnables import RunnablePassthrough, RunnableParallel\n",
    "from dotenv import load_dotenv"
   ]
  },
  {
   "cell_type": "markdown",
   "id": "10b7ca22-543b-4c8a-8c06-a5dfba8e7bca",
   "metadata": {},
   "source": [
    "1. Setting the Stage: Defining the Data Source\n",
    "Wikipedia is used as the external knowledge source.\n",
    "A search query retrieves a document about Anthony Hopkins.\n",
    "Only one document is retrieved initially, containing a significant amount of text.\n",
    "docs = wikipedia_search(\"Anthony Hopkins\")"
   ]
  },
  {
   "cell_type": "markdown",
   "id": "8ffd6d5d-050c-43da-b973-2c2cfaa80021",
   "metadata": {},
   "source": [
    "Loader, getting the source text"
   ]
  },
  {
   "cell_type": "code",
   "execution_count": 2,
   "id": "5d377469-00f4-4c04-89d3-5e94f23c23a6",
   "metadata": {},
   "outputs": [],
   "source": [
    "loader = WikipediaLoader(\n",
    "    \"Anthony_Hopkins\",\n",
    "    load_max_docs=1,\n",
    "    doc_content_chars_max=40000\n",
    ")\n",
    "docs = loader.load()"
   ]
  },
  {
   "cell_type": "code",
   "execution_count": 3,
   "id": "c91cbe47-a2c0-4572-96cf-848007bff38c",
   "metadata": {},
   "outputs": [
    {
     "data": {
      "text/plain": [
       "1"
      ]
     },
     "execution_count": 3,
     "metadata": {},
     "output_type": "execute_result"
    }
   ],
   "source": [
    "len(docs)"
   ]
  },
  {
   "cell_type": "code",
   "execution_count": 4,
   "id": "692b268f-186e-45a9-9909-1149acb7760f",
   "metadata": {},
   "outputs": [
    {
     "data": {
      "text/plain": [
       "38910"
      ]
     },
     "execution_count": 4,
     "metadata": {},
     "output_type": "execute_result"
    }
   ],
   "source": [
    "len(docs[0].page_content)"
   ]
  },
  {
   "cell_type": "code",
   "execution_count": 5,
   "id": "36c88ad2-4730-41f0-8d33-ec49f1248575",
   "metadata": {},
   "outputs": [
    {
     "name": "stdout",
     "output_type": "stream",
     "text": [
      "Sir Philip Anthony Hopkins (born 31 December 1937) is a Welsh actor. Considered one of Britain's most recognisable and prolific actors, he is known for his performances on the screen and stage. Hopkins has received numerous accolades, including two Academy Awards, four BAFTA Awards, two Primetime Emmy Awards, and a Laurence Olivier Award. He has also received the Cecil B. DeMille Award in 2005 and the BAFTA Fellowship for lifetime achievement in 2008. He was knighted by Queen Elizabeth II for his services to drama in 1993.\n",
      "After graduating from the Royal Welsh College of Music & Drama in 1957, Hopkins trained at RADA (the Royal Academy of Dramatic Art) in London. He was then spotted by Laurence Olivier, who invited him to join the Royal National Theatre in 1965. Productions at the National included King Lear (his favourite Shakespeare play), Coriolanus, Macbeth, and Antony and Cleopatra. In 1985, he received acclaim and a Laurence Olivier Award for his performance in the David Hare play Pravda. His last stage play was a West End production of M. Butterfly in 1989.\n",
      "Hopkins' early film roles include The Lion in Winter (1968), A Bridge Too Far (1977), Magic (1978), and The Elephant Man (1980). He won two Academy Awards for Best Actor for playing Hannibal Lecter in the horror thriller The Silence of the Lambs (1991) and an octogenarian with dementia in the psychological drama The Father (2020). He was also Oscar-nominated for The Remains of the Day (1993), Nixon (1995), Amistad (1997), and The Two Popes (2019). Other notable films include 84 Charing Cross Road (1987), Howards End (1992), Bram Stoker's Dracula (1992), Shadowlands (1993), Legends of the Fall (1994), The Mask of Zorro (1998), and the Marvel Cinematic Universe's Thor films (2011–2017).\n",
      "For his work on television, Hopkins received a British Academy Television Award for Best Actor for his performance in War and Peace (1972). He won two Primetime Emmy Awards for Outstanding Lead Actor in a Limited or Anthology Series or Movie for The Lindbergh Kidnapping Case (1976) and The Bunker (1981). Other notable projects include the BBC film The Dresser (2015), PBS' King Lear (2018), and the HBO series Westworld (2016–2018).\n",
      "\n",
      "\n",
      "== Early life and education ==\n",
      "Philip Anthony Hopkins was born in the Margam district of Port Talbot, Wales, on 31 December 1937, the son of Annie Muriel (née Yeates) and baker Richard Arthur Hopkins. One of his grandfathers was from Wiltshire, England. He stated his father's working-class values have always underscored his life, \"Whenever I get a feeling that I may be special or different, I think of my father and I remember his hands – his hardened, broken hands.\" His school days were unproductive; he would rather immerse himself in art, such as painting and drawing, or playing the piano than attend to his studies. In 1949, to instil discipline, his parents insisted he attend Jones' West Monmouth Boys' School in Pontypool. He remained there for five terms and was then educated at Cowbridge Grammar School in the Vale of Glamorgan. In an interview in 2002, he stated, \"I was a poor learner, which left me open to ridicule and gave me an inferiority complex. I grew up absolutely convinced I was stupid.\"\n",
      "\n",
      "Hopkins was inspired by fellow Welsh actor Richard Burton, whom he met at the age of 15. He later called Burton \"very gracious, very nice\" but elaborated, \"I don't know where everyone gets the idea we were good friends. I suppose it's because we are both Welsh and grew up near the same town. For the record, I didn't really know him at all.\" He enrolled at the Royal Welsh College of Music & Drama in Cardiff, from which he graduated in 1957. He next met Burton in 1975 as Burton prepared to take over Hopkins' role as the psychiatrist in Peter Shaffer's Equus, with Hopkins stating, \"He was a phenomenal actor. So was Peter O'Toole – they were wonderful, larger-than-life characters.\" He spent two years doing his national service between 1958 and 1960, which he served in the British Army's Royal Artillery regiment where he was known as \"Gunner Hopkins\", before moving to London to study at RADA (the Royal Academy of Dramatic Art) from where he graduated in 1963.\n",
      "\n",
      "\n",
      "== Career ==\n",
      "\n",
      "\n",
      "=== 1960–1979: Theatre roles and film debut ===\n",
      "Hopkins made his first professional stage appearance in the Palace Theatre, Swansea, in 1960 with Swansea Little Theatre's production of Have a Cigarette. In 1965, after several years in repertory, he was spotted by Laurence Olivier, who invited him to join the Royal National Theatre in London. Hopkins became Olivier's understudy, and filled in when Olivier was struck with appendicitis during a 1967 production of August Strindberg's The Dance of Death. Olivier later noted in his memoir, Confessions of an Actor, that, \"A new young actor in the company of exceptional promise named Anthony Hopkins was understudying me and walked away with the part of Edgar like a cat with a mouse between its teeth.\" Up until that night, Hopkins was always nervous prior to going on stage. This has since changed, and Hopkins quoted his mentor as saying: \"He [Olivier] said: 'Remember: \"nerves\" is vanity – you're wondering what people think of you; to hell with them, just jump off the edge'. It was great advice.\"\n",
      "\n",
      "Hopkins made his small-screen debut in a 1967 BBC broadcast of A Flea in Her Ear. His first starring role in a film came in 1964 in Changes, a short directed by Drewe Henley, written and produced by James Scott and co-starring Jacqueline Pearce. In 1968, Hopkins got his break in The Lion in Winter playing Richard the Lionheart, a performance which saw him nominated for the BAFTA Award for Best Actor in a Supporting Role. Hopkins portrayed Charles Dickens in the BBC television film The Great Inimitable Mr. Dickens in 1970, and Pierre Bezukhov in the BBC's mini series War and Peace (1972), receiving the British Academy Television Award for Best Actor for his performance in the latter. Making a name for himself as a screen actor, he appeared in Frank Pierson's neo-noir action thriller The Looking Glass War (1970), and Étienne Périer's When Eight Bells Toll (1971). The first of five collaborations with director Richard Attenborough, in 1972 Hopkins starred as British politician David Lloyd George in Young Winston.\n",
      "In 1973, he again portrayed David Lloyd George in the BBC miniseries The Edwardians which aired in the US in 1974 on Masterpiece Theatre. Hopkins starred in a film adaptation of the Henrik Ibsen play A Doll's House (1973) alongside Claire Bloom, Ralph Richardson, Denholm Elliott, and Edith Evans. He then appeared in the comedy The Girl from Petrovka (1974) with Goldie Hawn and Hal Holbrook and also starred in the Richard Lester suspense film Juggernaut opposite Richard Harris and Omar Sharif. In October 1974, Hopkins played the psychologist Dysart in the original Broadway production of Sir Peter Shaffer's play Equus, starring opposite Peter Firth. For this performance, he received the Drama Desk Award for Outstanding Actor in a Play for the 1974–75 season. In 1977, he played British Army officer John Frost in Attenborough's World War II-set film A Bridge Too Far. In 1978, he starred in the sequel to National Velvet (1944), entitled International Velvet with Tatum O'Neal, Christopher Plummer, which was directed by Bryan Forbes. That same year, he also starred in Attenborough's psychological horror film Magic about a demonic ventriloquist's puppet with Gene Siskel adding it as one of the best films of the year. In 1979, Hopkins appeared as Prospero in a production of The Tempest held at the Mark Taper Forum in Los Angeles.\n",
      "\n",
      "\n",
      "=== 1980–1989: National Theatre and acclaim ===\n",
      "\n",
      "In 1980, he starred in David Lynch's The Elephant Man as the English doctor Sir Frederick Treves, who attends to Joseph Merrick (portrayed by John Hurt), a severely deformed man in 19th century London. The film received critical praise and attention from critics and received eight Academy Award nominations including for Best Picture. That year he also starred opposite Shirley MacLaine in A Change of Seasons. They famously did not get along; Hopkins later called her \"the most obnoxious actress I have ever worked with\". The film was a box office and critical failure. In 1981, he starred in the CBS television film The Bunker portraying Adolf Hitler during the final weeks of his life in and around his underground bunker in Berlin. John O'Connor praised Hopkins in his New York Times review: \"The portrait becomes all the more riveting through an extraordinarily powerful performance from Anthony Hopkins. His Hitler is mad, often contemptible, but always understandable. Part of the problem, perhaps, is that the monster becomes a little too understandable. He is not made sympathetic, exactly, but he is given decidedly pathetic dimensions, making him just that much more acceptable as a dramatic and historical character.\" For his performance, he received a Primetime Emmy Award for Outstanding Lead Actor in a Limited Series or Movie. That same year he starred as Paul the Apostle opposite Robert Foxworth as Saint Peter in the biblical drama and miniseries Peter and Paul (1981).\n",
      "In 1983, Hopkins also became a company member of The Mirror Theater Ltd's Repertory Company. In 1984, he portrayed Deeley in Harold Pinter's play Old Times at the Roundabout Theatre in New York. In 1984, he starred opposite Mel Gibson in The Bounty as William Bligh, captain of the Royal Navy ship HMS Bounty, in a more accurate retelling of the mutiny on the Bounty. The following year, he starred as Quasimodo in the CBS television film The Hunchback of Notre Dame (1982). The film also starred Derek Jacobi, David Suchet, Tim Pigott-Smith, Nigel Hawthorne, and John Gielgud. He also starred in Strangers and Brothers (1984), Arch of Triumph (1984), Guilty Conscience (1985), Mussolini and I (1985), and The Tenth Man (1988). In 1985, Hopkins starred opposite Colin Firth in the Arthur Schnitzler play The Lonely Road at The Old Vic in London. That same year, he featured as Lambert Le Roux in the National Theatre production of Pravda in Sir David Hare and Howard Brenton's satirical play on the British newspaper industry in the Thatcher era. Receiving acclaim for his performance, Hopkins won the Laurence Olivier Award for Outstanding Achievement. Frank Rich in his New York Times review wrote, \"Mr. Hopkins creates a memorable image of a perversely brilliant modern-day barbarian.\"\n",
      "He played the Soviet spy Guy Burgess in the BBC film Blunt: the Fourth Man (1986) opposite Ian Richardson as Anthony Blunt, fellow spy and Surveyor of The King's Pictures.\n",
      "In 1986 he starred in David Hare's production of King Lear, Hopkins' favourite Shakespeare play, at the National Theatre. The next year, he starred as Mark Antony in the National Theatre production of Antony and Cleopatra opposite Judi Dench, and in 1989, Hopkins made his last appearance on stage in a West End production of M. Butterfly. \"It was a torment\", he claimed in a later interview. Of a matinee where nobody laughed, there was, he said \"not a titter\". When the lights came up, the cast realised the entire audience was Japanese. \"Oh God\", he recalled, \"You'd go to your dressing room and someone would pop their head round the door and say, 'Coffee? Tea?' And I'd think, 'An open razor, please.'\" In 1989, he starred as Abel Magwitch in the miniseries Great Expectations which was broadcast on ITV in the UK and The Disney Channel in the US. The adaptation of the Dickens' novel also starred Jean Simmons and John Rhys-Davies. He received his fourth Primetime Emmy Award nomination, this time for Outstanding Supporting Actor in a Limited Series or Movie.\n",
      "\n",
      "\n",
      "=== 1990–1999: The Silence of the Lambs and film stardom ===\n",
      "\n",
      "Hopkins won acclaim among critics and audiences as the cannibalistic serial killer Hannibal Lecter in The Silence of the Lambs, for which he won the Academy Award for Best Actor in 1991, with Jodie Foster as Clarice Starling, who also won for Best Actress. The film won Best Picture, Best Director and Best Adapted Screenplay, and Hopkins also picked up his first BAFTA for Best Actor. Hopkins reprised his role as Lecter twice; in Ridley Scott's Hannibal (2001), and Red Dragon (2002). His original portrayal of the character in The Silence of the Lambs has been labelled by the AFI as the number-one film villain. Director Jonathan Demme wanted a British actor for the role, with Foster stating, \"Lecter is a manipulator and has a way of using language to keep people at bay. You wanted to see that Shakespearean monster.\" At the time he was offered the role, Hopkins was making a return to the London stage, performing in M. Butterfly. He had come back to Britain after living for a number of years in Hollywood, having all but given up on a career there, saying, \"Well that part of my life's over; it's a chapter closed. I suppose I'll just have to settle for being a respectable actor poncing around the West End and doing respectable BBC work for the rest of my life.\"\n",
      "Hopkins reprised the role, returning to the iconic villain in adaptations of the first three of the Lecter novels by Thomas Harris. The author was reportedly pleased with Hopkins' portrayal of his antagonist. However, Hopkins stated that Red Dragon (2002) would feature his final performance as the character and that he would not reprise even a narrative role in the latest addition to the series, Hannibal Rising (2007). The following year, Hopkins was featured in Mark Joffe's film Spotswood and the science fiction film Freejack and also played supporting roles as Charlie Chaplin's biographer in Richard Attenborough's biographical drama Chaplin (1992) and Professor Van Helsing in Francis Ford Coppola's horror adaptation Bram Stoker's Dracula (1992).\n",
      "In 1992, Hopkins starred in Merchant-Ivory's period film based on the E. M. Forster novel Howards End. Hopkins acted alongside Emma Thompson and Helena Bonham Carter where he played the cold businessman Henry Wilcox. The film received enormous critical acclaim, with critic Leonard Maltin calling it \"extraordinarily good on every level\". The following year, Hopkins reunited with Merchant-Ivory and Emma Thompson in The Remains of the Day (1993), a film set in 1950s post-war Britain based on the novel by Kazuo Ishiguro. David Hunter of The Hollywood Reporter praised Hopkins' performance describing it as \"colossal\" and a \"tour de force\". The film was ranked by the British Film Institute as the 64th greatest British film of the 20th century. Starring as the butler Stevens, Hopkins named it among his favourite films. He was nominated for an Academy Award for Best Actor for his performance and received the BAFTA Award for Best Actor.\n",
      "Hopkins portrayed Oxford academic C. S. Lewis in the 1993 British biographical film Shadowlands, for which he was nominated for a BAFTA Award for Best Actor. Also that year he acted opposite Isabella Rossellini in the drama The Innocent (1993) which was adapted from the Ian McEwan novel of the same name. During this period, Hopkins had the chance to work with Bart the Bear in two films: Legends of the Fall (1994) and The Edge (1997). According to trainer Lynn Seus, \"Tony Hopkins was absolutely brilliant with Bart...He acknowledged and respected him like a fellow actor. He would spend hours just looking at Bart and admiring him. He did so many of his own scenes with Bart.\" Hopkins was Britain's highest-paid performer in 1998, starring in The Mask of Zorro and Meet Joe Black, and also agreed to reprise his role as Hannibal Lecter for a fee of £15 million.\n",
      "\n",
      "\n",
      "=== 2000–2015: Established actor ===\n",
      "\n",
      "In 2000, Hopkins narrated Ron Howard's live action remake of How the Grinch Stole Christmas. He then reprised the role of Hannibal Lecter in The Silence of the Lambs sequel simply entitled Hannibal (2001). Director Ridley Scott and actress Julianne Moore replaced Jonathan Demme and Jodie Foster who declined to participate in the sequel. Hopkins, who previously starred with Moore in Surviving Picasso (1996), agreed to do the role approving of the script. In the book, Lecter uses bandages to disguise himself as a plastic surgery patient. This was left out of the film because Scott and Hopkins agreed to leave the face alone. Hopkins said: \"It's as if he's making a statement—'catch me if you can'. With his big hat, he's so obvious that nobody thinks he's Hannibal Lecter. I've always thought he's a very elegant man, a Renaissance man.\":\n",
      "\n",
      "He's still the sort of Robin Hood of killers. He kills the—what do they call them? The terminally rude.\n",
      "\n",
      "In the film, Lecter is first seen in Florence \"as the classical Lecter, lecturing and being smooth\", according to Hopkins. When the film moves to the U.S., Hopkins changed his appearance by building up muscle and cropping his hair short \"to make him like a mercenary, that he would be so fit and so strong that he could just snap somebody in two if they got ... in his way\". The film broke international box office records receiving $351 million, but received mixed reviews from critics. Hopkins starred in the third film in the series Red Dragon (2002) alongside Ralph Fiennes, Edward Norton, Harvey Keitel, Emily Watson, and Philip Seymour Hoffman. The film received generally favourable reviews and was a box office hit.\n",
      "\n",
      "In 2003, Hopkins received a star on the Hollywood Walk of Fame. Hopkins stated that his role as Burt Munro, whom he portrayed in his 2005 film The World's Fastest Indian, was his favourite. He also asserted that Munro was the easiest role that he had played because both men have a similar outlook on life. In 2006, Hopkins was the recipient of the Golden Globe Cecil B. DeMille Award for lifetime achievement. In 2008, he received the BAFTA Academy Fellowship Award, the highest award the British Film Academy can bestow. In a 2003 poll conducted by Channel 4, Hopkins was ranked seventh on their list of the 100 Greatest Movie Stars.\n",
      "On 24 February 2010, it was announced that Hopkins had been cast in The Rite, which was released on 28 January 2011. He played a priest who is \"an expert in exorcisms and whose methods are not necessarily traditional\". Hopkins, an agnostic who is quoted as saying \"I don't know what I believe, myself personally\", reportedly wrote a line—\"Some days I don't know if I believe in God or Santa Claus or Tinkerbell\"—into his character to identify with it. In 2011, Hopkins said, \"what I enjoy is uncertainty. ... I don't know. You don't know.\" On 21 September 2011, Peter R. de Vries cast Hopkins in the role of the Heineken owner Freddy Heineken, in the film about his kidnapping, Kidnapping Freddy Heineken (2015).\n",
      "Hopkins portrayed Odin, the Allfather or \"king\" of Asgard, in the 2011 film adaptation of Marvel Comics' Thor and would go on to reprise his role as Odin in Thor: The Dark World in 2013, and again in 2017's Thor: Ragnarok. Hopkins portrayed Alfred Hitchcock in Sacha Gervasi's biopic Hitchcock alongside Helen Mirren who played Hitchcock's wife, Alma Reville. The film focuses on the filming of Psycho and that which followed. He starred in the comedy action film Red 2 (2013) as the main antagonist Edward Bailey. In 2014, he portrayed Methuselah in Darren Aronofsky's Noah. Hopkins played Order of the Witwiccans member Sir Edmund Burton in Transformers: The Last Knight which was released in June 2017.\n",
      "In October 2015, Hopkins appeared as Sir in a BBC Two production of Ronald Harwood's The Dresser, alongside Ian McKellen, Edward Fox and Emily Watson. The Dresser is set in a London theatre during the Blitz, where an aging actor-manager, Sir, prepares for his starring role in King Lear with the help of his devoted dresser, Norman. Hopkins described his role as Sir as \"the highlight of my life. It was a chance to work with the actors I had run away from. To play another actor is fun because you know the ins and outs of their thinking – especially with someone like Sir, who is a diabolically insecure, egotistical man.\" He spoke again on the impact the role had on him in 2018, \"When I was at the Royal National Theatre all those years ago, I knew I had something in me, but I didn't have the discipline. I had a Welsh temperament and didn't have that 'fitting in' mechanism. I would fight, I would rebel. I thought, 'Well, I don't belong here.' And for almost 50 years afterwards, I felt that edge of, 'I don't belong anywhere, I'm a loner.' But in The Dresser, when Ian [McKellen] responded, it was wonderful. We got on so well and I suddenly felt at home, as though that lack of belonging was all in my imagination, all in my vanity\".\n",
      "\n",
      "\n",
      "=== 2016–present: Career resurgence ===\n",
      "Beginning in October 2016, Hopkins starred as Robert Ford in the HBO sci-fi series Westworld where he received a Primetime Emmy Award nomination for his performance. Hopkins starred as Lear in the 2018 television film King Lear acting alongside Emma Thompson, Florence Pugh, and Jim Broadbent which was broadcast on BBC Two on 28 May 2018. Hopkins received a Screen Actors Guild Award nomination for his performance. Vulture stated the film \"capture[d] the heart of the classic Shakespeare tragedy\" and described Hopkins' performance as \"devastating\".\n",
      "In 2019, Hopkins portrayed Pope Benedict XVI opposite Jonathan Pryce as Pope Francis in Fernando Meirelles' The Two Popes. He stated, \"The great treasure was working with – apart from [director] Meirelles – Pryce. We're both from Wales. He's from the north, and I'm from the south\". The film is set in the Vatican City in the aftermath of the Vatican leaks scandal and follows Pope Benedict XVI as he attempts to convince Cardinal Jorge Mario Bergoglio to reconsider his decision to resign as an archbishop as he confides his own intentions to abdicate the papacy. In August 2019, the film premiered at the Telluride Film Festival to critical acclaim. The film started streaming on 20 December 2019, by Netflix. The performances of Pryce and Hopkins, as well as McCarten's screenplay, received high praise from critics, and all three men received nominations for their work at the Academy Awards, Golden Globes and British Academy Film Awards.\n",
      "In 2020, Hopkins played a man struggling with Alzheimer's disease in The Father. The film premiered at the Sundance Film Festival where it received critical acclaim, with many critics praising Hopkins' performance and calling him a standout and Oscar frontrunner. The film also stars Olivia Colman as his daughter. It is based on a Tony Award nominated play Le Père by Florian Zeller, who also directed the film. The Father was released on 18 December 2020 by Sony Pictures Classics. In a Q&A at the Telluride Film Festival Hopkins praised both Colman and Zeller saying comparing the working experience saying it \"might've been the highlight of my life\". Hopkins mentioned how lucky he's been over the past five years working with Ian McKellen in The Dresser, Emma Thompson in King Lear, and Jonathan Pryce in The Two Popes. Hopkins won the BAFTA Award for Best Actor in a Leading Role for his performance in The Father, making it his fourth BAFTA and his third for Best Actor. He also won a second Academy Award for Best Actor for his role, becoming the oldest person to win an acting Oscar. Hopkins did not attend the Oscars ceremony, but accepted the award in a video posted on social media, from Wales, the following day, saying: \"Here I am in my homeland in Wales. And at 83 years of age, I did not expect to get this award. I really didn't and am very grateful to the Academy and thank you.\" He also paid tribute to fellow nominee Chadwick Boseman, who had died the previous year.\n",
      "In 2022, he acted in James Gray's semi-autobiographical coming of age drama Armageddon Time (2023). In an interview with El País he said that his performance was inspired by his grandfather who had encouraged him to become an actor. Hopkins starred alongside Jeremy Strong and Anne Hathaway. Hopkins received positive reviews for his turn as a kindly elderly grandfather. A. O. Scott of The New York Times wrote, \"Hopkins finds the essential grit hiding underneath the twinkle\". That same year he reunited with Florian Zeller, acting in The Son (2022) alongside Hugh Jackman. In 2023, Hopkins starred as stockbroker and humanitarian Sir Nicholas Winton in the biographical drama film One Life, and also played Sigmund Freud in Freud's Last Session. Hopkins also appeared in the Netflix science fiction film Rebel Moon directed by Zack Snyder. In 2024, Hopkins portrayed Herod the Great in the Netflix film Mary.\n",
      "\n",
      "\n",
      "== Other activities ==\n",
      "\n",
      "\n",
      "=== Activism and philanthropy ===\n",
      "\n",
      "Hopkins has offered his support to various charities and appeals, notably becoming President of the National Trust's Snowdonia Appeal, raising funds for the preservation of Snowdonia National Park in north Wales. In 1998 he donated £1 million towards the £3 million needed to aid the Trust's efforts in purchasing parts of Snowdon. Prior to the campaign, Hopkins wrote Anthony Hopkins' Snowdonia, which was published in 1995. Due to his contributions to Snowdonia, in addition to his film career, in 2004 Hopkins was named among the 100 Welsh Heroes in a Welsh poll.\n",
      "Hopkins has been a patron of the YMCA centre in his home town of Port Talbot, south Wales, for more than 20 years, having first joined the YMCA in the 1950s. He supports other various philanthropic groups. He was a Guest of Honour at a Gala Fundraiser for Women in Recovery, Inc., a Venice, California-based non-profit organisation offering rehabilitation assistance to women in recovery from substance abuse. He is also a volunteer teacher at the Ruskin School of Acting in Santa Monica, California. Hopkins served as the Honorary Patron of The New Heritage Theatre Company in Boise, Idaho from 1997 to 2007, participating in fundraising and marketing efforts for the repertory theatre.\n",
      "Hopkins contributed toward the refurbishment of a £2.3 million wing at his alma mater, the Royal Welsh College of Music & Drama in Cardiff, named the Anthony Hopkins Centre. It opened in 1999.\n",
      "Hopkins is a prominent member of the environmental protection group Greenpeace and as of early 2008 featured in a television advertisement campaign, voicing concerns about whaling in Japan. He has also been a patron of RAPt (Rehabilitation for Addicted Prisoners Trust) since its early days and in 1992 helped open their first intensive drug and alcohol rehabilitation unit at Downview (HM Prison), a women's prison in Surrey, England.\n",
      "Hopkins is an admirer of the late Welsh comedian Tommy Cooper. On 23 February 2008, as patron of the Tommy Cooper Society, he unveiled a commemorative statue in the entertainer's home town of Caerphilly. For the ceremony, he donned Cooper's trademark fez and performed a comic routine.\n",
      "\n",
      "\n",
      "=== Composing ===\n",
      "\n",
      "In an interview, Hopkins stated, \"I've been composing music all my life and if I'd been clever enough at school I would like to have gone to music college. As it was I had to settle for being an actor.\" In 1986, he released a single called \"Distant Star\", which peaked at No. 75 in the UK singles chart.\n",
      "In 2007, he announced he would retire temporarily from the screen to tour around the world. Hopkins has also written music for the concert hall, in collaboration with Stephen Barton as orchestrator. These compositions include The Masque of Time, given its world premiere with the Dallas Symphony Orchestra in October 2008, and Schizoid Salsa.\n",
      "On 31 October 2011, André Rieu released an album including a waltz which Hopkins had composed in 1964, at the age of 26. Hopkins had never heard his composition, \"And the Waltz Goes On\", before it was premiered by Rieu's orchestra in Vienna; Rieu's album was given the same name as Hopkins' piece.\n",
      "In January 2012, Hopkins released an album of classical music, entitled Composer, performed by the City of Birmingham Symphony Orchestra, and released on CD via the UK radio station Classic FM. The album consists of nine of his original works and film scores, with one of the pieces titled \"Margam\" in tribute to his home town near Port Talbot in Wales.\n",
      "In January 2025, Hopkins hosted a gala concert in Riyadh, Saudi Arabia featuring pieces he had composed, performed by the Royal Philharmonic Orchestra.\n",
      "\n",
      "\n",
      "=== Directing ===\n",
      "In 1990, Hopkins directed a film about his Welsh compatriot, poet Dylan Thomas, titled Dylan Thomas: Return Journey, which was his directing debut for the screen. In the same year, as part of the restoration process for the Stanley Kubrick film Spartacus, Hopkins was approached to re-record lines from a scene that was being added back to the film; this scene featured Laurence Olivier and Tony Curtis, with Hopkins recommended by Olivier's widow, Joan Plowright to perform her late husband's part thanks to his talent for mimicry.\n",
      "In 1995, he directed August, an adaptation of Chekhov's Uncle Vanya set in Wales. His first screenplay, an experimental drama called Slipstream, which he also directed and scored, premiered at the Sundance Film Festival in 2007. In 1997, Hopkins narrated the BBC natural documentary series, Killing for a Living, which showed predatory behaviour in nature. He narrated episode 1 through 3 before being replaced by John Shrapnel.\n",
      "\n",
      "\n",
      "== Artistry and reception ==\n",
      "\n",
      "Hopkins is renowned for his preparation for roles. He indicated in interviews that once he has committed to a project, he will go over his lines as many times as is needed (sometimes upwards of 200) until the lines sound natural to him, so that he can \"do it without thinking\". This leads to an almost casual style of delivery that belies the amount of groundwork done beforehand. While it can allow for some careful improvisation, it has also brought him into conflict with the occasional director who departs from the script or demands what the actor views as an excessive number of takes. Hopkins has stated that after he is finished with a scene, he simply discards the lines, not remembering them later on. This is unlike others who usually remember their lines from a film, even years later.\n",
      "In the mid-1970s, he started a collaboration with Richard Attenborough who called him \"the greatest actor of his generation\". Attenborough, who directed Hopkins on five occasions, found himself going to great lengths during the filming of Shadowlands (1993) to accommodate the differing approaches of his two stars (Hopkins and Debra Winger), who shared many scenes. Whereas Hopkins preferred the spontaneity of a fresh take and liked to keep rehearsals to a minimum, Winger rehearsed continuously. To allow for this, Attenborough stood in for Hopkins during Winger's rehearsals, only bringing him in for the last one before a take. The director praised Hopkins for \"this extraordinary ability to make you believe when you hear him that it is the very first time he has ever said that line. It's an incredible gift.\"\n",
      "Renowned for his ability to remember lines, Hopkins keeps his memory supple by learning things by heart such as poetry and Shakespeare. In Steven Spielberg's Amistad (1997), Hopkins astounded the crew with his memorisation of a seven-page courtroom speech, delivering it in one go. An overawed Spielberg could not bring himself to call Hopkins \"Tony\" and insisted on addressing him as Sir Anthony throughout the shoot.\n",
      "In a 2016 interview with the Radio Times, Hopkins spoke of his ability to frighten people since he was a boy growing up in Port Talbot, Wales. \"I don't know why but I've always known what scares people. When I was a kid I'd tell the girls around the street the story about Dracula and I'd go 'th-th-th' (the sucking noise which he reproduced in The Silence of the Lambs). As a result, they'd run away screaming.\" He recalled going through the script of Silence of the Lambs for the first time with fellow cast members. \"I didn't know what they were going to make of it but I'd prepared it—my first line to Jodie Foster was: 'Good morning. You're one of Jack Crawford's aren't you?' Everyone froze. There was a silence. Then one of the producers said, 'Holy crap, don't change a thing'.\" On Hopkins' approach to playing villains, Miranda Sawyer in The Guardian writes, \"When he portrays deliberately scary people, he plays them quietly, emphasising their sinister control.\"\n",
      "Speaking on his favourite performances which inspired him in his own approach to acting, Morgan Freeman mentioned Hopkins' portrayal of the butler Stevens in The Remains of the Day. Discussing how he learnt \"stillness\" from José Ferrer, Freeman continued, \"It’s what I learn from the great actors that I work with. Stillness. That’s all and that’s the hardest thing. The other actor still like that is Anthony Hopkins. Learning how to be still, to really be still and let life happen–that stillness becomes a radiance. It’s all about eloquent stillness. I’ve told Hopkins that that performance was one of the great lessons for me as an actor.\"\n",
      "Hopkins is a well-known mimic, adept at turning his native Welsh accent into whatever is required by a character. In the 1991 restoration of Spartacus, he recreated the voice of his late mentor Laurence Olivier in a scene for which the soundtrack had been lost. His interview on the 1998 relaunch edition of the British television talk show Parkinson featured an impersonation of comedian Tommy Cooper. Hopkins has said acting \"like a submarine\" has helped him to deliver credible performances in his thrillers. He said, \"It's very difficult for an actor to avoid, you want to show a bit. But I think the less one shows the better.\"\n",
      "\n",
      "\n",
      "== Personal life ==\n",
      "Hopkins has a residence in Malibu, California. In January 2025, his two neighbouring homes in Pacific Palisades, Los Angeles, were destroyed by the Palisades Fire. He moved to the United States once before, during the late 1970s, to pursue his film career, but returned to London in the late 1980s. However, he decided to return to the US following his 1990s success. Retaining his British citizenship, he became a naturalised American citizen on 12 April 2000, with Hopkins stating: \"I have dual citizenship; it just so happens I live in America\".\n",
      "Hopkins has been married three times. He was married to actress Petronella Barker from 1966 to 1972, Jennifer Lynton from 1973 to 2002, and Stella Arroyave since 2003. Hopkins met Arroyave, a Colombian-born antiques dealer, in the early 2000s, and he credits her with helping him overcome his feelings of depression at the time. On Christmas Eve 2013, he celebrated his 10th wedding anniversary by having a blessing at a private service at St Davids Cathedral in St Davids. He has a daughter from his first marriage. The two are estranged; when asked if he had any grandchildren, he said, \"I don't have any idea. People break up. Families split and, you know, 'Get on with your life.' People make choices. I don't care one way or the other.\" In another interview, he said, \"I guess I am selfish. I have not been a good husband or father.\"\n",
      "Hopkins is a recovering alcoholic; he has stayed sober since just after Christmas 1975. He said, \"I made that quantum leap when I asked for help. I just found something and a woman talked to me and she said, just trust in God. And I said, well, why not?\" When asked, \"Did you literally pray?\" Hopkins responded: \"No, I didn't. I think because I asked for help, which is a form of prayer.\" In January 2020, when asked if he was still agnostic, he responded, \"Agnosticism is a bit strange. An agnostic doubts and atheism denies. I'm not a holy Joe; I'm just an old sinner like everyone else. I do believe more than ever now that there is a vast area of our own lives that we know nothing about. As I get older, I can cry at the drop of a hat because the wonderful, terrible passion of life is so short. I have to believe there's something bigger than me. I'm just a microbe. That, for me, is the biggest feeling of relief – acknowledging that I am really nothing. I'm compelled to say, whoever's running the show, thank you very much.\"\n",
      "Hopkins quit smoking using the Allen Carr method. In 2008, he embarked on a weight loss programme, and by 2010, he had lost 5st 10 lb (80 lb or 36 kg). In January 2017, in an interview with The Desert Sun, Hopkins said that he had been diagnosed with Asperger syndrome three years earlier, but that he was \"high end\". In 2020, he said that \"it's a great gift, actually\".\n",
      "He has a pet cat named Niblo, which he adopted in Budapest. Hopkins eschews meat and prefers a pescatarian diet.\n",
      "He is a fan of the BBC sitcom Only Fools and Horses, and once remarked in an interview how he would love to appear in the series. Writer John Sullivan saw the interview, and with Hopkins in mind created the character Danny Driscoll, a local villain. However, filming of the new series coincided with the filming of The Silence of the Lambs, making Hopkins unavailable. The role instead went to Roy Marsden.\n",
      "Commenting on the loss of his Los Angeles home in the 2025 Palisades fire, Hopkins posted a message on Instagram, supporting those affected, and saying \"the only thing we take with us is the love we give\".\n",
      "\n",
      "\n",
      "== Acting credits and accolades ==\n",
      "\n",
      "Hopkins was appointed a CBE in 1987 and was knighted by Queen Elizabeth II for \"services to the arts\" at Buckingham Palace in 1993. In 1988, he was awarded an honorary D.Litt. degree and in 1992 received an honorary fellowship from the University of Wales, Lampeter. He was made a freeman of his home town, Port Talbot, in 1996.\n",
      "He has received numerous accolades for his performances, including two Academy Awards, four BAFTA Awards, a Critics' Choice Movie Award, two Primetime Emmy Awards and a Laurence Olivier Award as well as nominations for eight Golden Globe Awards and seven Screen Actors Guild Awards. In receiving the Oscar for Best Actor for his role in The Father (2020), he became the oldest nominee and winner of the award.\n",
      "Hopkins has also been honoured with various lifetime achievement awards for his work in film and television. In 2006, Gwyneth Paltrow presented him with the Golden Globe Cecil B. DeMille Award. In 2008, Richard Attenborough presented Hopkins with the BAFTA Fellowship for lifetime achievement from the British Academy of Film and Television Arts. Hopkins has also received a star on the Hollywood Walk of Fame in 2003.\n",
      "\n",
      "\n",
      "== See also ==\n",
      "List of Academy Award winners and nominees from Great Britain\n",
      "List of actors with Academy Awards nominations\n",
      "List of actors with more than one Academy Award nomination in the acting categories\n",
      "List of actors with two or more Academy Awards in acting categories\n",
      "List of oldest and youngest Academy Award winners and nominees\n",
      "\n",
      "\n",
      "== References ==\n",
      "\n",
      " \n",
      "\n",
      "\n",
      "== External links ==\n",
      "\n",
      "Anthony Hopkins at the Internet Broadway Database \n",
      "Anthony Hopkins at the Internet Off-Broadway Database (archived)\n",
      "Anthony Hopkins at IMDb\n",
      "Anthony Hopkins at the BFI's Screenonline\n",
      "Anthony Hopkins at the TCM Movie Database\n"
     ]
    }
   ],
   "source": [
    "print(docs[0].page_content)"
   ]
  },
  {
   "cell_type": "markdown",
   "id": "6f5d7483-3f25-4c2b-93cd-7fb753ed6742",
   "metadata": {},
   "source": [
    "2. Splitting Documents into Chunks\n",
    "Large documents are split into smaller segments using a text splitter.\n",
    "Smaller chunks improve retrieval accuracy by narrowing the search space.\n",
    "split_docs = text_splitter.split_documents(docs)\n",
    "Example: One document is split into 182 sub-documents."
   ]
  },
  {
   "cell_type": "code",
   "execution_count": 6,
   "id": "8a0f0d15-b423-4dc5-8e7a-1510ab706889",
   "metadata": {},
   "outputs": [],
   "source": [
    "text_splitter = RecursiveCharacterTextSplitter(\n",
    "    chunk_size=300, \n",
    "    chunk_overlap=50\n",
    ")\n",
    "all_splits = text_splitter.split_documents(docs)\n"
   ]
  },
  {
   "cell_type": "code",
   "execution_count": 7,
   "id": "f9015388-92f3-4212-96a8-589a2f60aed0",
   "metadata": {},
   "outputs": [
    {
     "name": "stdout",
     "output_type": "stream",
     "text": [
      "Split Wikipedia page into 182 sub-documents.\n"
     ]
    }
   ],
   "source": [
    "print(f\"Split Wikipedia page into {len(all_splits)} sub-documents.\")"
   ]
  },
  {
   "cell_type": "code",
   "execution_count": 8,
   "id": "cefd1e35-90ce-4497-9ad3-3a8489d7a319",
   "metadata": {},
   "outputs": [
    {
     "data": {
      "text/plain": [
       "Document(metadata={'title': 'Anthony Hopkins', 'summary': \"Sir Philip Anthony Hopkins (born 31 December 1937) is a Welsh actor. Considered one of Britain's most recognisable and prolific actors, he is known for his performances on the screen and stage. Hopkins has received numerous accolades, including two Academy Awards, four BAFTA Awards, two Primetime Emmy Awards, and a Laurence Olivier Award. He has also received the Cecil B. DeMille Award in 2005 and the BAFTA Fellowship for lifetime achievement in 2008. He was knighted by Queen Elizabeth II for his services to drama in 1993.\\nAfter graduating from the Royal Welsh College of Music & Drama in 1957, Hopkins trained at RADA (the Royal Academy of Dramatic Art) in London. He was then spotted by Laurence Olivier, who invited him to join the Royal National Theatre in 1965. Productions at the National included King Lear (his favourite Shakespeare play), Coriolanus, Macbeth, and Antony and Cleopatra. In 1985, he received acclaim and a Laurence Olivier Award for his performance in the David Hare play Pravda. His last stage play was a West End production of M. Butterfly in 1989.\\nHopkins' early film roles include The Lion in Winter (1968), A Bridge Too Far (1977), Magic (1978), and The Elephant Man (1980). He won two Academy Awards for Best Actor for playing Hannibal Lecter in the horror thriller The Silence of the Lambs (1991) and an octogenarian with dementia in the psychological drama The Father (2020). He was also Oscar-nominated for The Remains of the Day (1993), Nixon (1995), Amistad (1997), and The Two Popes (2019). Other notable films include 84 Charing Cross Road (1987), Howards End (1992), Bram Stoker's Dracula (1992), Shadowlands (1993), Legends of the Fall (1994), The Mask of Zorro (1998), and the Marvel Cinematic Universe's Thor films (2011–2017).\\nFor his work on television, Hopkins received a British Academy Television Award for Best Actor for his performance in War and Peace (1972). He won two Primetime Emmy Awards for Outstanding Lead Actor in a Limited or Anthology Series or Movie for The Lindbergh Kidnapping Case (1976) and The Bunker (1981). Other notable projects include the BBC film The Dresser (2015), PBS' King Lear (2018), and the HBO series Westworld (2016–2018).\\n\\n\", 'source': 'https://en.wikipedia.org/wiki/Anthony_Hopkins'}, page_content=\"Sir Philip Anthony Hopkins (born 31 December 1937) is a Welsh actor. Considered one of Britain's most recognisable and prolific actors, he is known for his performances on the screen and stage. Hopkins has received numerous accolades, including two Academy Awards, four BAFTA Awards, two Primetime\")"
      ]
     },
     "execution_count": 8,
     "metadata": {},
     "output_type": "execute_result"
    }
   ],
   "source": [
    "all_splits[0]"
   ]
  },
  {
   "cell_type": "code",
   "execution_count": 9,
   "id": "57cb8a23-15de-4a86-ac94-d89d757b9e86",
   "metadata": {},
   "outputs": [],
   "source": [
    "# embeddings\n",
    "embeddings = OpenAIEmbeddings(model=\"text-embedding-3-large\")"
   ]
  },
  {
   "cell_type": "markdown",
   "id": "d2eb76ff-fd3f-4f6d-a4f8-2087b0571040",
   "metadata": {},
   "source": [
    "3. Embedding and Storing Chunks\n",
    "Each document chunk is converted into a vector embedding using OpenAI Embeddings.\n",
    "All embeddings are stored in an in-memory vector store.\n",
    "vectorstore.add_documents(split_docs)\n",
    "This allows for fast similarity searches when a user query arrives."
   ]
  },
  {
   "cell_type": "code",
   "execution_count": 10,
   "id": "71d2a507-7d01-4e96-a589-86d467773a22",
   "metadata": {},
   "outputs": [],
   "source": [
    "vector_store = InMemoryVectorStore(embeddings)"
   ]
  },
  {
   "cell_type": "code",
   "execution_count": 11,
   "id": "ccfcb66c-5a93-4fcc-aaa2-7d9bbd0ecd16",
   "metadata": {},
   "outputs": [
    {
     "data": {
      "text/plain": [
       "['ecc57f37-abbd-4022-afbd-a6767dabca44',\n",
       " '0e6ad605-2bd5-438e-8a34-0fab99116fa7',\n",
       " '521c1e1e-6f52-4e6c-b670-748ab8e09900',\n",
       " 'c7c36634-816c-42f9-8e72-5923c1bd63f5',\n",
       " '5759db18-8ee1-41da-97ac-2c838d05ab13',\n",
       " 'd065e6e6-9ea0-42e9-83a6-b8a612acc948',\n",
       " 'b647cbeb-a97f-46ad-8363-03cf071a8160',\n",
       " 'fd11f740-7cba-4f79-81d4-fd9e947d9d6e',\n",
       " '4e62d335-3daa-4fc6-a700-972e6118f5d1',\n",
       " '728531b0-02ff-424d-b87f-f62aca66c3ce']"
      ]
     },
     "execution_count": 11,
     "metadata": {},
     "output_type": "execute_result"
    }
   ],
   "source": [
    "document_ids = vector_store.add_documents(documents=all_splits)\n",
    "document_ids[:10]"
   ]
  },
  {
   "cell_type": "markdown",
   "id": "1ceeb3f9-e1a9-4cc4-8bf0-491e9a804c7f",
   "metadata": {},
   "source": [
    "4. Retriever Setup\n",
    "A retriever is created from the vector store.\n",
    "The retriever fetches the top k=3 most relevant documents based on similarity to the user query.\n",
    "retriever = vectorstore.as_retriever(search_kwargs={\"k\": 3})"
   ]
  },
  {
   "cell_type": "code",
   "execution_count": 12,
   "id": "2226bf73-d12e-4c5d-8f7a-ce7b0484256f",
   "metadata": {},
   "outputs": [],
   "source": [
    "retriever = vector_store.as_retriever(search_kwargs={\"k\": 3})"
   ]
  },
  {
   "cell_type": "markdown",
   "id": "45826a04-6090-4ddb-b7c5-1ef1917b6add",
   "metadata": {},
   "source": [
    "5. Prompt Template Creation\n",
    "A chat prompt template is defined to guide the LLM:\n",
    "It receives both the context (retrieved documents) and the question.\n",
    "The model is instructed to reason based only on provided context.\n",
    "prompt = ChatPromptTemplate.from_messages([\n",
    "  (\"system\", \"You are an assistant for question answering.\"),\n",
    "  (\"human\", \"Use the following context: {context}\\nQuestion: {question}\\nAnswer:\")\n",
    "])\n",
    "The template is a runnable object, so it can be invoked directly."
   ]
  },
  {
   "cell_type": "code",
   "execution_count": 13,
   "id": "1305214f-57b3-47f0-bf46-e136290bf5d6",
   "metadata": {},
   "outputs": [],
   "source": [
    "template = ChatPromptTemplate([\n",
    "    (\"system\", \"You are an assistant for question-answering tasks.\"),\n",
    "    (\"human\", \"Use the following pieces of retrieved context to answer the question. \"\n",
    "              \"If you don't know the answer, just say that you don't know. \" \n",
    "              \"Use three sentences maximum and keep the answer concise. \"\n",
    "              \"\\n# Question: \\n-> {question} \"\n",
    "              \"\\n# Context: \\n-> {context} \"\n",
    "              \"\\n# Answer: \"),\n",
    "])"
   ]
  },
  {
   "cell_type": "code",
   "execution_count": 14,
   "id": "74c2ac2b-dc2f-4834-b221-c651ec7296ee",
   "metadata": {},
   "outputs": [
    {
     "data": {
      "text/plain": [
       "[SystemMessage(content='You are an assistant for question-answering tasks.', additional_kwargs={}, response_metadata={}),\n",
       " HumanMessage(content=\"Use the following pieces of retrieved context to answer the question. If you don't know the answer, just say that you don't know. Use three sentences maximum and keep the answer concise. \\n# Question: \\n-> ##QUESTION## \\n# Context: \\n-> ##CONTEXT## \\n# Answer: \", additional_kwargs={}, response_metadata={})]"
      ]
     },
     "execution_count": 14,
     "metadata": {},
     "output_type": "execute_result"
    }
   ],
   "source": [
    "template.invoke(\n",
    "    {\"context\": \"##CONTEXT##\", \"question\": \"##QUESTION##\"}\n",
    ").to_messages()"
   ]
  },
  {
   "cell_type": "code",
   "execution_count": 15,
   "id": "937e3fab-43c4-4f65-8b9f-f6aad4b3cfce",
   "metadata": {},
   "outputs": [],
   "source": [
    "def format_docs(docs):\n",
    "    formatted = \"\\n\\n-> \".join(doc.page_content for doc in docs)\n",
    "    return formatted"
   ]
  },
  {
   "cell_type": "markdown",
   "id": "7e2af85d-1e75-4202-81cc-f852e535aa61",
   "metadata": {},
   "source": [
    "6. Generation Pipeline\n",
    "The complete flow:\n",
    "Format the retrieved documents into a single string for the context.\n",
    "Fill the prompt template with the question and context.\n",
    "Pass the resulting messages to the LLM.\n",
    "Retrieve the final answer.\n",
    "context = format_docs(docs)\n",
    "messages = prompt.invoke({\"context\": context, \"question\": \"When was The Silence of the Lambs released?\"})\n",
    "answer = llm.invoke(messages)\n",
    "Example output: \"The Silence of the Lambs was released in 1991.\""
   ]
  },
  {
   "cell_type": "code",
   "execution_count": 16,
   "id": "6d427129-6595-45dc-84b3-fdb1324ddebe",
   "metadata": {},
   "outputs": [],
   "source": [
    "llm = ChatOpenAI(\n",
    "    model=\"gpt-4o-mini\",\n",
    "    temperature=0.0,\n",
    ")"
   ]
  },
  {
   "cell_type": "code",
   "execution_count": 17,
   "id": "46db098c-9cd4-4c7c-95c2-986ea31e61df",
   "metadata": {},
   "outputs": [],
   "source": [
    "question = \"When The Silence of the Lambs was released?\"\n",
    "context = format_docs(retriever.invoke(question))\n",
    "messages = template.invoke({'question' : question, 'context' : context}).to_messages()\n",
    "answer = llm.invoke(messages)"
   ]
  },
  {
   "cell_type": "code",
   "execution_count": 18,
   "id": "91283588-6fa4-48de-bf17-b81d927909f0",
   "metadata": {},
   "outputs": [
    {
     "name": "stdout",
     "output_type": "stream",
     "text": [
      "Use the following pieces of retrieved context to answer the question. If you don't know the answer, just say that you don't know. Use three sentences maximum and keep the answer concise. \n",
      "# Question: \n",
      "-> When The Silence of the Lambs was released? \n",
      "# Context: \n",
      "-> === 1990–1999: The Silence of the Lambs and film stardom ===\n",
      "\n",
      "-> Hopkins won acclaim among critics and audiences as the cannibalistic serial killer Hannibal Lecter in The Silence of the Lambs, for which he won the Academy Award for Best Actor in 1991, with Jodie Foster as Clarice Starling, who also won for Best Actress. The film won Best Picture, Best Director\n",
      "\n",
      "-> Actress. The film won Best Picture, Best Director and Best Adapted Screenplay, and Hopkins also picked up his first BAFTA for Best Actor. Hopkins reprised his role as Lecter twice; in Ridley Scott's Hannibal (2001), and Red Dragon (2002). His original portrayal of the character in The Silence of \n",
      "# Answer: \n"
     ]
    }
   ],
   "source": [
    "print(messages[1].content)"
   ]
  },
  {
   "cell_type": "code",
   "execution_count": 19,
   "id": "ed503cf8-bfd3-44bc-a02e-8bad218a7c05",
   "metadata": {},
   "outputs": [
    {
     "data": {
      "text/plain": [
       "AIMessage(content='The Silence of the Lambs was released in 1991.', additional_kwargs={'refusal': None}, response_metadata={'token_usage': {'completion_tokens': 13, 'prompt_tokens': 242, 'total_tokens': 255, 'completion_tokens_details': {'accepted_prediction_tokens': 0, 'audio_tokens': 0, 'reasoning_tokens': 0, 'rejected_prediction_tokens': 0}, 'prompt_tokens_details': {'audio_tokens': 0, 'cached_tokens': 0}}, 'model_name': 'gpt-4o-mini-2024-07-18', 'system_fingerprint': 'fp_560af6e559', 'id': 'chatcmpl-CO2usQXALSbi00sAWUiGpV0uL609x', 'service_tier': 'default', 'finish_reason': 'stop', 'logprobs': None}, id='run--9f60728f-9407-4dc3-abf2-a52961d55010-0', usage_metadata={'input_tokens': 242, 'output_tokens': 13, 'total_tokens': 255, 'input_token_details': {'audio': 0, 'cache_read': 0}, 'output_token_details': {'audio': 0, 'reasoning': 0}})"
      ]
     },
     "execution_count": 19,
     "metadata": {},
     "output_type": "execute_result"
    }
   ],
   "source": [
    "answer"
   ]
  },
  {
   "cell_type": "markdown",
   "id": "111afb10-4257-4e1e-bf22-55c5a5c9aaa2",
   "metadata": {},
   "source": [
    "7. Alternative: LCEL Version\n",
    "The RAG flow is also implemented using LCEL (LangChain Expression Language) for a more concise pipeline:\n",
    "Parallel retrieval of context and question.\n",
    "Formatting the final prompt.\n",
    "LLM invocation.\n",
    "rag_chain = (\n",
    "  {\"context\": retriever | format_docs, \"question\": RunnablePassthrough()}\n",
    "  | prompt\n",
    "  | llm\n",
    ")\n",
    "Example question: \"When was Anthony Hopkins born?\"\n",
    "Correct answer: \"December 31, 1937.\""
   ]
  },
  {
   "cell_type": "code",
   "execution_count": 20,
   "id": "93ee6840-b5b0-4fb0-93af-dd6b91c4c597",
   "metadata": {},
   "outputs": [],
   "source": [
    "rag_chain = ( \n",
    "    RunnableParallel(\n",
    "        context = retriever | format_docs, \n",
    "        question = RunnablePassthrough() \n",
    "    )\n",
    "    | template \n",
    "    | llm \n",
    ")"
   ]
  },
  {
   "cell_type": "code",
   "execution_count": 21,
   "id": "7f3dc3a5-23bc-47d5-aa96-949c9609deef",
   "metadata": {},
   "outputs": [
    {
     "data": {
      "text/plain": [
       "AIMessage(content='Philip Anthony Hopkins was born on 31 December 1937.', additional_kwargs={'refusal': None}, response_metadata={'token_usage': {'completion_tokens': 13, 'prompt_tokens': 235, 'total_tokens': 248, 'completion_tokens_details': {'accepted_prediction_tokens': 0, 'audio_tokens': 0, 'reasoning_tokens': 0, 'rejected_prediction_tokens': 0}, 'prompt_tokens_details': {'audio_tokens': 0, 'cached_tokens': 0}}, 'model_name': 'gpt-4o-mini-2024-07-18', 'system_fingerprint': 'fp_560af6e559', 'id': 'chatcmpl-CO2uvqSPZyj9VxtarxhcceAKgHknc', 'service_tier': 'default', 'finish_reason': 'stop', 'logprobs': None}, id='run--06ed11c9-c9da-45c9-9e3d-7c4f2538d494-0', usage_metadata={'input_tokens': 235, 'output_tokens': 13, 'total_tokens': 248, 'input_token_details': {'audio': 0, 'cache_read': 0}, 'output_token_details': {'audio': 0, 'reasoning': 0}})"
      ]
     },
     "execution_count": 21,
     "metadata": {},
     "output_type": "execute_result"
    }
   ],
   "source": [
    "rag_chain.invoke(\"When he was born?\")"
   ]
  },
  {
   "cell_type": "markdown",
   "id": "a1343cfb-1e9d-48d4-99cf-bf742295b267",
   "metadata": {},
   "source": [
    "8. Key Concepts Reinforced\n",
    "Augmenting LLMs with external knowledge improves factual accuracy.\n",
    "Chaining retrieval, prompt construction, and generation creates flexible, reusable workflows.\n",
    "LCEL simplifies the construction of complex pipelines with minimal code.\n",
    "9. Conclusion\n",
    "RAG pipelines enhance LLM outputs by grounding them in verified external documents.\n",
    "Document splitting, retrieval tuning, and structured prompting are critical for high-quality RAG systems."
   ]
  },
  {
   "cell_type": "code",
   "execution_count": null,
   "id": "ef0f417d-c1f9-4808-a7e9-51f459e62a34",
   "metadata": {},
   "outputs": [],
   "source": []
  }
 ],
 "metadata": {
  "kernelspec": {
   "display_name": "Python 3 (ipykernel)",
   "language": "python",
   "name": "python3"
  },
  "language_info": {
   "codemirror_mode": {
    "name": "ipython",
    "version": 3
   },
   "file_extension": ".py",
   "mimetype": "text/x-python",
   "name": "python",
   "nbconvert_exporter": "python",
   "pygments_lexer": "ipython3",
   "version": "3.13.7"
  }
 },
 "nbformat": 4,
 "nbformat_minor": 5
}
