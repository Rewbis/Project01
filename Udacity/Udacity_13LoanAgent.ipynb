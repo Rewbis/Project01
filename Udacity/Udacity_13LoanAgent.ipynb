{
 "cells": [
  {
   "cell_type": "markdown",
   "id": "551b5151-e7df-4c20-b661-357f0e36bdb6",
   "metadata": {},
   "source": [
    "## Exercise - Loan Agent - STARTER\n",
    "In this exercise, you’ll build a Loan Agent Workflow using LangGraph, designed to negotiate loan amounts with customers.\n",
    "\n",
    "Challenge\n",
    "\n",
    "You’re developing an AI-powered Loan agent.\n",
    "  \n",
    "The workflow should:  \n",
    "\n",
    "Interpret user queries intelligently.  \n",
    "Dynamically calls tools for loan calculation  \n",
    "Track negotiation status and terminates gracefully.  \n",
    "Route the workflow using intelligent conditional edges.  \n",
    "  \n",
    "Your agent will calculate the maximum amount a customer can request based on their profile. If it exceeds, it will mark the status as lost and will explain the reason to the customer. If it meets, make as won, and notify the customer a human representative will contact them.\n",
    "\n",
    "By the end of this exercise, you will have learned:  \n",
    "\n",
    "Config  \n",
    "Limiting Messages (RemoveMessages and summary)  \n",
    "Command (Updating State from a Tool)    \n",
    "Checkpoints (with thread_id)  \n",
    "## 0. Import the necessary libs"
   ]
  },
  {
   "cell_type": "code",
   "execution_count": 1,
   "id": "156fc9d5-1f4c-40a4-9714-218eb6c281f3",
   "metadata": {},
   "outputs": [],
   "source": [
    "import re\n",
    "import uuid\n",
    "from typing_extensions import Literal, Annotated\n",
    "from langchain_core.messages import (\n",
    "    SystemMessage,\n",
    "    AIMessage,\n",
    "    HumanMessage, \n",
    "    ToolMessage,\n",
    "    RemoveMessage\n",
    ")\n",
    "from langchain_core.tools.base import InjectedToolCallId\n",
    "from langchain_core.tools import tool\n",
    "from langchain_openai import ChatOpenAI\n",
    "from langgraph.graph import START, END, StateGraph\n",
    "from langchain_core.runnables import RunnableConfig\n",
    "from langgraph.graph.message import MessagesState, add_messages\n",
    "from langgraph.checkpoint.memory import MemorySaver\n",
    "from langgraph.prebuilt import ToolNode\n",
    "from langgraph.types import Command\n",
    "from IPython.display import Image, display"
   ]
  },
  {
   "cell_type": "markdown",
   "id": "54f20b36-6973-4a3b-85c2-974660d55f90",
   "metadata": {},
   "source": [
    "1. Instantiate Chat Model with your API Key\n",
    "To be able to connect with OpenAI, you need to instantiate an ChatOpenAI client passing your OpenAI key.\n",
    "\n",
    "You can pass the api_key argument directly.\n",
    "\n",
    "llm = ChatOpenAI(\n",
    "    model=\"gpt-4o-mini\",\n",
    "    temperature=0.0,\n",
    "    api_key=\"voc-\",\n",
    ")"
   ]
  },
  {
   "cell_type": "code",
   "execution_count": 2,
   "id": "af734f66-8b40-4997-9471-0cec7f06485f",
   "metadata": {},
   "outputs": [],
   "source": [
    "llm = ChatOpenAI(\n",
    "    model=\"gpt-4o-mini\",\n",
    "    temperature=0.0,\n",
    " #   api_key = \"YOUR_API_KEY_HERE\", # mine is set in my venv already\n",
    ")"
   ]
  },
  {
   "cell_type": "markdown",
   "id": "b1514eed-3549-4164-90ff-503455d43ed1",
   "metadata": {},
   "source": [
    "2. Create the State Schema\n",
    "Your state should have at least 3 elements:\n",
    "\n",
    "customer query, the user input to start the conversation\n",
    "messages, to keep track of the conversation\n",
    "negotiation status, to determine when to terminate the execution\n",
    "Feel free to use TypedDict or MessagesState."
   ]
  },
  {
   "cell_type": "code",
   "execution_count": 3,
   "id": "50151f1c-67a7-4a69-9169-2c8aac9e3823",
   "metadata": {},
   "outputs": [],
   "source": [
    "# TODO - State Schema called SessionState\n",
    "class SessionState(MessagesState):\n",
    "    customer_query: str\n",
    "    negotiation_status: Literal[\"won\", \"lost\", \"in_progress\"]"
   ]
  },
  {
   "cell_type": "markdown",
   "id": "7eeb200c-45e1-4353-8ed1-23c0f008a567",
   "metadata": {},
   "source": [
    "3. Define your Entrypoint node\n",
    "This node should have the following responsibilities:\n",
    "\n",
    "Access all the configuration (RunnableConfig)\n",
    "Create the SystemMessage to instruct the agent\n",
    "Limit number of messages for each execution using summary and RemoveMessage\n",
    "Create the HumanMessage based on the customer_query"
   ]
  },
  {
   "cell_type": "code",
   "execution_count": 4,
   "id": "51ecd187-d0fb-4ab4-9906-848326f72fd1",
   "metadata": {},
   "outputs": [],
   "source": [
    "# TODO - Define your function to summarize previous messages (used in filtermessages, next cell down)\n",
    "def summarize_conversation(messages) -> AIMessage:\n",
    "    messages_to_summarize = messages[1:-1]\n",
    "    summary_message = HumanMessage(\n",
    "        content=\"Create a summary of the conversation above:\",\n",
    "    )\n",
    "    ai_message = llm.invoke(\n",
    "        add_messages(\n",
    "            messages_to_summarise,\n",
    "            summary_message\n",
    "        )\n",
    "    )\n",
    "    ai_message.id = str(uuid.uuid4())\n",
    "    return ai_message"
   ]
  },
  {
   "cell_type": "code",
   "execution_count": 5,
   "id": "fefe3f9a-92a7-40cb-94fd-3fa4aceb6bdc",
   "metadata": {},
   "outputs": [],
   "source": [
    "# TODO - The entrypoint node\n",
    "# An initial prompt is already created to help you\n",
    "def entry_point(state: SessionState, config: RunnableConfig):\n",
    "    messages = state[\"messages\"]\n",
    "    customer_name = config.get(\"configurable\", {}).get(\"customer_name\", \"customer\")\n",
    "    age = config.get(\"configurable\", {}).get(\"age\", 18)\n",
    "    income = config.get(\"configurable\", {}).get(\"income\", 1000)\n",
    "    credit_score = config.get(\"configurable\", {}).get(\"credit_score\", 500)\n",
    "    if not messages:\n",
    "        prompt = (\n",
    "            \"You are a Loan Agent analysing a customer loan request.\\n\"\n",
    "            \"- Understand how much the customer needs.\\n\"\n",
    "            \"- Calculate the maximum loan amount using one of the provided tools.\\n\"\n",
    "            \"- If the requested amount exceeds the limit, update the negotiation to lost.\\n\"\n",
    "            \"- If the requested amount meets the limit, update the negotiation to won.\\n\"       \n",
    "            \"- Update status as won or lost based on the negotiation.\\n\"\n",
    "            \"Terminate gracefully:\\n\"\n",
    "            \"  - If won: Notify that a human representative will contact them.\\n\"\n",
    "            \"  - If lost: Thank the customer for their time and explain why the loan was refused.\\n\\n\"\n",
    "            \"Details about the customer you're negotiating with:\\n\"\n",
    "            f\"- customer_name: {customer_name}\"\n",
    "            f\"- customer_age: {age}\"\n",
    "            f\"- customer_income: {income}\"\n",
    "            f\"- customer_credit_score: {credit_score}\"\n",
    "        )\n",
    "        sys_message = SystemMessage(\n",
    "            content=prompt,\n",
    "            name=\"system\",\n",
    "        )\n",
    "        messages.append(sys_message)\n",
    "    \n",
    "    print(f\"Number of messages {len(messages)}\")\n",
    "    # Filter Messages\n",
    "    if len(messages)>=7:\n",
    "        # TODO - use summarize_conversation and RemoveMessage \n",
    "        messages_summary = summarize_conversation(messages)\n",
    "        filtered_messages = [\n",
    "            RemoveMessage(id=m.id)\n",
    "                for m in state[\"messages\"]\n",
    "                if m.name != \"system\"\n",
    "        ]\n",
    "        messages = add_messages(\n",
    "            filtered_messages,\n",
    "            messages_summary\n",
    "        )\n",
    "\n",
    "    print(state[\"customer_query\"])\n",
    "    human_message = HumanMessage(\n",
    "        content=state[\"customer_query\"],\n",
    "        name=re.sub(r'\\s+', '_', customer_name.strip()).lower(),\n",
    "        id = str(uuid.uuid4())\n",
    "    )\n",
    "    messages.append(human_message)\n",
    "\n",
    "    return {\n",
    "        \"messages\": messages,\n",
    "        \"negotiation_status\": \"in_progress\",\n",
    "    }\n",
    "    "
   ]
  },
  {
   "cell_type": "markdown",
   "id": "a57e9df4-0972-428d-88c4-64ea02a358ec",
   "metadata": {},
   "source": [
    "4. Define your tools\n",
    "You need to create 2 tools:\n",
    "\n",
    "calculate_max_loan, this is important to check if the amount requested meets the maximum allowed by their profile\n",
    "update_negotiation_status, this will update the schema using Command"
   ]
  },
  {
   "cell_type": "code",
   "execution_count": 6,
   "id": "297b7684-0dc7-4a0a-a83b-fc04f9e11724",
   "metadata": {},
   "outputs": [],
   "source": [
    "# TODO - Max Loan Tool\n",
    "@tool\n",
    "def calculate_max_loan(\n",
    "        age: Annotated[int, \"greater than 17\"], \n",
    "        income: Annotated[int, \"greater than 0\"],  \n",
    "        credit_score: Annotated[int, \"between 0 and 1000\"],\n",
    "    ) -> int:\n",
    "    \"\"\"\n",
    "    Calculate the maximum loan amount based on customer's age, income, and credit score.\n",
    "    - Age: 25-60 gets the highest eligibility, outside this range reduces eligibility.\n",
    "    - Income: Multiplied by a factor to determine base amount.\n",
    "    - Credit Score: High score (700+) increases the amount by 20%.\n",
    "    \"\"\"\n",
    "    # TODO - Your logic here\n",
    "    base_amount = income * 10\n",
    "    \n",
    "    # Age Rules\n",
    "    if age < 25:\n",
    "        base_amount *= 0.8  # Reduced eligibility\n",
    "    elif age > 60:\n",
    "        base_amount *= 0.7  # Reduced eligibility\n",
    "    else:\n",
    "        base_amount *= 1.0  # Full eligibility\n",
    "\n",
    "    # Credit Score Rules\n",
    "    if credit_score > 750:\n",
    "        base_amount *= 1.2  # 20% Bonus for excellent credit score\n",
    "    elif credit_score < 600:\n",
    "        base_amount *= 0.5  # Reduced eligibility for poor score\n",
    "\n",
    "    # Maximum cap\n",
    "    max_cap = 50000\n",
    "    return min(int(base_amount), max_cap)"
   ]
  },
  {
   "cell_type": "code",
   "execution_count": 7,
   "id": "33d100c8-c56b-4a26-b913-3927a83fd9ac",
   "metadata": {},
   "outputs": [],
   "source": [
    "@tool\n",
    "def update_negotiation_status(\n",
    "        status: Literal[\"won\", \"lost\"],\n",
    "        tool_call_id: Annotated[str, InjectedToolCallId],\n",
    "    ):\n",
    "    \"\"\"\n",
    "    Updates the negotiation status of the workflow.\n",
    "    - 'won': If the customer agrees to the loan terms.\n",
    "    - 'lost': If the customer declines the loan terms.\n",
    "    - Returns the updated status.\n",
    "    \"\"\"\n",
    "    \n",
    "    return Command(\n",
    "        update={\n",
    "            # update the state keys\n",
    "            \"negotiation_status\": status,\n",
    "            # update the message history\n",
    "            \"messages\": [\n",
    "                ToolMessage(\n",
    "                    content=\"Successfully updated negotiation_status\", \n",
    "                    tool_call_id=tool_call_id\n",
    "                )\n",
    "            ],\n",
    "        }\n",
    "    )"
   ]
  },
  {
   "cell_type": "code",
   "execution_count": 8,
   "id": "038a4f58-b693-42eb-9e59-13f86cc37ca8",
   "metadata": {},
   "outputs": [],
   "source": [
    "tools = [\n",
    "    calculate_max_loan, \n",
    "    update_negotiation_status\n",
    "]"
   ]
  },
  {
   "cell_type": "markdown",
   "id": "12e81048-2096-4bca-94a7-3cf9148c0375",
   "metadata": {},
   "source": [
    "5. Create your Loan Agent\n",
    "Bind tools to the llm built above and create your agent with this llm."
   ]
  },
  {
   "cell_type": "code",
   "execution_count": 9,
   "id": "abffe98a-023c-4785-8ec5-c8731e9188f1",
   "metadata": {},
   "outputs": [],
   "source": [
    "# TODO - Bind the tools\n",
    "llm_with_tools = llm.bind_tools(tools)"
   ]
  },
  {
   "cell_type": "code",
   "execution_count": 10,
   "id": "e12a8158-c5f8-499b-a5b6-f8e76957ec33",
   "metadata": {},
   "outputs": [],
   "source": [
    "# TODO - Define your loan agent\n",
    "def loan_agent(state: SessionState):\n",
    "    ai_message = llm_with_tools.invoke(state[\"messages\"])\n",
    "    ai_message.name = \"loan_agent\"\n",
    "    ai_message.id = str(uuid.uuid4())\n",
    "\n",
    "    return {\"messages\": ai_message}"
   ]
  },
  {
   "cell_type": "markdown",
   "id": "8a161769-6028-43c7-a0a8-5d3bd252d6a1",
   "metadata": {},
   "source": [
    "6. Create your Router function\n",
    "If the status is 'won' or 'lost', it should proceed to END. Otherwise, if there's a tool call and it's in progress, it should proceed to the tool node called 'tools'."
   ]
  },
  {
   "cell_type": "code",
   "execution_count": 11,
   "id": "59636530-2874-4651-8b09-c2be6ca0e15a",
   "metadata": {},
   "outputs": [],
   "source": [
    "def negotiation_router(state: SessionState):\n",
    "    print(f\"inside router status: {state['negotiation_status']}\")\n",
    "    if state[\"negotiation_status\"] != \"in_progress\":\n",
    "        return END\n",
    "\n",
    "    last_message = state[\"messages\"][-1]\n",
    "    if last_message.tool_calls:\n",
    "        return \"tools\"\n",
    "\n",
    "    return END"
   ]
  },
  {
   "cell_type": "markdown",
   "id": "69ec75e1-1819-4080-b8c8-5c834b0c1f94",
   "metadata": {},
   "source": [
    "7. Build, Compile and Visualize your Workflow\n",
    "Instantiate the StateGraph with the SessionState\n",
    "Add all the nodes you created\n",
    "Add your edges:\n",
    "start -> entry point\n",
    "entry point -> loan agent\n",
    "loan agent -> [tools, end]\n",
    "tools -> end\n",
    "Make sure you use the router function in the conditional edge.\n",
    "\n",
    "Also, use MemorySaver to compile your graph"
   ]
  },
  {
   "cell_type": "code",
   "execution_count": 13,
   "id": "af6ac108-4641-47d7-bddc-79f9c202e06d",
   "metadata": {},
   "outputs": [],
   "source": [
    "# TODO - define the workflow and add nodes and edges\n",
    "workflow = StateGraph(SessionState)\n",
    "\n",
    "workflow.add_node(\"entry_point\", entry_point)\n",
    "workflow.add_node(\"loan_agent\", loan_agent)\n",
    "workflow.add_node(\"tools\", ToolNode(tools))\n",
    "\n",
    "workflow.add_edge(START, \"entry_point\")\n",
    "workflow.add_edge(\"entry_point\", \"loan_agent\")\n",
    "\n",
    "# Conditional Routing\n",
    "workflow.add_conditional_edges(\n",
    "    source=\"loan_agent\", \n",
    "    path=negotiation_router, \n",
    "    path_map=[\"tools\", END]\n",
    ")\n",
    "\n",
    "workflow.add_edge(\"tools\", \"loan_agent\")\n",
    "\n",
    "checkpointer = MemorySaver()"
   ]
  },
  {
   "cell_type": "code",
   "execution_count": 15,
   "id": "381916ad-0c5e-4bbf-95aa-accb4e56a1df",
   "metadata": {},
   "outputs": [
    {
     "data": {
      "image/png": "[encoded data removed]",
      "text/plain": [
       "<IPython.core.display.Image object>"
      ]
     },
     "metadata": {},
     "output_type": "display_data"
    }
   ],
   "source": [
    "\n",
    "loan_graph = workflow.compile(checkpointer=checkpointer)\n",
    "\n",
    "display(\n",
    "    Image(\n",
    "        loan_graph.get_graph().draw_mermaid_png()\n",
    "    )\n",
    ")"
   ]
  },
  {
   "cell_type": "markdown",
   "id": "5e5455ea-efd6-46f7-96d7-6518daf7c27c",
   "metadata": {},
   "source": [
    "8. Invoke your Graph\n",
    "Change the input and config and run execute it"
   ]
  },
  {
   "cell_type": "code",
   "execution_count": 16,
   "id": "5d6c3629-ffc2-4ae1-86c1-c137dc5fd5c3",
   "metadata": {},
   "outputs": [],
   "source": [
    "customer_query = \"I want to have $1000000\""
   ]
  },
  {
   "cell_type": "code",
   "execution_count": 17,
   "id": "79049d70-bff2-4f61-8f5b-242a672f4eb3",
   "metadata": {},
   "outputs": [],
   "source": [
    "inputs = {\n",
    "    \"customer_query\": customer_query,\n",
    "}\n",
    "\n",
    "config = {\n",
    "    \"thread_id\": 1,\n",
    "    \"customer_name\": \"Henrique Santana\",\n",
    "    \"age\": 34,\n",
    "    \"income\": 1000,\n",
    "    \"credit_score\": 750,\n",
    "}"
   ]
  },
  {
   "cell_type": "code",
   "execution_count": 18,
   "id": "0cbc6b48-3a58-485a-bac8-25ed0f79e5f9",
   "metadata": {},
   "outputs": [
    {
     "name": "stdout",
     "output_type": "stream",
     "text": [
      "Number of messages 1\n",
      "I want to have $1000000\n",
      "inside router status: in_progress\n",
      "inside router status: in_progress\n",
      "inside router status: lost\n"
     ]
    }
   ],
   "source": [
    "output = loan_graph.invoke(\n",
    "    input=inputs,\n",
    "    config=config,\n",
    ")"
   ]
  },
  {
   "cell_type": "markdown",
   "id": "b5c91288-d7ff-488d-8513-e5238b7c3e0c",
   "metadata": {},
   "source": [
    "9. Inspect it\n",
    "After executing, inspect the outputs"
   ]
  },
  {
   "cell_type": "code",
   "execution_count": 19,
   "id": "8662d297-73fd-4e65-bfc6-835576d5eeab",
   "metadata": {},
   "outputs": [
    {
     "name": "stdout",
     "output_type": "stream",
     "text": [
      "================================\u001b[1m System Message \u001b[0m================================\n",
      "Name: system\n",
      "\n",
      "You are a Loan Agent analysing a customer loan request.\n",
      "- Understand how much the customer needs.\n",
      "- Calculate the maximum loan amount using one of the provided tools.\n",
      "- If the requested amount exceeds the limit, update the negotiation to lost.\n",
      "- If the requested amount meets the limit, update the negotiation to won.\n",
      "- Update status as won or lost based on the negotiation.\n",
      "Terminate gracefully:\n",
      "  - If won: Notify that a human representative will contact them.\n",
      "  - If lost: Thank the customer for their time and explain why the loan was refused.\n",
      "\n",
      "Details about the customer you're negotiating with:\n",
      "- customer_name: Henrique Santana- customer_age: 34- customer_income: 1000- customer_credit_score: 750\n",
      "================================\u001b[1m Human Message \u001b[0m=================================\n",
      "Name: henrique_santana\n",
      "\n",
      "I want to have $1000000\n",
      "==================================\u001b[1m Ai Message \u001b[0m==================================\n",
      "Name: loan_agent\n",
      "Tool Calls:\n",
      "  calculate_max_loan (call_qRbahWwWEBZP9M5MngVghAfT)\n",
      " Call ID: call_qRbahWwWEBZP9M5MngVghAfT\n",
      "  Args:\n",
      "    age: 34\n",
      "    income: 1000\n",
      "    credit_score: 750\n",
      "=================================\u001b[1m Tool Message \u001b[0m=================================\n",
      "Name: calculate_max_loan\n",
      "\n",
      "10000\n",
      "==================================\u001b[1m Ai Message \u001b[0m==================================\n",
      "Name: loan_agent\n",
      "Tool Calls:\n",
      "  update_negotiation_status (call_M8jJaCHP9f3KONtWbUe9CIho)\n",
      " Call ID: call_M8jJaCHP9f3KONtWbUe9CIho\n",
      "  Args:\n",
      "    status: lost\n",
      "=================================\u001b[1m Tool Message \u001b[0m=================================\n",
      "Name: update_negotiation_status\n",
      "\n",
      "Successfully updated negotiation_status\n",
      "==================================\u001b[1m Ai Message \u001b[0m==================================\n",
      "Name: loan_agent\n",
      "\n",
      "Thank you for your time, Henrique. Unfortunately, your loan request for $1,000,000 exceeds the maximum amount we can offer, which is $10,000. If you have any other questions or need assistance, feel free to reach out.\n"
     ]
    }
   ],
   "source": [
    "for message in output[\"messages\"]:\n",
    "    message.pretty_print()"
   ]
  },
  {
   "cell_type": "code",
   "execution_count": 20,
   "id": "368966c1-2157-4b16-84c1-89c93bc7d120",
   "metadata": {},
   "outputs": [
    {
     "data": {
      "text/plain": [
       "'lost'"
      ]
     },
     "execution_count": 20,
     "metadata": {},
     "output_type": "execute_result"
    }
   ],
   "source": [
    "output[\"negotiation_status\"]"
   ]
  },
  {
   "cell_type": "code",
   "execution_count": 21,
   "id": "29ffebf6-5d02-4957-8e02-282c9a68df40",
   "metadata": {},
   "outputs": [],
   "source": [
    "state_history = list(\n",
    "    loan_graph.get_state_history(\n",
    "        config={\n",
    "            \"configurable\":{\"thread_id\":1}\n",
    "        }\n",
    "    )\n",
    ")"
   ]
  },
  {
   "cell_type": "code",
   "execution_count": 22,
   "id": "6ab4b23c-a484-4cea-bd8f-d9c25324e902",
   "metadata": {},
   "outputs": [
    {
     "data": {
      "text/plain": [
       "[StateSnapshot(values={'messages': [SystemMessage(content=\"You are a Loan Agent analysing a customer loan request.\\n- Understand how much the customer needs.\\n- Calculate the maximum loan amount using one of the provided tools.\\n- If the requested amount exceeds the limit, update the negotiation to lost.\\n- If the requested amount meets the limit, update the negotiation to won.\\n- Update status as won or lost based on the negotiation.\\nTerminate gracefully:\\n  - If won: Notify that a human representative will contact them.\\n  - If lost: Thank the customer for their time and explain why the loan was refused.\\n\\nDetails about the customer you're negotiating with:\\n- customer_name: Henrique Santana- customer_age: 34- customer_income: 1000- customer_credit_score: 750\", additional_kwargs={}, response_metadata={}, name='system', id='789344a1-688f-4565-8291-a500be6dc9c6'), HumanMessage(content='I want to have $1000000', additional_kwargs={}, response_metadata={}, name='henrique_santana', id='3a4c47f6-b8c1-466d-a582-c98e1a5e5021'), AIMessage(content='', additional_kwargs={'tool_calls': [{'id': 'call_qRbahWwWEBZP9M5MngVghAfT', 'function': {'arguments': '{\"age\":34,\"income\":1000,\"credit_score\":750}', 'name': 'calculate_max_loan'}, 'type': 'function'}], 'refusal': None}, response_metadata={'token_usage': {'completion_tokens': 26, 'prompt_tokens': 354, 'total_tokens': 380, 'completion_tokens_details': {'accepted_prediction_tokens': 0, 'audio_tokens': 0, 'reasoning_tokens': 0, 'rejected_prediction_tokens': 0}, 'prompt_tokens_details': {'audio_tokens': 0, 'cached_tokens': 0}}, 'model_name': 'gpt-4o-mini-2024-07-18', 'system_fingerprint': 'fp_560af6e559', 'id': 'chatcmpl-CP7cGHBBSSmXUn1pkloC251RKeV0F', 'service_tier': 'default', 'finish_reason': 'tool_calls', 'logprobs': None}, name='loan_agent', id='3b412fa5-71d0-4f1a-9119-864cc5a8c2ba', tool_calls=[{'name': 'calculate_max_loan', 'args': {'age': 34, 'income': 1000, 'credit_score': 750}, 'id': 'call_qRbahWwWEBZP9M5MngVghAfT', 'type': 'tool_call'}], usage_metadata={'input_tokens': 354, 'output_tokens': 26, 'total_tokens': 380, 'input_token_details': {'audio': 0, 'cache_read': 0}, 'output_token_details': {'audio': 0, 'reasoning': 0}}), ToolMessage(content='10000', name='calculate_max_loan', id='61198e57-656c-4984-9d57-7f5b0cadb336', tool_call_id='call_qRbahWwWEBZP9M5MngVghAfT'), AIMessage(content='', additional_kwargs={'tool_calls': [{'id': 'call_M8jJaCHP9f3KONtWbUe9CIho', 'function': {'arguments': '{\"status\":\"lost\"}', 'name': 'update_negotiation_status'}, 'type': 'function'}], 'refusal': None}, response_metadata={'token_usage': {'completion_tokens': 17, 'prompt_tokens': 395, 'total_tokens': 412, 'completion_tokens_details': {'accepted_prediction_tokens': 0, 'audio_tokens': 0, 'reasoning_tokens': 0, 'rejected_prediction_tokens': 0}, 'prompt_tokens_details': {'audio_tokens': 0, 'cached_tokens': 0}}, 'model_name': 'gpt-4o-mini-2024-07-18', 'system_fingerprint': 'fp_560af6e559', 'id': 'chatcmpl-CP7cIC0JUwxAzrkyvzTE5fvwVgxrb', 'service_tier': 'default', 'finish_reason': 'tool_calls', 'logprobs': None}, name='loan_agent', id='32503c71-b8ea-4b66-b4cb-e9c0d704b72a', tool_calls=[{'name': 'update_negotiation_status', 'args': {'status': 'lost'}, 'id': 'call_M8jJaCHP9f3KONtWbUe9CIho', 'type': 'tool_call'}], usage_metadata={'input_tokens': 395, 'output_tokens': 17, 'total_tokens': 412, 'input_token_details': {'audio': 0, 'cache_read': 0}, 'output_token_details': {'audio': 0, 'reasoning': 0}}), ToolMessage(content='Successfully updated negotiation_status', name='update_negotiation_status', id='3f5e570d-800c-4534-82e5-d3bb1448067e', tool_call_id='call_M8jJaCHP9f3KONtWbUe9CIho'), AIMessage(content='Thank you for your time, Henrique. Unfortunately, your loan request for $1,000,000 exceeds the maximum amount we can offer, which is $10,000. If you have any other questions or need assistance, feel free to reach out.', additional_kwargs={'refusal': None}, response_metadata={'token_usage': {'completion_tokens': 52, 'prompt_tokens': 430, 'total_tokens': 482, 'completion_tokens_details': {'accepted_prediction_tokens': 0, 'audio_tokens': 0, 'reasoning_tokens': 0, 'rejected_prediction_tokens': 0}, 'prompt_tokens_details': {'audio_tokens': 0, 'cached_tokens': 0}}, 'model_name': 'gpt-4o-mini-2024-07-18', 'system_fingerprint': 'fp_560af6e559', 'id': 'chatcmpl-CP7cKYvobTUiUPIIHj6CAyxKSOzep', 'service_tier': 'default', 'finish_reason': 'stop', 'logprobs': None}, name='loan_agent', id='7765d641-c5be-44b7-946f-95135de81087', usage_metadata={'input_tokens': 430, 'output_tokens': 52, 'total_tokens': 482, 'input_token_details': {'audio': 0, 'cache_read': 0}, 'output_token_details': {'audio': 0, 'reasoning': 0}})], 'customer_query': 'I want to have $1000000', 'negotiation_status': 'lost'}, next=(), config={'configurable': {'thread_id': '1', 'checkpoint_ns': '', 'checkpoint_id': '1f0a5de6-da28-6887-8006-fdecfed391e4'}}, metadata={'source': 'loop', 'step': 6, 'parents': {}, 'customer_name': 'Henrique Santana', 'age': 34, 'income': 1000, 'credit_score': 750}, created_at='2025-10-10T13:38:38.917623+00:00', parent_config={'configurable': {'thread_id': '1', 'checkpoint_ns': '', 'checkpoint_id': '1f0a5de6-bbe4-623d-8005-a723d2a48547'}}, tasks=(), interrupts=()),\n",
       " StateSnapshot(values={'messages': [SystemMessage(content=\"You are a Loan Agent analysing a customer loan request.\\n- Understand how much the customer needs.\\n- Calculate the maximum loan amount using one of the provided tools.\\n- If the requested amount exceeds the limit, update the negotiation to lost.\\n- If the requested amount meets the limit, update the negotiation to won.\\n- Update status as won or lost based on the negotiation.\\nTerminate gracefully:\\n  - If won: Notify that a human representative will contact them.\\n  - If lost: Thank the customer for their time and explain why the loan was refused.\\n\\nDetails about the customer you're negotiating with:\\n- customer_name: Henrique Santana- customer_age: 34- customer_income: 1000- customer_credit_score: 750\", additional_kwargs={}, response_metadata={}, name='system', id='789344a1-688f-4565-8291-a500be6dc9c6'), HumanMessage(content='I want to have $1000000', additional_kwargs={}, response_metadata={}, name='henrique_santana', id='3a4c47f6-b8c1-466d-a582-c98e1a5e5021'), AIMessage(content='', additional_kwargs={'tool_calls': [{'id': 'call_qRbahWwWEBZP9M5MngVghAfT', 'function': {'arguments': '{\"age\":34,\"income\":1000,\"credit_score\":750}', 'name': 'calculate_max_loan'}, 'type': 'function'}], 'refusal': None}, response_metadata={'token_usage': {'completion_tokens': 26, 'prompt_tokens': 354, 'total_tokens': 380, 'completion_tokens_details': {'accepted_prediction_tokens': 0, 'audio_tokens': 0, 'reasoning_tokens': 0, 'rejected_prediction_tokens': 0}, 'prompt_tokens_details': {'audio_tokens': 0, 'cached_tokens': 0}}, 'model_name': 'gpt-4o-mini-2024-07-18', 'system_fingerprint': 'fp_560af6e559', 'id': 'chatcmpl-CP7cGHBBSSmXUn1pkloC251RKeV0F', 'service_tier': 'default', 'finish_reason': 'tool_calls', 'logprobs': None}, name='loan_agent', id='3b412fa5-71d0-4f1a-9119-864cc5a8c2ba', tool_calls=[{'name': 'calculate_max_loan', 'args': {'age': 34, 'income': 1000, 'credit_score': 750}, 'id': 'call_qRbahWwWEBZP9M5MngVghAfT', 'type': 'tool_call'}], usage_metadata={'input_tokens': 354, 'output_tokens': 26, 'total_tokens': 380, 'input_token_details': {'audio': 0, 'cache_read': 0}, 'output_token_details': {'audio': 0, 'reasoning': 0}}), ToolMessage(content='10000', name='calculate_max_loan', id='61198e57-656c-4984-9d57-7f5b0cadb336', tool_call_id='call_qRbahWwWEBZP9M5MngVghAfT'), AIMessage(content='', additional_kwargs={'tool_calls': [{'id': 'call_M8jJaCHP9f3KONtWbUe9CIho', 'function': {'arguments': '{\"status\":\"lost\"}', 'name': 'update_negotiation_status'}, 'type': 'function'}], 'refusal': None}, response_metadata={'token_usage': {'completion_tokens': 17, 'prompt_tokens': 395, 'total_tokens': 412, 'completion_tokens_details': {'accepted_prediction_tokens': 0, 'audio_tokens': 0, 'reasoning_tokens': 0, 'rejected_prediction_tokens': 0}, 'prompt_tokens_details': {'audio_tokens': 0, 'cached_tokens': 0}}, 'model_name': 'gpt-4o-mini-2024-07-18', 'system_fingerprint': 'fp_560af6e559', 'id': 'chatcmpl-CP7cIC0JUwxAzrkyvzTE5fvwVgxrb', 'service_tier': 'default', 'finish_reason': 'tool_calls', 'logprobs': None}, name='loan_agent', id='32503c71-b8ea-4b66-b4cb-e9c0d704b72a', tool_calls=[{'name': 'update_negotiation_status', 'args': {'status': 'lost'}, 'id': 'call_M8jJaCHP9f3KONtWbUe9CIho', 'type': 'tool_call'}], usage_metadata={'input_tokens': 395, 'output_tokens': 17, 'total_tokens': 412, 'input_token_details': {'audio': 0, 'cache_read': 0}, 'output_token_details': {'audio': 0, 'reasoning': 0}}), ToolMessage(content='Successfully updated negotiation_status', name='update_negotiation_status', id='3f5e570d-800c-4534-82e5-d3bb1448067e', tool_call_id='call_M8jJaCHP9f3KONtWbUe9CIho')], 'customer_query': 'I want to have $1000000', 'negotiation_status': 'lost'}, next=('loan_agent',), config={'configurable': {'thread_id': '1', 'checkpoint_ns': '', 'checkpoint_id': '1f0a5de6-bbe4-623d-8005-a723d2a48547'}}, metadata={'source': 'loop', 'step': 5, 'parents': {}, 'customer_name': 'Henrique Santana', 'age': 34, 'income': 1000, 'credit_score': 750}, created_at='2025-10-10T13:38:35.743885+00:00', parent_config={'configurable': {'thread_id': '1', 'checkpoint_ns': '', 'checkpoint_id': '1f0a5de6-bbd8-6da6-8004-6e09d7fcc33f'}}, tasks=(PregelTask(id='5b3f257b-330c-9f9d-97ce-8cbc8a0d5d31', name='loan_agent', path=('__pregel_pull', 'loan_agent'), error=None, interrupts=(), state=None, result={'messages': AIMessage(content='Thank you for your time, Henrique. Unfortunately, your loan request for $1,000,000 exceeds the maximum amount we can offer, which is $10,000. If you have any other questions or need assistance, feel free to reach out.', additional_kwargs={'refusal': None}, response_metadata={'token_usage': {'completion_tokens': 52, 'prompt_tokens': 430, 'total_tokens': 482, 'completion_tokens_details': {'accepted_prediction_tokens': 0, 'audio_tokens': 0, 'reasoning_tokens': 0, 'rejected_prediction_tokens': 0}, 'prompt_tokens_details': {'audio_tokens': 0, 'cached_tokens': 0}}, 'model_name': 'gpt-4o-mini-2024-07-18', 'system_fingerprint': 'fp_560af6e559', 'id': 'chatcmpl-CP7cKYvobTUiUPIIHj6CAyxKSOzep', 'service_tier': 'default', 'finish_reason': 'stop', 'logprobs': None}, name='loan_agent', id='7765d641-c5be-44b7-946f-95135de81087', usage_metadata={'input_tokens': 430, 'output_tokens': 52, 'total_tokens': 482, 'input_token_details': {'audio': 0, 'cache_read': 0}, 'output_token_details': {'audio': 0, 'reasoning': 0}})}),), interrupts=()),\n",
       " StateSnapshot(values={'messages': [SystemMessage(content=\"You are a Loan Agent analysing a customer loan request.\\n- Understand how much the customer needs.\\n- Calculate the maximum loan amount using one of the provided tools.\\n- If the requested amount exceeds the limit, update the negotiation to lost.\\n- If the requested amount meets the limit, update the negotiation to won.\\n- Update status as won or lost based on the negotiation.\\nTerminate gracefully:\\n  - If won: Notify that a human representative will contact them.\\n  - If lost: Thank the customer for their time and explain why the loan was refused.\\n\\nDetails about the customer you're negotiating with:\\n- customer_name: Henrique Santana- customer_age: 34- customer_income: 1000- customer_credit_score: 750\", additional_kwargs={}, response_metadata={}, name='system', id='789344a1-688f-4565-8291-a500be6dc9c6'), HumanMessage(content='I want to have $1000000', additional_kwargs={}, response_metadata={}, name='henrique_santana', id='3a4c47f6-b8c1-466d-a582-c98e1a5e5021'), AIMessage(content='', additional_kwargs={'tool_calls': [{'id': 'call_qRbahWwWEBZP9M5MngVghAfT', 'function': {'arguments': '{\"age\":34,\"income\":1000,\"credit_score\":750}', 'name': 'calculate_max_loan'}, 'type': 'function'}], 'refusal': None}, response_metadata={'token_usage': {'completion_tokens': 26, 'prompt_tokens': 354, 'total_tokens': 380, 'completion_tokens_details': {'accepted_prediction_tokens': 0, 'audio_tokens': 0, 'reasoning_tokens': 0, 'rejected_prediction_tokens': 0}, 'prompt_tokens_details': {'audio_tokens': 0, 'cached_tokens': 0}}, 'model_name': 'gpt-4o-mini-2024-07-18', 'system_fingerprint': 'fp_560af6e559', 'id': 'chatcmpl-CP7cGHBBSSmXUn1pkloC251RKeV0F', 'service_tier': 'default', 'finish_reason': 'tool_calls', 'logprobs': None}, name='loan_agent', id='3b412fa5-71d0-4f1a-9119-864cc5a8c2ba', tool_calls=[{'name': 'calculate_max_loan', 'args': {'age': 34, 'income': 1000, 'credit_score': 750}, 'id': 'call_qRbahWwWEBZP9M5MngVghAfT', 'type': 'tool_call'}], usage_metadata={'input_tokens': 354, 'output_tokens': 26, 'total_tokens': 380, 'input_token_details': {'audio': 0, 'cache_read': 0}, 'output_token_details': {'audio': 0, 'reasoning': 0}}), ToolMessage(content='10000', name='calculate_max_loan', id='61198e57-656c-4984-9d57-7f5b0cadb336', tool_call_id='call_qRbahWwWEBZP9M5MngVghAfT'), AIMessage(content='', additional_kwargs={'tool_calls': [{'id': 'call_M8jJaCHP9f3KONtWbUe9CIho', 'function': {'arguments': '{\"status\":\"lost\"}', 'name': 'update_negotiation_status'}, 'type': 'function'}], 'refusal': None}, response_metadata={'token_usage': {'completion_tokens': 17, 'prompt_tokens': 395, 'total_tokens': 412, 'completion_tokens_details': {'accepted_prediction_tokens': 0, 'audio_tokens': 0, 'reasoning_tokens': 0, 'rejected_prediction_tokens': 0}, 'prompt_tokens_details': {'audio_tokens': 0, 'cached_tokens': 0}}, 'model_name': 'gpt-4o-mini-2024-07-18', 'system_fingerprint': 'fp_560af6e559', 'id': 'chatcmpl-CP7cIC0JUwxAzrkyvzTE5fvwVgxrb', 'service_tier': 'default', 'finish_reason': 'tool_calls', 'logprobs': None}, name='loan_agent', id='32503c71-b8ea-4b66-b4cb-e9c0d704b72a', tool_calls=[{'name': 'update_negotiation_status', 'args': {'status': 'lost'}, 'id': 'call_M8jJaCHP9f3KONtWbUe9CIho', 'type': 'tool_call'}], usage_metadata={'input_tokens': 395, 'output_tokens': 17, 'total_tokens': 412, 'input_token_details': {'audio': 0, 'cache_read': 0}, 'output_token_details': {'audio': 0, 'reasoning': 0}})], 'customer_query': 'I want to have $1000000', 'negotiation_status': 'in_progress'}, next=('tools',), config={'configurable': {'thread_id': '1', 'checkpoint_ns': '', 'checkpoint_id': '1f0a5de6-bbd8-6da6-8004-6e09d7fcc33f'}}, metadata={'source': 'loop', 'step': 4, 'parents': {}, 'customer_name': 'Henrique Santana', 'age': 34, 'income': 1000, 'credit_score': 750}, created_at='2025-10-10T13:38:35.739258+00:00', parent_config={'configurable': {'thread_id': '1', 'checkpoint_ns': '', 'checkpoint_id': '1f0a5de6-abe9-6f58-8003-02db1fc37323'}}, tasks=(PregelTask(id='6f1ebf59-0170-f736-8aef-14339450f04c', name='tools', path=('__pregel_pull', 'tools'), error=None, interrupts=(), state=None, result={'negotiation_status': 'lost', 'messages': [ToolMessage(content='Successfully updated negotiation_status', name='update_negotiation_status', id='3f5e570d-800c-4534-82e5-d3bb1448067e', tool_call_id='call_M8jJaCHP9f3KONtWbUe9CIho')]}),), interrupts=()),\n",
       " StateSnapshot(values={'messages': [SystemMessage(content=\"You are a Loan Agent analysing a customer loan request.\\n- Understand how much the customer needs.\\n- Calculate the maximum loan amount using one of the provided tools.\\n- If the requested amount exceeds the limit, update the negotiation to lost.\\n- If the requested amount meets the limit, update the negotiation to won.\\n- Update status as won or lost based on the negotiation.\\nTerminate gracefully:\\n  - If won: Notify that a human representative will contact them.\\n  - If lost: Thank the customer for their time and explain why the loan was refused.\\n\\nDetails about the customer you're negotiating with:\\n- customer_name: Henrique Santana- customer_age: 34- customer_income: 1000- customer_credit_score: 750\", additional_kwargs={}, response_metadata={}, name='system', id='789344a1-688f-4565-8291-a500be6dc9c6'), HumanMessage(content='I want to have $1000000', additional_kwargs={}, response_metadata={}, name='henrique_santana', id='3a4c47f6-b8c1-466d-a582-c98e1a5e5021'), AIMessage(content='', additional_kwargs={'tool_calls': [{'id': 'call_qRbahWwWEBZP9M5MngVghAfT', 'function': {'arguments': '{\"age\":34,\"income\":1000,\"credit_score\":750}', 'name': 'calculate_max_loan'}, 'type': 'function'}], 'refusal': None}, response_metadata={'token_usage': {'completion_tokens': 26, 'prompt_tokens': 354, 'total_tokens': 380, 'completion_tokens_details': {'accepted_prediction_tokens': 0, 'audio_tokens': 0, 'reasoning_tokens': 0, 'rejected_prediction_tokens': 0}, 'prompt_tokens_details': {'audio_tokens': 0, 'cached_tokens': 0}}, 'model_name': 'gpt-4o-mini-2024-07-18', 'system_fingerprint': 'fp_560af6e559', 'id': 'chatcmpl-CP7cGHBBSSmXUn1pkloC251RKeV0F', 'service_tier': 'default', 'finish_reason': 'tool_calls', 'logprobs': None}, name='loan_agent', id='3b412fa5-71d0-4f1a-9119-864cc5a8c2ba', tool_calls=[{'name': 'calculate_max_loan', 'args': {'age': 34, 'income': 1000, 'credit_score': 750}, 'id': 'call_qRbahWwWEBZP9M5MngVghAfT', 'type': 'tool_call'}], usage_metadata={'input_tokens': 354, 'output_tokens': 26, 'total_tokens': 380, 'input_token_details': {'audio': 0, 'cache_read': 0}, 'output_token_details': {'audio': 0, 'reasoning': 0}}), ToolMessage(content='10000', name='calculate_max_loan', id='61198e57-656c-4984-9d57-7f5b0cadb336', tool_call_id='call_qRbahWwWEBZP9M5MngVghAfT')], 'customer_query': 'I want to have $1000000', 'negotiation_status': 'in_progress'}, next=('loan_agent',), config={'configurable': {'thread_id': '1', 'checkpoint_ns': '', 'checkpoint_id': '1f0a5de6-abe9-6f58-8003-02db1fc37323'}}, metadata={'source': 'loop', 'step': 3, 'parents': {}, 'customer_name': 'Henrique Santana', 'age': 34, 'income': 1000, 'credit_score': 750}, created_at='2025-10-10T13:38:34.068558+00:00', parent_config={'configurable': {'thread_id': '1', 'checkpoint_ns': '', 'checkpoint_id': '1f0a5de6-abdf-6a3f-8002-4635339dba57'}}, tasks=(PregelTask(id='502ea2f4-6ce0-5091-8f47-18d54e6f9541', name='loan_agent', path=('__pregel_pull', 'loan_agent'), error=None, interrupts=(), state=None, result={'messages': AIMessage(content='', additional_kwargs={'tool_calls': [{'id': 'call_M8jJaCHP9f3KONtWbUe9CIho', 'function': {'arguments': '{\"status\":\"lost\"}', 'name': 'update_negotiation_status'}, 'type': 'function'}], 'refusal': None}, response_metadata={'token_usage': {'completion_tokens': 17, 'prompt_tokens': 395, 'total_tokens': 412, 'completion_tokens_details': {'accepted_prediction_tokens': 0, 'audio_tokens': 0, 'reasoning_tokens': 0, 'rejected_prediction_tokens': 0}, 'prompt_tokens_details': {'audio_tokens': 0, 'cached_tokens': 0}}, 'model_name': 'gpt-4o-mini-2024-07-18', 'system_fingerprint': 'fp_560af6e559', 'id': 'chatcmpl-CP7cIC0JUwxAzrkyvzTE5fvwVgxrb', 'service_tier': 'default', 'finish_reason': 'tool_calls', 'logprobs': None}, name='loan_agent', id='32503c71-b8ea-4b66-b4cb-e9c0d704b72a', tool_calls=[{'name': 'update_negotiation_status', 'args': {'status': 'lost'}, 'id': 'call_M8jJaCHP9f3KONtWbUe9CIho', 'type': 'tool_call'}], usage_metadata={'input_tokens': 395, 'output_tokens': 17, 'total_tokens': 412, 'input_token_details': {'audio': 0, 'cache_read': 0}, 'output_token_details': {'audio': 0, 'reasoning': 0}})}),), interrupts=()),\n",
       " StateSnapshot(values={'messages': [SystemMessage(content=\"You are a Loan Agent analysing a customer loan request.\\n- Understand how much the customer needs.\\n- Calculate the maximum loan amount using one of the provided tools.\\n- If the requested amount exceeds the limit, update the negotiation to lost.\\n- If the requested amount meets the limit, update the negotiation to won.\\n- Update status as won or lost based on the negotiation.\\nTerminate gracefully:\\n  - If won: Notify that a human representative will contact them.\\n  - If lost: Thank the customer for their time and explain why the loan was refused.\\n\\nDetails about the customer you're negotiating with:\\n- customer_name: Henrique Santana- customer_age: 34- customer_income: 1000- customer_credit_score: 750\", additional_kwargs={}, response_metadata={}, name='system', id='789344a1-688f-4565-8291-a500be6dc9c6'), HumanMessage(content='I want to have $1000000', additional_kwargs={}, response_metadata={}, name='henrique_santana', id='3a4c47f6-b8c1-466d-a582-c98e1a5e5021'), AIMessage(content='', additional_kwargs={'tool_calls': [{'id': 'call_qRbahWwWEBZP9M5MngVghAfT', 'function': {'arguments': '{\"age\":34,\"income\":1000,\"credit_score\":750}', 'name': 'calculate_max_loan'}, 'type': 'function'}], 'refusal': None}, response_metadata={'token_usage': {'completion_tokens': 26, 'prompt_tokens': 354, 'total_tokens': 380, 'completion_tokens_details': {'accepted_prediction_tokens': 0, 'audio_tokens': 0, 'reasoning_tokens': 0, 'rejected_prediction_tokens': 0}, 'prompt_tokens_details': {'audio_tokens': 0, 'cached_tokens': 0}}, 'model_name': 'gpt-4o-mini-2024-07-18', 'system_fingerprint': 'fp_560af6e559', 'id': 'chatcmpl-CP7cGHBBSSmXUn1pkloC251RKeV0F', 'service_tier': 'default', 'finish_reason': 'tool_calls', 'logprobs': None}, name='loan_agent', id='3b412fa5-71d0-4f1a-9119-864cc5a8c2ba', tool_calls=[{'name': 'calculate_max_loan', 'args': {'age': 34, 'income': 1000, 'credit_score': 750}, 'id': 'call_qRbahWwWEBZP9M5MngVghAfT', 'type': 'tool_call'}], usage_metadata={'input_tokens': 354, 'output_tokens': 26, 'total_tokens': 380, 'input_token_details': {'audio': 0, 'cache_read': 0}, 'output_token_details': {'audio': 0, 'reasoning': 0}})], 'customer_query': 'I want to have $1000000', 'negotiation_status': 'in_progress'}, next=('tools',), config={'configurable': {'thread_id': '1', 'checkpoint_ns': '', 'checkpoint_id': '1f0a5de6-abdf-6a3f-8002-4635339dba57'}}, metadata={'source': 'loop', 'step': 2, 'parents': {}, 'customer_name': 'Henrique Santana', 'age': 34, 'income': 1000, 'credit_score': 750}, created_at='2025-10-10T13:38:34.064329+00:00', parent_config={'configurable': {'thread_id': '1', 'checkpoint_ns': '', 'checkpoint_id': '1f0a5de6-8315-62fa-8001-7761173ba684'}}, tasks=(PregelTask(id='5c7fa4eb-acb2-4f6b-607b-64e300c74dc4', name='tools', path=('__pregel_pull', 'tools'), error=None, interrupts=(), state=None, result={'messages': [ToolMessage(content='10000', name='calculate_max_loan', id='61198e57-656c-4984-9d57-7f5b0cadb336', tool_call_id='call_qRbahWwWEBZP9M5MngVghAfT')]}),), interrupts=()),\n",
       " StateSnapshot(values={'messages': [SystemMessage(content=\"You are a Loan Agent analysing a customer loan request.\\n- Understand how much the customer needs.\\n- Calculate the maximum loan amount using one of the provided tools.\\n- If the requested amount exceeds the limit, update the negotiation to lost.\\n- If the requested amount meets the limit, update the negotiation to won.\\n- Update status as won or lost based on the negotiation.\\nTerminate gracefully:\\n  - If won: Notify that a human representative will contact them.\\n  - If lost: Thank the customer for their time and explain why the loan was refused.\\n\\nDetails about the customer you're negotiating with:\\n- customer_name: Henrique Santana- customer_age: 34- customer_income: 1000- customer_credit_score: 750\", additional_kwargs={}, response_metadata={}, name='system', id='789344a1-688f-4565-8291-a500be6dc9c6'), HumanMessage(content='I want to have $1000000', additional_kwargs={}, response_metadata={}, name='henrique_santana', id='3a4c47f6-b8c1-466d-a582-c98e1a5e5021')], 'customer_query': 'I want to have $1000000', 'negotiation_status': 'in_progress'}, next=('loan_agent',), config={'configurable': {'thread_id': '1', 'checkpoint_ns': '', 'checkpoint_id': '1f0a5de6-8315-62fa-8001-7761173ba684'}}, metadata={'source': 'loop', 'step': 1, 'parents': {}, 'customer_name': 'Henrique Santana', 'age': 34, 'income': 1000, 'credit_score': 750}, created_at='2025-10-10T13:38:29.787100+00:00', parent_config={'configurable': {'thread_id': '1', 'checkpoint_ns': '', 'checkpoint_id': '1f0a5de6-8311-6eaf-8000-d687f8227be2'}}, tasks=(PregelTask(id='5a97c2ef-4a22-1b3a-ea69-cfef39fef903', name='loan_agent', path=('__pregel_pull', 'loan_agent'), error=None, interrupts=(), state=None, result={'messages': AIMessage(content='', additional_kwargs={'tool_calls': [{'id': 'call_qRbahWwWEBZP9M5MngVghAfT', 'function': {'arguments': '{\"age\":34,\"income\":1000,\"credit_score\":750}', 'name': 'calculate_max_loan'}, 'type': 'function'}], 'refusal': None}, response_metadata={'token_usage': {'completion_tokens': 26, 'prompt_tokens': 354, 'total_tokens': 380, 'completion_tokens_details': {'accepted_prediction_tokens': 0, 'audio_tokens': 0, 'reasoning_tokens': 0, 'rejected_prediction_tokens': 0}, 'prompt_tokens_details': {'audio_tokens': 0, 'cached_tokens': 0}}, 'model_name': 'gpt-4o-mini-2024-07-18', 'system_fingerprint': 'fp_560af6e559', 'id': 'chatcmpl-CP7cGHBBSSmXUn1pkloC251RKeV0F', 'service_tier': 'default', 'finish_reason': 'tool_calls', 'logprobs': None}, name='loan_agent', id='3b412fa5-71d0-4f1a-9119-864cc5a8c2ba', tool_calls=[{'name': 'calculate_max_loan', 'args': {'age': 34, 'income': 1000, 'credit_score': 750}, 'id': 'call_qRbahWwWEBZP9M5MngVghAfT', 'type': 'tool_call'}], usage_metadata={'input_tokens': 354, 'output_tokens': 26, 'total_tokens': 380, 'input_token_details': {'audio': 0, 'cache_read': 0}, 'output_token_details': {'audio': 0, 'reasoning': 0}})}),), interrupts=()),\n",
       " StateSnapshot(values={'messages': [], 'customer_query': 'I want to have $1000000'}, next=('entry_point',), config={'configurable': {'thread_id': '1', 'checkpoint_ns': '', 'checkpoint_id': '1f0a5de6-8311-6eaf-8000-d687f8227be2'}}, metadata={'source': 'loop', 'step': 0, 'parents': {}, 'customer_name': 'Henrique Santana', 'age': 34, 'income': 1000, 'credit_score': 750}, created_at='2025-10-10T13:38:29.785761+00:00', parent_config={'configurable': {'thread_id': '1', 'checkpoint_ns': '', 'checkpoint_id': '1f0a5de6-830e-6e69-bfff-07ad5544eff3'}}, tasks=(PregelTask(id='ebf6a7b4-bb89-e110-0586-efff157b2a1e', name='entry_point', path=('__pregel_pull', 'entry_point'), error=None, interrupts=(), state=None, result={'messages': [SystemMessage(content=\"You are a Loan Agent analysing a customer loan request.\\n- Understand how much the customer needs.\\n- Calculate the maximum loan amount using one of the provided tools.\\n- If the requested amount exceeds the limit, update the negotiation to lost.\\n- If the requested amount meets the limit, update the negotiation to won.\\n- Update status as won or lost based on the negotiation.\\nTerminate gracefully:\\n  - If won: Notify that a human representative will contact them.\\n  - If lost: Thank the customer for their time and explain why the loan was refused.\\n\\nDetails about the customer you're negotiating with:\\n- customer_name: Henrique Santana- customer_age: 34- customer_income: 1000- customer_credit_score: 750\", additional_kwargs={}, response_metadata={}, name='system', id='789344a1-688f-4565-8291-a500be6dc9c6'), HumanMessage(content='I want to have $1000000', additional_kwargs={}, response_metadata={}, name='henrique_santana', id='3a4c47f6-b8c1-466d-a582-c98e1a5e5021')], 'negotiation_status': 'in_progress'}),), interrupts=()),\n",
       " StateSnapshot(values={'messages': []}, next=('__start__',), config={'configurable': {'thread_id': '1', 'checkpoint_ns': '', 'checkpoint_id': '1f0a5de6-830e-6e69-bfff-07ad5544eff3'}}, metadata={'source': 'input', 'step': -1, 'parents': {}, 'customer_name': 'Henrique Santana', 'age': 34, 'income': 1000, 'credit_score': 750}, created_at='2025-10-10T13:38:29.784530+00:00', parent_config=None, tasks=(PregelTask(id='f26d8f20-57d2-43cc-474e-314ac2da0eec', name='__start__', path=('__pregel_pull', '__start__'), error=None, interrupts=(), state=None, result={'customer_query': 'I want to have $1000000'}),), interrupts=())]"
      ]
     },
     "execution_count": 22,
     "metadata": {},
     "output_type": "execute_result"
    }
   ],
   "source": [
    "state_history"
   ]
  },
  {
   "cell_type": "code",
   "execution_count": 23,
   "id": "867a708f-135a-43d6-800c-bb8b671bdbbb",
   "metadata": {},
   "outputs": [
    {
     "data": {
      "text/plain": [
       "'Thank you for your time, Henrique. Unfortunately, your loan request for $1,000,000 exceeds the maximum amount we can offer, which is $10,000. If you have any other questions or need assistance, feel free to reach out.'"
      ]
     },
     "execution_count": 23,
     "metadata": {},
     "output_type": "execute_result"
    }
   ],
   "source": [
    "state_history[0].values[\"messages\"][-1].content"
   ]
  },
  {
   "cell_type": "code",
   "execution_count": 24,
   "id": "e13e5ee4-a517-4716-9a1f-8530a7aab087",
   "metadata": {},
   "outputs": [
    {
     "name": "stdout",
     "output_type": "stream",
     "text": [
      "================================\u001b[1m System Message \u001b[0m================================\n",
      "Name: system\n",
      "\n",
      "You are a Loan Agent analysing a customer loan request.\n",
      "- Understand how much the customer needs.\n",
      "- Calculate the maximum loan amount using one of the provided tools.\n",
      "- If the requested amount exceeds the limit, update the negotiation to lost.\n",
      "- If the requested amount meets the limit, update the negotiation to won.\n",
      "- Update status as won or lost based on the negotiation.\n",
      "Terminate gracefully:\n",
      "  - If won: Notify that a human representative will contact them.\n",
      "  - If lost: Thank the customer for their time and explain why the loan was refused.\n",
      "\n",
      "Details about the customer you're negotiating with:\n",
      "- customer_name: Henrique Santana- customer_age: 34- customer_income: 1000- customer_credit_score: 750\n",
      "================================\u001b[1m Human Message \u001b[0m=================================\n",
      "Name: henrique_santana\n",
      "\n",
      "I want to have $1000000\n",
      "==================================\u001b[1m Ai Message \u001b[0m==================================\n",
      "Name: loan_agent\n",
      "Tool Calls:\n",
      "  calculate_max_loan (call_qRbahWwWEBZP9M5MngVghAfT)\n",
      " Call ID: call_qRbahWwWEBZP9M5MngVghAfT\n",
      "  Args:\n",
      "    age: 34\n",
      "    income: 1000\n",
      "    credit_score: 750\n",
      "=================================\u001b[1m Tool Message \u001b[0m=================================\n",
      "Name: calculate_max_loan\n",
      "\n",
      "10000\n",
      "==================================\u001b[1m Ai Message \u001b[0m==================================\n",
      "Name: loan_agent\n",
      "Tool Calls:\n",
      "  update_negotiation_status (call_M8jJaCHP9f3KONtWbUe9CIho)\n",
      " Call ID: call_M8jJaCHP9f3KONtWbUe9CIho\n",
      "  Args:\n",
      "    status: lost\n",
      "=================================\u001b[1m Tool Message \u001b[0m=================================\n",
      "Name: update_negotiation_status\n",
      "\n",
      "Successfully updated negotiation_status\n",
      "==================================\u001b[1m Ai Message \u001b[0m==================================\n",
      "Name: loan_agent\n",
      "\n",
      "Thank you for your time, Henrique. Unfortunately, your loan request for $1,000,000 exceeds the maximum amount we can offer, which is $10,000. If you have any other questions or need assistance, feel free to reach out.\n"
     ]
    }
   ],
   "source": [
    "for m in state_history[0].values[\"messages\"]:\n",
    "    m.pretty_print()"
   ]
  },
  {
   "cell_type": "markdown",
   "id": "a453746c-158f-4c43-8a8b-fe3bf63f1457",
   "metadata": {},
   "source": [
    "10. Experiment\n",
    "Now that you understood how it works, experiment with new things.\n",
    "\n",
    "Run multiple times for the same thread_id, whant happens with the messages?\n",
    "Add a tool to calculate interests and taxes to enable pay in installments\n",
    "Improve negotiation, allowing the agent to offer discounts to close the deal"
   ]
  },
  {
   "cell_type": "code",
   "execution_count": null,
   "id": "6755db83-f8aa-4b53-bf62-463723f0f1fa",
   "metadata": {},
   "outputs": [],
   "source": []
  },
  {
   "cell_type": "code",
   "execution_count": null,
   "id": "b0c341b4-cd71-48bf-99c2-8235e53ab587",
   "metadata": {},
   "outputs": [],
   "source": []
  }
 ],
 "metadata": {
  "kernelspec": {
   "display_name": "Python 3 (ipykernel)",
   "language": "python",
   "name": "python3"
  },
  "language_info": {
   "codemirror_mode": {
    "name": "ipython",
    "version": 3
   },
   "file_extension": ".py",
   "mimetype": "text/x-python",
   "name": "python",
   "nbconvert_exporter": "python",
   "pygments_lexer": "ipython3",
   "version": "3.13.7"
  }
 },
 "nbformat": 4,
 "nbformat_minor": 5
}
