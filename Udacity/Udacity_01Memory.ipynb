{
 "cells": [
  {
   "cell_type": "markdown",
   "id": "a478a110-ac83-47a5-b0be-543e2c488133",
   "metadata": {},
   "source": [
    "Exercise - Add Memory and Self-reflection - STARTER\n",
    "In this exercise, you’ll enhance your AI agent by adding self-reflection and memory. These features allow the agent to iteratively critique its responses and improve over time while maintaining a log of all interactions.\n",
    "\n",
    "This mimics how human learning and feedback loops work, pushing your agent towards more refined and accurate outputs.\n",
    "\n",
    "Challenge\n",
    "\n",
    "You are tasked with upgrading the existing agent. This version can learn from its previous answers, identify mistakes, and refine its responses automatically."
   ]
  },
  {
   "cell_type": "markdown",
   "id": "5bc4901b-6969-4ab4-bb13-19792c7b22f9",
   "metadata": {},
   "source": [
    "0. Import the necessary libs"
   ]
  },
  {
   "cell_type": "code",
   "execution_count": 1,
   "id": "e8a5aefc-6fa4-4d37-ab79-6e390d772cff",
   "metadata": {},
   "outputs": [],
   "source": [
    "import json\n",
    "from typing import List, Dict, Literal\n",
    "from openai import OpenAI\n",
    "from openai.types.chat.chat_completion_message import ChatCompletionMessage"
   ]
  },
  {
   "cell_type": "markdown",
   "id": "bf15f5ba-70fa-44fe-8160-3114cb99e99f",
   "metadata": {},
   "source": [
    "1. Recap: how to use OpenAI client with your API Key\n",
    "To be able to connect with OpenAI, you need to instantiate an OpenAI client passing your OpenAI key.\n",
    "\n",
    "You can pass the api_key argument directly.\n",
    "\n",
    "client = OpenAI(api_key=\"voc-\")"
   ]
  },
  {
   "cell_type": "code",
   "execution_count": 2,
   "id": "259a8a72-5f60-42c7-b8e9-11275844ca38",
   "metadata": {},
   "outputs": [
    {
     "name": "stdout",
     "output_type": "stream",
     "text": [
      "Model count: 84\n"
     ]
    }
   ],
   "source": [
    "## TODO - Instantiate your client\n",
    "## in a cell\n",
    "#client = OpenAI(\n",
    "#    api_key = \"YOUR_API_KEY_HERE\"\n",
    "#)\n",
    "##or using venv variables\n",
    "#from dotenv import load_dotenv\n",
    "#load_dotenv()\n",
    "#client = OpenAI()\n",
    "\n",
    "from openai import OpenAI\n",
    "client = OpenAI()  # reads OPENAI_API_KEY from env\n",
    "\n",
    "# Auth + connectivity check\n",
    "models = client.models.list()\n",
    "print(\"Model count:\", len(models.data))"
   ]
  },
  {
   "cell_type": "code",
   "execution_count": 3,
   "id": "56d17368-0c70-4618-a6cd-a137fd725870",
   "metadata": {},
   "outputs": [
    {
     "data": {
      "text/plain": [
       "\"I'm unable to access previous interactions or remember past conversations. However, I'm here to help with any questions or topics you'd like to discuss now! What would you like to know?\""
      ]
     },
     "execution_count": 3,
     "metadata": {},
     "output_type": "execute_result"
    }
   ],
   "source": [
    "response = client.chat.completions.create(\n",
    "        model=\"gpt-4o-mini\",\n",
    "        messages=[\n",
    "            {\"role\": \"system\", \"content\": \"Answer all user questions\"},\n",
    "            {\"role\": \"user\", \"content\":\"What have I asked?\"},\n",
    "        ],\n",
    "        temperature=0.0,\n",
    "    )\n",
    "response.choices[0].message.content"
   ]
  },
  {
   "cell_type": "markdown",
   "id": "949cdba2-5bd7-4085-9a9a-399b477dcee7",
   "metadata": {},
   "source": [
    "2. Recap: Adding Memory\n",
    "In order to add reflection, you need to make sure your agent can keep track of all interactions. Let's quickly recap how to do it with a simple list."
   ]
  },
  {
   "cell_type": "code",
   "execution_count": 5,
   "id": "d99f829f-d7b6-4842-86b7-34455f16939d",
   "metadata": {},
   "outputs": [],
   "source": [
    "memory = [\n",
    "    {\"role\": \"system\", \"content\": \"Answer all user questions\"},\n",
    "    {\"role\": \"user\", \"content\": \"What's an API\"},\n",
    "]"
   ]
  },
  {
   "cell_type": "code",
   "execution_count": 6,
   "id": "1d22cee3-f5a0-4ba2-92f5-dfe2206771b9",
   "metadata": {},
   "outputs": [
    {
     "data": {
      "text/plain": [
       "[{'role': 'system', 'content': 'Answer all user questions'},\n",
       " {'role': 'user', 'content': \"What's an API\"},\n",
       " {'role': 'assistant',\n",
       "  'content': 'An API, or Application Programming Interface, is a set of rules and protocols that allows different software applications to communicate with each other. It defines the methods and data formats that applications can use to request and exchange information. APIs enable developers to access the functionality of other software services, libraries, or platforms without needing to understand their internal workings.\\n\\nAPIs can be used for various purposes, such as:\\n\\n1. **Web APIs**: Allow communication between web servers and clients, often using HTTP requests. Examples include RESTful APIs and GraphQL APIs.\\n2. **Library APIs**: Provide a set of functions and procedures for developers to use in their applications, often found in programming libraries.\\n3. **Operating System APIs**: Allow applications to interact with the operating system, such as file management or network communication.\\n\\nOverall, APIs are essential for building modern software applications, enabling integration and functionality across different systems and services.'}]"
      ]
     },
     "execution_count": 6,
     "metadata": {},
     "output_type": "execute_result"
    }
   ],
   "source": [
    "new_response = client.chat.completions.create(\n",
    "    model=\"gpt-4o-mini\",\n",
    "    messages=memory,\n",
    "    temperature=0.0,\n",
    ")\n",
    "\n",
    "memory.append(\n",
    "    {\"role\": \"assistant\", \"content\": new_response.choices[0].message.content}\n",
    ")\n",
    "\n",
    "memory"
   ]
  },
  {
   "cell_type": "code",
   "execution_count": 7,
   "id": "f6646c42-536e-4976-a3df-07ff6a8beb83",
   "metadata": {},
   "outputs": [
    {
     "data": {
      "text/plain": [
       "[{'role': 'system', 'content': 'Answer all user questions'},\n",
       " {'role': 'user', 'content': \"What's an API\"},\n",
       " {'role': 'assistant',\n",
       "  'content': 'An API, or Application Programming Interface, is a set of rules and protocols that allows different software applications to communicate with each other. It defines the methods and data formats that applications can use to request and exchange information. APIs enable developers to access the functionality of other software services, libraries, or platforms without needing to understand their internal workings.\\n\\nAPIs can be used for various purposes, such as:\\n\\n1. **Web APIs**: Allow communication between web servers and clients, often using HTTP requests. Examples include RESTful APIs and GraphQL APIs.\\n2. **Library APIs**: Provide a set of functions and procedures for developers to use in their applications, often found in programming libraries.\\n3. **Operating System APIs**: Allow applications to interact with the operating system, such as file management or network communication.\\n\\nOverall, APIs are essential for building modern software applications, enabling integration and functionality across different systems and services.'},\n",
       " {'role': 'user', 'content': 'What have I asked?'}]"
      ]
     },
     "execution_count": 7,
     "metadata": {},
     "output_type": "execute_result"
    }
   ],
   "source": [
    "memory.append(\n",
    "    {\"role\": \"user\", \"content\": \"What have I asked?\"}\n",
    ")\n",
    "\n",
    "memory"
   ]
  },
  {
   "cell_type": "code",
   "execution_count": 8,
   "id": "b8117158-ad16-4de7-aab5-5443bbbf2a40",
   "metadata": {},
   "outputs": [
    {
     "data": {
      "text/plain": [
       "[{'role': 'system', 'content': 'Answer all user questions'},\n",
       " {'role': 'user', 'content': \"What's an API\"},\n",
       " {'role': 'assistant',\n",
       "  'content': 'An API, or Application Programming Interface, is a set of rules and protocols that allows different software applications to communicate with each other. It defines the methods and data formats that applications can use to request and exchange information. APIs enable developers to access the functionality of other software services, libraries, or platforms without needing to understand their internal workings.\\n\\nAPIs can be used for various purposes, such as:\\n\\n1. **Web APIs**: Allow communication between web servers and clients, often using HTTP requests. Examples include RESTful APIs and GraphQL APIs.\\n2. **Library APIs**: Provide a set of functions and procedures for developers to use in their applications, often found in programming libraries.\\n3. **Operating System APIs**: Allow applications to interact with the operating system, such as file management or network communication.\\n\\nOverall, APIs are essential for building modern software applications, enabling integration and functionality across different systems and services.'},\n",
       " {'role': 'user', 'content': 'What have I asked?'},\n",
       " {'role': 'assistant',\n",
       "  'content': 'You asked, \"What\\'s an API?\" and I provided an explanation of what an API (Application Programming Interface) is, including its purpose and types. If you have any more questions or need further clarification, feel free to ask!'}]"
      ]
     },
     "execution_count": 8,
     "metadata": {},
     "output_type": "execute_result"
    }
   ],
   "source": [
    "new_response = client.chat.completions.create(\n",
    "    model=\"gpt-4o-mini\",\n",
    "    messages=memory,\n",
    "    temperature=0.0,\n",
    ")\n",
    "\n",
    "memory.append(\n",
    "    {\"role\": \"assistant\", \"content\": new_response.choices[0].message.content}\n",
    ")\n",
    "\n",
    "memory"
   ]
  },
  {
   "cell_type": "markdown",
   "id": "07317b29-4758-485f-a25e-98d0011a519e",
   "metadata": {},
   "source": [
    "3. Create a memory layer\n",
    "Now that you remember how to use a list of messages, it's recommended to have a proper class to deal with more complicated cases.\n",
    "\n",
    "Create the Memory class and add the following methods to it:\n",
    "\n",
    "add_message\n",
    "get_messages\n",
    "last_message"
   ]
  },
  {
   "cell_type": "code",
   "execution_count": 10,
   "id": "ac360566-062b-4c8a-ac69-739cfd4c787c",
   "metadata": {},
   "outputs": [],
   "source": [
    "# memory layer\n",
    "\n",
    "class Memory:\n",
    "    def __init__(self):\n",
    "        self._messages: List[Dict[str, str]] = []\n",
    "\n",
    "    def add_message(self, role: Literal['user', 'system', 'assistant'], content: str):\n",
    "        self._messages.append({\n",
    "            \"role\": role,\n",
    "            \"content\": content\n",
    "        })\n",
    "\n",
    "    def get_messages(self) -> List[Dict[str, str]]:\n",
    "        return self._messages\n",
    "\n",
    "    # A new method\n",
    "    def last_message(self) -> None:\n",
    "        if self._messages:\n",
    "            return self._messages[-1]"
   ]
  },
  {
   "cell_type": "markdown",
   "id": "ba29bfc9-0af6-4b9f-a555-6451794bc503",
   "metadata": {},
   "source": [
    "4. Update the Agent class\n",
    "In this exercise, you will enhance the AI Agent with self-reflection capabilities, allowing it to critique its own responses and refine them iteratively. This feature enables the agent to evaluate its output and improve the response quality before delivering a final answer.\n",
    "\n",
    "Objective\n",
    "\n",
    "Your task is to modify the agent so that it can:\n",
    "\n",
    "Store conversation history – Implement a memory mechanism to track interactions.\n",
    "Generate an initial response – Process user input and return a response using the language model.\n",
    "Critique its own response when enabled – If self-reflection is activated, the agent should generate feedback on its own answer.\n",
    "Refine its response iteratively – Based on the self-critique, the agent should adjust its reply, improving clarity, accuracy, and relevance.\n",
    "Steps\n",
    "\n",
    "Implement a memory layer to retain conversation history.\n",
    "Introduce a self-reflection mechanism that allows the agent to analyze its response and refine it.\n",
    "Limit the number of self-reflection iterations to prevent excessive loops (minimum 1, maximum 3).\n",
    "Ensure flexibility by allowing users to toggle self-reflection on or off.\n",
    "Considerations\n",
    "\n",
    "The agent should always generate at least one response before self-reflection.\n",
    "If self-reflection is enabled, it should run at least once more to critique and improve its output.\n",
    "The number of iterations should be controlled and not exceed three refinements.\n",
    "Implement logging functionality (verbose mode) to track the refinement process.\n",
    "Invoke\n",
    "\n",
    "Refactor invoke() method. This method now should include:\n",
    "\n",
    "self_reflection paramenter (default: False);\n",
    "max_iter parameter (default: 1);\n",
    "If self_reflection is set to True, it should use a loop to generate an initial response. Then critiquing and refining the response in subsequent iterations up to the number of iterations defined in max_iter.\n",
    "\n",
    "Use the self.memory to store each step.\n",
    "\n",
    "Rules for self-reflection:\n",
    "\n",
    "Don't allow values less than 1\n",
    "Don't allow values greater than 3\n",
    "Max iter is controlled by self_reflection flag.\n",
    "If set to true, it needs to call the LLM at least once more for the criticism\n",
    "Your self critique prompt should start with something like: Reflect on your previous response. Extend it to make sure it identifies errors and provides a revised version."
   ]
  },
  {
   "cell_type": "code",
   "execution_count": 11,
   "id": "0a092d8e-2a58-435b-939e-6098c29e3de5",
   "metadata": {},
   "outputs": [],
   "source": [
    "\n",
    "SELF_CRITIQUE_PROMPT = \"\"\"\n",
    "Reflect on your previous response...\n",
    "Identify any mistakes, areas for improvement, or ways to clarify the answer, making it more concise. \n",
    "Provide a revised response if necessary in a Json Output structure:\n",
    "{\n",
    "    \"original_response\": \"\",\n",
    "    \"revisions_needed\": \"\",\n",
    "    \"updated_response\": \"\"\n",
    "}\n",
    "\"\"\""
   ]
  },
  {
   "cell_type": "code",
   "execution_count": 12,
   "id": "88c183bb-3670-4920-8bd0-df3dc08a4eaa",
   "metadata": {},
   "outputs": [],
   "source": [
    "class Agent:\n",
    "    \"\"\"A self-reflection AI Agent\"\"\"\n",
    "\n",
    "    def __init__(\n",
    "        self,\n",
    "        name:str = \"Agent\", \n",
    "        role:str = \"Personal Assistant\",\n",
    "        instructions:str = \"Help users with any question\",\n",
    "        model:str = \"gpt-4o-mini\",\n",
    "        temperature:float = 0.0,\n",
    "    ):\n",
    "        self.name = name\n",
    "        self.role = role\n",
    "        self.instructions = instructions\n",
    "        self.model = model\n",
    "        self.temperature = temperature\n",
    "\n",
    "        self.client = OpenAI()\n",
    "\n",
    "        self.memory = Memory()\n",
    "        self.memory.add_message(\n",
    "            role=\"system\",\n",
    "            content=f\"You're an AI Agent, your role is {self.role}, \" \n",
    "                    f\"and you need to {self.instructions}\",\n",
    "        )\n",
    "\n",
    "        self.critique_prompt = SELF_CRITIQUE_PROMPT\n",
    "    \n",
    "    def invoke(self, \n",
    "               user_message: str, \n",
    "               self_reflection: bool = False, \n",
    "               max_iter: int = 1, \n",
    "               verbose: bool = False) -> str:\n",
    "    \n",
    "        # Rules\n",
    "        # - Don't allow values less than 1\n",
    "        # - Don't allow values greater than 3\n",
    "        # - Max iter is controlled by self_reflection flag. \n",
    "        # - If set to true, it needs to call the LLM at least once more for the criticism\n",
    "\n",
    "        self.memory.add_message(\n",
    "            role=\"user\",\n",
    "            content=user_message\n",
    "        )\n",
    "        if verbose:\n",
    "            self._log_last_message()\n",
    "\n",
    "        max_iter = max_iter if max_iter >= 1 else 1\n",
    "        max_iter = max_iter if max_iter <= 3 else 3\n",
    "        max_iter = max_iter if self_reflection else 0.5\n",
    "        loops = 2 * max_iter\n",
    "\n",
    "        for i in range(loops):\n",
    "            ai_message = self._get_completion(\n",
    "                messages = self.memory.get_messages()\n",
    "            )\n",
    "\n",
    "            self.memory.add_message(\n",
    "                role = \"assistant\",\n",
    "                content = ai_message.content,\n",
    "            )\n",
    "            if verbose:\n",
    "                self._log_last_message()\n",
    "\n",
    "            if i < loops - 1:\n",
    "                self.memory.add_message(\n",
    "                    role = \"user\", \n",
    "                    content = self.critique_prompt\n",
    "                )\n",
    "                if verbose:\n",
    "                    self._log_last_message()\n",
    "\n",
    "                ai_message = self._get_completion(\n",
    "                    messages = self.memory.get_messages()\n",
    "                )\n",
    "\n",
    "    def _get_completion(self, messages:List[Dict])-> ChatCompletionMessage:\n",
    "        response = self.client.chat.completions.create(\n",
    "            model=self.model,\n",
    "            temperature=self.temperature,\n",
    "            messages=messages\n",
    "        )\n",
    "        \n",
    "        return response.choices[0].message\n",
    "\n",
    "    def _log_last_message(self):\n",
    "        print(f\"### {self.memory.last_message()['role']} message ###\\n\".upper())\n",
    "        print(f\"{self.memory.last_message()['content']} \\n\")\n",
    "        print(\"\\n________________________________________________________________\\n\")\n"
   ]
  },
  {
   "cell_type": "markdown",
   "id": "3fefb6c9-2425-463b-a08a-1c4ef74f3b88",
   "metadata": {},
   "source": [
    "5. Build some agents and have fun\n",
    "Create some specific agents and invoke them with self_reflection = True"
   ]
  },
  {
   "cell_type": "code",
   "execution_count": 13,
   "id": "1a0aca6d-858e-4538-bd1f-7021e713ee3b",
   "metadata": {},
   "outputs": [
    {
     "name": "stdout",
     "output_type": "stream",
     "text": [
      "### USER MESSAGE ###\n",
      "\n",
      "Pick only one. Who is the best character in Game of Thrones? \n",
      "\n",
      "\n",
      "________________________________________________________________\n",
      "\n",
      "### ASSISTANT MESSAGE ###\n",
      "\n",
      "Choosing the best character in \"Game of Thrones\" is subjective and depends on personal preference. However, many fans often cite Tyrion Lannister as a standout character due to his wit, intelligence, and complex moral compass. He navigates the treacherous political landscape with a unique perspective and often provides some of the show's most memorable lines. Who is your favorite character? \n",
      "\n",
      "\n",
      "________________________________________________________________\n",
      "\n",
      "### USER MESSAGE ###\n",
      "\n",
      "\n",
      "Reflect on your previous response...\n",
      "Identify any mistakes, areas for improvement, or ways to clarify the answer, making it more concise. \n",
      "Provide a revised response if necessary in a Json Output structure:\n",
      "{\n",
      "    \"original_response\": \"\",\n",
      "    \"revisions_needed\": \"\",\n",
      "    \"updated_response\": \"\"\n",
      "}\n",
      " \n",
      "\n",
      "\n",
      "________________________________________________________________\n",
      "\n",
      "### ASSISTANT MESSAGE ###\n",
      "\n",
      "{\n",
      "    \"original_response\": \"Choosing the best character in 'Game of Thrones' is subjective and depends on personal preference. However, many fans often cite Tyrion Lannister as a standout character due to his wit, intelligence, and complex moral compass. He navigates the treacherous political landscape with a unique perspective and often provides some of the show's most memorable lines. Who is your favorite character?\",\n",
      "    \"revisions_needed\": \"The response could be more concise and focused solely on the character without asking for the user's opinion. Additionally, it could briefly mention why Tyrion is often considered the best without excessive detail.\",\n",
      "    \"updated_response\": \"Many fans consider Tyrion Lannister the best character in 'Game of Thrones' due to his wit, intelligence, and ability to navigate the complex political landscape. His memorable lines and moral complexity make him a standout.\"\n",
      "} \n",
      "\n",
      "\n",
      "________________________________________________________________\n",
      "\n"
     ]
    }
   ],
   "source": [
    "agent = Agent()\n",
    "agent.invoke(\n",
    "    user_message=\"Pick only one. Who is the best character in Game of Thrones?\",\n",
    "    self_reflection=True,\n",
    "    verbose=True,\n",
    ")"
   ]
  },
  {
   "cell_type": "code",
   "execution_count": 14,
   "id": "162f910c-f252-4e02-b0da-e96dc447ea93",
   "metadata": {},
   "outputs": [
    {
     "data": {
      "text/plain": [
       "[{'role': 'system',\n",
       "  'content': \"You're an AI Agent, your role is Personal Assistant, and you need to Help users with any question\"},\n",
       " {'role': 'user',\n",
       "  'content': 'Pick only one. Who is the best character in Game of Thrones?'},\n",
       " {'role': 'assistant',\n",
       "  'content': 'Choosing the best character in \"Game of Thrones\" is subjective and depends on personal preference. However, many fans often cite Tyrion Lannister as a standout character due to his wit, intelligence, and complex moral compass. He navigates the treacherous political landscape with a unique perspective and often provides some of the show\\'s most memorable lines. Who is your favorite character?'},\n",
       " {'role': 'user',\n",
       "  'content': '\\nReflect on your previous response...\\nIdentify any mistakes, areas for improvement, or ways to clarify the answer, making it more concise. \\nProvide a revised response if necessary in a Json Output structure:\\n{\\n    \"original_response\": \"\",\\n    \"revisions_needed\": \"\",\\n    \"updated_response\": \"\"\\n}\\n'},\n",
       " {'role': 'assistant',\n",
       "  'content': '{\\n    \"original_response\": \"Choosing the best character in \\'Game of Thrones\\' is subjective and depends on personal preference. However, many fans often cite Tyrion Lannister as a standout character due to his wit, intelligence, and complex moral compass. He navigates the treacherous political landscape with a unique perspective and often provides some of the show\\'s most memorable lines. Who is your favorite character?\",\\n    \"revisions_needed\": \"The response could be more concise and focused solely on the character without asking for the user\\'s opinion. Additionally, it could briefly mention why Tyrion is often considered the best without excessive detail.\",\\n    \"updated_response\": \"Many fans consider Tyrion Lannister the best character in \\'Game of Thrones\\' due to his wit, intelligence, and ability to navigate the complex political landscape. His memorable lines and moral complexity make him a standout.\"\\n}'}]"
      ]
     },
     "execution_count": 14,
     "metadata": {},
     "output_type": "execute_result"
    }
   ],
   "source": [
    "agent.memory.get_messages()"
   ]
  },
  {
   "cell_type": "code",
   "execution_count": 15,
   "id": "14714785-7ee2-4780-b6dc-61016ead6fe3",
   "metadata": {},
   "outputs": [
    {
     "data": {
      "text/plain": [
       "\"Many fans consider Tyrion Lannister the best character in 'Game of Thrones' due to his wit, intelligence, and ability to navigate the complex political landscape. His memorable lines and moral complexity make him a standout.\""
      ]
     },
     "execution_count": 15,
     "metadata": {},
     "output_type": "execute_result"
    }
   ],
   "source": [
    "json.loads(agent.memory.last_message()[\"content\"])[\"updated_response\"]"
   ]
  },
  {
   "cell_type": "markdown",
   "id": "78b0b374-62b4-47b1-84af-101bf38ef54c",
   "metadata": {},
   "source": [
    "6. Experiment\n",
    "Now that you understood how it works, experiment with new things.\n",
    "\n",
    "Experiment new critique prompts\n",
    "What happens when you increase the number of iterations?\n",
    "Try adding an argument to invoke() method to inspect it (verbose=True)\n",
    "What else can you try?"
   ]
  },
  {
   "cell_type": "code",
   "execution_count": null,
   "id": "42128e50-69f3-4b27-be90-b3bcdd39c94f",
   "metadata": {},
   "outputs": [],
   "source": []
  }
 ],
 "metadata": {
  "kernelspec": {
   "display_name": "Python 3 (ipykernel)",
   "language": "python",
   "name": "python3"
  },
  "language_info": {
   "codemirror_mode": {
    "name": "ipython",
    "version": 3
   },
   "file_extension": ".py",
   "mimetype": "text/x-python",
   "name": "python",
   "nbconvert_exporter": "python",
   "pygments_lexer": "ipython3",
   "version": "3.13.7"
  }
 },
 "nbformat": 4,
 "nbformat_minor": 5
}
