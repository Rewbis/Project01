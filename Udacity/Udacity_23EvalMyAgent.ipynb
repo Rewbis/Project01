{
 "cells": [
  {
   "cell_type": "markdown",
   "id": "64d77cf9-8956-4950-b930-f8aa206d8866",
   "metadata": {},
   "source": [
    "## Exercise - Knowledge Base Agent - STARTER  \n",
    "In this exercise, you’ll implement and evaluate a RAG (Retrieval-Augmented Generation) pipeline, using RAGAS metrics and MLflow for logging the process.\n",
    "\n",
    "Challenge\n",
    "\n",
    "Your task is to create a LangGraph Workflow that includes:\n",
    "\n",
    "A RAG pipeline for information retrieval.\n",
    "An LLM-based judge for evaluation.\n",
    "RAGAS metrics for quality assessment.\n",
    "MLflow logging for observability.\n",
    "The workflow should:\n",
    "\n",
    "Retrieve, augment, and generate answers.\n",
    "Evaluate the answers using RAGAS.\n",
    "Log performance metrics in MLflow.  \n",
    "## 0. Import the necessary libs"
   ]
  },
  {
   "cell_type": "code",
   "execution_count": 13,
   "id": "c68d662d-b5d6-483f-aa5a-222e24ea15c9",
   "metadata": {
    "scrolled": true
   },
   "outputs": [],
   "source": [
    "import mlflow\n",
    "from mlflow import log_params, log_metrics\n",
    "from typing import List, Dict\n",
    "from langchain_openai import ChatOpenAI, OpenAIEmbeddings\n",
    "from langchain_core.documents import Document\n",
    "from langchain.text_splitter import RecursiveCharacterTextSplitter\n",
    "from langchain_community.vectorstores import Chroma\n",
    "# this one \n",
    "from langchain_chroma import Chroma\n",
    "\n",
    "from langchain_community.document_loaders import PyPDFLoader\n",
    "from langgraph.graph import START, END, StateGraph\n",
    "from langgraph.graph.message import MessagesState\n",
    "from langchain.prompts import ChatPromptTemplate\n",
    "from ragas import evaluate\n",
    "from datasets import Dataset\n",
    "from IPython.display import Image, display"
   ]
  },
  {
   "cell_type": "markdown",
   "id": "2453ac2c-9baf-4350-b670-7415934482b8",
   "metadata": {},
   "source": [
    "## 1. Instantiate Chat Model with your API Key  \n",
    "To be able to connect with OpenAI, you need to instantiate an ChatOpenAI client passing your OpenAI key.\n",
    "\n",
    "You can pass the api_key argument directly.\n",
    "\n",
    "llm = ChatOpenAI(\n",
    "    model=\"gpt-4o-mini\",\n",
    "    temperature=0.0,\n",
    "    api_key=\"voc-\",\n",
    ")"
   ]
  },
  {
   "cell_type": "code",
   "execution_count": 14,
   "id": "cf6df75f-e746-4dab-9b64-4c722932567b",
   "metadata": {},
   "outputs": [
    {
     "data": {
      "text/plain": [
       "False"
      ]
     },
     "execution_count": 14,
     "metadata": {},
     "output_type": "execute_result"
    }
   ],
   "source": [
    "from dotenv import load_dotenv\n",
    "load_dotenv()"
   ]
  },
  {
   "cell_type": "code",
   "execution_count": 15,
   "id": "ed2a5665-fbeb-4c48-9cbb-e881ac5e7b7a",
   "metadata": {},
   "outputs": [],
   "source": [
    "# TODO - Instantiate your chat model\n",
    "llm = ChatOpenAI(\n",
    "    model=\"gpt-4o-mini\",\n",
    "    temperature=0.0,\n",
    "   # api_key = \"YOUR_API_KEY_HERE\",   # in my venv\n",
    ")"
   ]
  },
  {
   "cell_type": "code",
   "execution_count": 16,
   "id": "0f50fd8c-f3ad-47b4-8497-9f691ac2514e",
   "metadata": {},
   "outputs": [],
   "source": [
    "# TODO - Instantiate your llm as judge model\n",
    "# This will evaluate the responses\n",
    "llm_judge = ChatOpenAI(\n",
    "    model=\"gpt-4o\",\n",
    "    temperature=0.0,\n",
    "  #  api_key = \"YOUR_API_KEY_HERE\",   # in my venv\n",
    ")"
   ]
  },
  {
   "cell_type": "code",
   "execution_count": 17,
   "id": "820fd2ab-ddee-4697-b2b3-5b180fc6769a",
   "metadata": {},
   "outputs": [],
   "source": [
    "# TODO - Instantiate your embeddings model\n",
    "embeddings_fn = OpenAIEmbeddings(\n",
    "    model=\"text-embedding-3-large\"\n",
    "  #  api_key = \"YOUR_API_KEY_HERE\",   # in my venv\n",
    ")"
   ]
  },
  {
   "cell_type": "markdown",
   "id": "29385f96-2dfd-439e-b03d-8cf7d69f13a5",
   "metadata": {},
   "source": [
    "## MLFlow"
   ]
  },
  {
   "cell_type": "code",
   "execution_count": 18,
   "id": "3c9b17e6-42b8-4bc2-ada8-8868b1c95288",
   "metadata": {},
   "outputs": [
    {
     "data": {
      "text/plain": [
       "<Experiment: artifact_location='file:///C:/PythonProjects/Project01/mlruns/222450339919689852', creation_time=1760373891487, experiment_id='222450339919689852', last_update_time=1760373891487, lifecycle_stage='active', name='udacity', tags={}>"
      ]
     },
     "execution_count": 18,
     "metadata": {},
     "output_type": "execute_result"
    }
   ],
   "source": [
    "mlflow.set_experiment(\"udacity\")"
   ]
  },
  {
   "cell_type": "code",
   "execution_count": 19,
   "id": "afaad241-2631-4132-a69e-1e5bafde60a9",
   "metadata": {},
   "outputs": [
    {
     "name": "stdout",
     "output_type": "stream",
     "text": [
      "<RunInfo: artifact_uri='file:///C:/PythonProjects/Project01/mlruns/222450339919689852/532aaa354795418da1bc8e9bc9d9879b/artifacts', end_time=None, experiment_id='222450339919689852', lifecycle_stage='active', run_id='532aaa354795418da1bc8e9bc9d9879b', run_name='l4_exercise_02', start_time=1760374375512, status='RUNNING', user_id='brian.westerman'>\n"
     ]
    }
   ],
   "source": [
    "with mlflow.start_run(run_name=\"l4_exercise_02\") as run:\n",
    "    log_params(\n",
    "        {\n",
    "            \"embeddings_model\":embeddings_fn.model,\n",
    "            \"llm_model\": llm.model_name,\n",
    "            \"llm_judge_model\": llm_judge.model_name,\n",
    "        }\n",
    "    )\n",
    "    print(run.info)"
   ]
  },
  {
   "cell_type": "code",
   "execution_count": 20,
   "id": "fd88a84f-3eb7-43a8-8141-3f79df271700",
   "metadata": {},
   "outputs": [],
   "source": [
    "mlflow_run_id = run.info.run_id"
   ]
  },
  {
   "cell_type": "code",
   "execution_count": 21,
   "id": "df176129-ec4b-4170-a3c2-af872b462db0",
   "metadata": {},
   "outputs": [],
   "source": [
    "mflow_client = mlflow.tracking.MlflowClient()"
   ]
  },
  {
   "cell_type": "code",
   "execution_count": 22,
   "id": "25b7d958-a04f-4cdb-8122-14ae272a0b0a",
   "metadata": {},
   "outputs": [
    {
     "data": {
      "text/plain": [
       "<Run: data=<RunData: metrics={}, params={'embeddings_model': 'text-embedding-3-large',\n",
       " 'llm_judge_model': 'gpt-4o',\n",
       " 'llm_model': 'gpt-4o-mini'}, tags={'mlflow.runName': 'l4_exercise_02',\n",
       " 'mlflow.source.name': 'C:\\\\PythonProjects\\\\Project01\\\\.venv\\\\Lib\\\\site-packages\\\\ipykernel_launcher.py',\n",
       " 'mlflow.source.type': 'LOCAL',\n",
       " 'mlflow.user': 'brian.westerman'}>, info=<RunInfo: artifact_uri='file:///C:/PythonProjects/Project01/mlruns/222450339919689852/532aaa354795418da1bc8e9bc9d9879b/artifacts', end_time=1760374375547, experiment_id='222450339919689852', lifecycle_stage='active', run_id='532aaa354795418da1bc8e9bc9d9879b', run_name='l4_exercise_02', start_time=1760374375512, status='FINISHED', user_id='brian.westerman'>, inputs=<RunInputs: dataset_inputs=[], model_inputs=[]>, outputs=<RunOutputs: model_outputs=[]>>"
      ]
     },
     "execution_count": 22,
     "metadata": {},
     "output_type": "execute_result"
    }
   ],
   "source": [
    "mflow_client.get_run(mlflow_run_id)"
   ]
  },
  {
   "cell_type": "markdown",
   "id": "a4dd4dac-b5dc-4d71-960e-8a24bd547cda",
   "metadata": {},
   "source": [
    "## 3. Load and Process Documents"
   ]
  },
  {
   "cell_type": "code",
   "execution_count": 24,
   "id": "259a10e2-85ac-4962-a058-46379b75c063",
   "metadata": {
    "scrolled": true
   },
   "outputs": [],
   "source": [
    "# Initialize vector store\n",
    "vector_store = Chroma(\n",
    "    collection_name=\"udacity\",\n",
    "    embedding_function=embeddings_fn\n",
    ")\n",
    "\n",
    "# Load and process PDF documents\n",
    "file_path = \"Arcadia-30_Grayscale.pdf\"\n",
    "loader = PyPDFLoader(file_path)\n",
    "\n",
    "pages = []\n",
    "for page in loader.load():\n",
    "    pages.append(page)\n",
    "\n",
    "# Split text into chunks\n",
    "text_splitter = RecursiveCharacterTextSplitter(\n",
    "    chunk_size=1000, \n",
    "    chunk_overlap=200\n",
    ")\n",
    "all_splits = text_splitter.split_documents(pages)\n",
    "\n",
    "# Store document chunks in the vector database\n",
    "_ = vector_store.add_documents(documents=all_splits)\n"
   ]
  },
  {
   "cell_type": "markdown",
   "id": "9551159f-97bd-4bcc-9ad6-7f8fe2ff4788",
   "metadata": {},
   "source": [
    "## 4. Define State Schema\n",
    "We define a State Schema for managing:  \n",
    "\n",
    "MLFlow Run id  \n",
    "User query  \n",
    "Ground Truth  \n",
    "Retrieved documents  \n",
    "Generated answer  \n",
    "Evaluation Report  \n",
    "run_id(str), ground_truth(str), evaluation(Dict),vquestion(str), documents(List) and answer(str)"
   ]
  },
  {
   "cell_type": "code",
   "execution_count": 25,
   "id": "1aa5c03d-3613-4c61-bb51-6b08c716acba",
   "metadata": {},
   "outputs": [],
   "source": [
    "# TODO - Create your state schema\n",
    "class State(MessagesState):\n",
    "    run_id: str\n",
    "    question: str\n",
    "    ground_truth: str\n",
    "    documents: List[Document]\n",
    "    answer: str\n",
    "    evaluation: Dict\n",
    "    "
   ]
  },
  {
   "cell_type": "markdown",
   "id": "4d90e40b-d8a3-40e6-8129-cf0ccc22d747",
   "metadata": {},
   "source": [
    "## 5. RAG Nodes  \n",
    "The agent should:  \n",
    "\n",
    "fetch relevant document chunks based on the user query  \n",
    "combine the retrieved documents and use them as context  \n",
    "invoke the LLM to generate a response  \n",
    "evaluate the pipeline based on the ground_truth"
   ]
  },
  {
   "cell_type": "code",
   "execution_count": 26,
   "id": "01333536-95ff-4487-9a48-6bf354483a30",
   "metadata": {},
   "outputs": [],
   "source": [
    "def retrieve(state: State):\n",
    "    question = state[\"question\"]\n",
    "    retrieved_docs = vector_store.similarity_search(question)\n",
    "    return {\"documents\": retrieved_docs}"
   ]
  },
  {
   "cell_type": "code",
   "execution_count": 27,
   "id": "764eb38d-22b4-4fc7-b4d4-9ffffc77b747",
   "metadata": {},
   "outputs": [],
   "source": [
    "def augment(state: State):\n",
    "    question = state[\"question\"]\n",
    "    documents = state[\"documents\"]\n",
    "    docs_content = \"\\n\\n\".join(doc.page_content for doc in documents)\n",
    "\n",
    "    template = ChatPromptTemplate([\n",
    "        (\"system\", \"You are an assistant for question-answering tasks.\"),\n",
    "        (\"human\", \"Use the following pieces of retrieved context to answer the question. \"\n",
    "                \"If you don't know the answer, just say that you don't know. \" \n",
    "                \"Use three sentences maximum and keep the answer concise. \"\n",
    "                \"\\n# Question: \\n-> {question} \"\n",
    "                \"\\n# Context: \\n-> {context} \"\n",
    "                \"\\n# Answer: \"),\n",
    "    ])\n",
    "\n",
    "    messages = template.invoke(\n",
    "        {\"context\": docs_content, \"question\": question}\n",
    "    ).to_messages()\n",
    "\n",
    "    return {\"messages\": messages}"
   ]
  },
  {
   "cell_type": "code",
   "execution_count": 28,
   "id": "7078c193-ccb2-490b-9a32-c65185221a79",
   "metadata": {},
   "outputs": [],
   "source": [
    "def generate(state: State):\n",
    "    ai_message = llm.invoke(state[\"messages\"])\n",
    "    return {\"answer\": ai_message.content, \"messages\": ai_message}"
   ]
  },
  {
   "cell_type": "code",
   "execution_count": 29,
   "id": "9cd1e92b-505d-4cdf-9ff2-71fac06a3b2e",
   "metadata": {},
   "outputs": [],
   "source": [
    "def evaluate_rag(state: State):\n",
    "    question = state[\"question\"]\n",
    "    documents = state[\"documents\"]\n",
    "    answer = state[\"answer\"]\n",
    "    ground_truth = state[\"ground_truth\"]\n",
    "    dataset = Dataset.from_dict(\n",
    "        {\n",
    "            \"question\": [question],\n",
    "            \"answer\": [answer],\n",
    "            \"contexts\": [[doc.page_content for doc in documents]],\n",
    "            \"ground_truth\": [ground_truth]\n",
    "        }\n",
    "    )\n",
    "\n",
    "    evaluation_results = evaluate(\n",
    "        dataset=dataset,\n",
    "        llm=llm_judge\n",
    "    )\n",
    "    print(evaluation_results)\n",
    "\n",
    "    # TODO - Log metrics in MLflow\n",
    "    # The evaluation_results output value is a list\n",
    "    # Example: evaluation_results[\"faithfulness\"][0]\n",
    "    with mlflow.start_run(state[\"run_id\"]):\n",
    "        log_metrics({\n",
    "            \"faithfulness\": evaluation_results[\"faithfulness\"][0],\n",
    "            \"context_precision\": evaluation_results[\"context_precision\"][0],\n",
    "            \"context_recall\": evaluation_results[\"context_recall\"][0],\n",
    "            \"answer_relevancy\": evaluation_results[\"answer_relevancy\"][0],\n",
    "        })\n",
    "\n",
    "    return {\"evaluation\": evaluation_results}"
   ]
  },
  {
   "cell_type": "markdown",
   "id": "b091fe31-3d53-406e-9e88-699907de286d",
   "metadata": {},
   "source": [
    "## 6. Build the LangGraph Workflow"
   ]
  },
  {
   "cell_type": "code",
   "execution_count": 30,
   "id": "5de079b4-cdf9-4c42-8d9f-8c73ff7b2ddd",
   "metadata": {},
   "outputs": [
    {
     "data": {
      "text/plain": [
       "<langgraph.graph.state.StateGraph at 0x23dfbad6a50>"
      ]
     },
     "execution_count": 30,
     "metadata": {},
     "output_type": "execute_result"
    }
   ],
   "source": [
    "# TODO - add all the nodes and edges\n",
    "workflow = StateGraph(State)\n",
    "\n",
    "workflow.add_node(\"retrieve\", retrieve)\n",
    "workflow.add_node(\"augment\", augment)\n",
    "workflow.add_node(\"generate\", generate)\n",
    "workflow.add_node(\"evaluate_rag\", evaluate_rag)\n",
    "\n",
    "workflow.add_edge(START, \"retrieve\")\n",
    "workflow.add_edge(\"retrieve\", \"augment\")\n",
    "workflow.add_edge(\"augment\", \"generate\")\n",
    "workflow.add_edge(\"generate\", \"evaluate_rag\")\n",
    "workflow.add_edge(\"evaluate_rag\", END)"
   ]
  },
  {
   "cell_type": "code",
   "execution_count": 31,
   "id": "0b901d49-a461-4585-84e2-1e6d8d351e78",
   "metadata": {},
   "outputs": [
    {
     "data": {
      "image/png": "[encoded data removed]",
      "text/plain": [
       "<IPython.core.display.Image object>"
      ]
     },
     "metadata": {},
     "output_type": "display_data"
    }
   ],
   "source": [
    "graph = workflow.compile()\n",
    "\n",
    "display(\n",
    "    Image(\n",
    "        graph.get_graph().draw_mermaid_png()\n",
    "    )\n",
    ")"
   ]
  },
  {
   "cell_type": "markdown",
   "id": "a8d23ee5-5a42-41f0-ae47-e6140c49c41f",
   "metadata": {},
   "source": [
    "## 7. Invoke the Workflow with a Query"
   ]
  },
  {
   "cell_type": "code",
   "execution_count": 32,
   "id": "cf42bcb2-e07c-4acc-8ec2-04e8b38eafe8",
   "metadata": {},
   "outputs": [],
   "source": [
    "reference = [\n",
    "    {\n",
    "        \"question\": \"What are Open source models?\",\n",
    "        \"ground_truth\": \"Open-source models are AI or machine learning \" \n",
    "                        \"models whose code, architecture, and in some cases, \" \n",
    "                        \"training data and weights, are publicly available for \" \n",
    "                        \"use, modification, and distribution. They enable \" \n",
    "                        \"collaboration, transparency, and innovation by allowing \" \n",
    "                        \"developers to fine-tune, deploy, or improve them without \" \n",
    "                        \"proprietary restrictions.\",\n",
    "    }\n",
    "]\n",
    "# should fix these to better represent the pdf i used instead of the one they shared"
   ]
  },
  {
   "cell_type": "code",
   "execution_count": 33,
   "id": "b83d4610-a406-4973-a7ce-d1db5ca975a7",
   "metadata": {},
   "outputs": [
    {
     "data": {
      "application/vnd.jupyter.widget-view+json": {
       "model_id": "d7f782c43ab341fe93b297232a6870f4",
       "version_major": 2,
       "version_minor": 0
      },
      "text/plain": [
       "Evaluating:   0%|          | 0/4 [00:00<?, ?it/s]"
      ]
     },
     "metadata": {},
     "output_type": "display_data"
    },
    {
     "name": "stderr",
     "output_type": "stream",
     "text": [
      "LLM returned 1 generations instead of requested 3. Proceeding with 1 generations.\n"
     ]
    },
    {
     "name": "stdout",
     "output_type": "stream",
     "text": [
      "{'answer_relevancy': 0.9978, 'context_precision': 0.0000, 'faithfulness': 0.3333, 'context_recall': 0.0000}\n"
     ]
    }
   ],
   "source": [
    "output = graph.invoke(\n",
    "    {\n",
    "        \"question\": reference[0][\"question\"],\n",
    "        \"ground_truth\": reference[0][\"ground_truth\"],\n",
    "        \"run_id\": mlflow_run_id\n",
    "    }\n",
    ")\n",
    "\n"
   ]
  },
  {
   "cell_type": "markdown",
   "id": "418dbfc2-f507-4c84-abf2-cc98a0b21015",
   "metadata": {},
   "source": [
    "## 8. Inspect in MLFlow"
   ]
  },
  {
   "cell_type": "code",
   "execution_count": 35,
   "id": "737aaad4-0c2f-4104-85c4-051b0e8813b5",
   "metadata": {},
   "outputs": [
    {
     "data": {
      "text/plain": [
       "<Run: data=<RunData: metrics={'answer_relevancy': 0.9978423662562973,\n",
       " 'context_precision': 0.0,\n",
       " 'context_recall': 0.0,\n",
       " 'faithfulness': 0.3333333333333333}, params={'embeddings_model': 'text-embedding-3-large',\n",
       " 'llm_judge_model': 'gpt-4o',\n",
       " 'llm_model': 'gpt-4o-mini'}, tags={'mlflow.runName': 'l4_exercise_02',\n",
       " 'mlflow.source.name': 'C:\\\\PythonProjects\\\\Project01\\\\.venv\\\\Lib\\\\site-packages\\\\ipykernel_launcher.py',\n",
       " 'mlflow.source.type': 'LOCAL',\n",
       " 'mlflow.user': 'brian.westerman'}>, info=<RunInfo: artifact_uri='file:///C:/PythonProjects/Project01/mlruns/222450339919689852/532aaa354795418da1bc8e9bc9d9879b/artifacts', end_time=1760375409285, experiment_id='222450339919689852', lifecycle_stage='active', run_id='532aaa354795418da1bc8e9bc9d9879b', run_name='l4_exercise_02', start_time=1760374375512, status='FINISHED', user_id='brian.westerman'>, inputs=<RunInputs: dataset_inputs=[], model_inputs=[]>, outputs=<RunOutputs: model_outputs=[]>>"
      ]
     },
     "execution_count": 35,
     "metadata": {},
     "output_type": "execute_result"
    }
   ],
   "source": [
    "# TODO - Get MLFlow Run with .get_run()\n",
    "mflow_client.get_run(mlflow_run_id)"
   ]
  },
  {
   "cell_type": "markdown",
   "id": "abbc930d-ca44-48f6-af90-d9b64664876e",
   "metadata": {},
   "source": [
    "## 9. Experiment  \n",
    "Now that you understood how it works, experiment with new things.\n",
    "  \n",
    "Change RAG parameters: embedding model, chunk_size, chunk_overlap...  \n",
    "Create multiple runs  \n",
    "Improve your reference with more questions and ground_truth answers  \n",
    "Use the results to understand what are the best parameters  \n",
    "Create an Agent that picks the best combination"
   ]
  },
  {
   "cell_type": "code",
   "execution_count": null,
   "id": "d5580f65-5526-4110-acf3-c60e83e9370b",
   "metadata": {},
   "outputs": [],
   "source": []
  },
  {
   "cell_type": "code",
   "execution_count": null,
   "id": "7c58e665-0bff-4f9f-8650-fe488d16e7d6",
   "metadata": {},
   "outputs": [],
   "source": []
  },
  {
   "cell_type": "code",
   "execution_count": null,
   "id": "3742c337-5af2-4f8c-a6c4-d04d32d7a4d3",
   "metadata": {},
   "outputs": [],
   "source": []
  }
 ],
 "metadata": {
  "kernelspec": {
   "display_name": "Python 3 (ipykernel)",
   "language": "python",
   "name": "python3"
  },
  "language_info": {
   "codemirror_mode": {
    "name": "ipython",
    "version": 3
   },
   "file_extension": ".py",
   "mimetype": "text/x-python",
   "name": "python",
   "nbconvert_exporter": "python",
   "pygments_lexer": "ipython3",
   "version": "3.13.7"
  }
 },
 "nbformat": 4,
 "nbformat_minor": 5
}
