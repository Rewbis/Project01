{
 "cells": [
  {
   "cell_type": "markdown",
   "id": "a8c871d1-bd18-48d5-8b40-f36a0ac2ff1d",
   "metadata": {},
   "source": [
    "L3_demo_05_database_toolkit"
   ]
  },
  {
   "cell_type": "code",
   "execution_count": null,
   "id": "b1925e8d-378e-4a6f-a4b8-a9ea006947bc",
   "metadata": {},
   "outputs": [],
   "source": [
    "from typing import List\n",
    "import sqlalchemy\n",
    "from sqlalchemy.engine.base import Engine\n",
    "from sqlalchemy import text, create_engine\n",
    "import pandas as pd\n",
    "from langchain_core.tools import tool\n",
    "from langchain_core.runnables.config import RunnableConfig"
   ]
  },
  {
   "cell_type": "code",
   "execution_count": null,
   "id": "88acc078-99d6-4365-8735-c1ebf6373274",
   "metadata": {},
   "outputs": [],
   "source": [
    "db_engine = create_engine(f\"sqlite:///sales.db\")"
   ]
  },
  {
   "cell_type": "code",
   "execution_count": null,
   "id": "607355cf-e0d5-48ad-9967-75efe3f96e68",
   "metadata": {},
   "outputs": [],
   "source": [
    "inspector = sqlalchemy.inspect(db_engine)"
   ]
  },
  {
   "cell_type": "code",
   "execution_count": null,
   "id": "14fdd670-3946-48f1-bd9c-4f4c42ef0a67",
   "metadata": {},
   "outputs": [],
   "source": [
    "inspector.get_table_names()"
   ]
  },
  {
   "cell_type": "code",
   "execution_count": null,
   "id": "6432e85b-3d17-4ca6-9c1c-59bea25f0643",
   "metadata": {},
   "outputs": [],
   "source": [
    "table_name = \"sales\"\n",
    "inspector.get_columns(table_name)"
   ]
  },
  {
   "cell_type": "code",
   "execution_count": null,
   "id": "3b3349d2-f3b8-4a52-b558-b48359bc1897",
   "metadata": {},
   "outputs": [],
   "source": [
    "schema = inspector.get_columns(table_name)\n",
    "column_names = [column[\"name\"] for column in schema]\n",
    "column_names"
   ]
  },
  {
   "cell_type": "code",
   "execution_count": null,
   "id": "bd8aa897-035f-4623-ac98-ce75d9652f05",
   "metadata": {},
   "outputs": [],
   "source": [
    "sql = f\"SELECT * FROM {table_name} LIMIT 10\""
   ]
  },
  {
   "cell_type": "code",
   "execution_count": null,
   "id": "f9c48fae-dc20-4926-b937-4a70512e8e43",
   "metadata": {},
   "outputs": [],
   "source": [
    "with db_engine.begin() as connection:\n",
    "    answer = connection.execute(text(sql)).fetchall()"
   ]
  },
  {
   "cell_type": "code",
   "execution_count": null,
   "id": "9346877d-b581-45bd-a7bd-4a9c8a959c45",
   "metadata": {},
   "outputs": [],
   "source": [
    "answer"
   ]
  },
  {
   "cell_type": "code",
   "execution_count": null,
   "id": "b9062b14-366d-45ec-ac62-a29d93eb1681",
   "metadata": {},
   "outputs": [],
   "source": [
    "pd.DataFrame(answer, columns=column_names)"
   ]
  },
  {
   "cell_type": "markdown",
   "id": "0ecdb6ca-9d3e-4be4-aa8c-4d854f18fd5f",
   "metadata": {},
   "source": [
    "Tools"
   ]
  },
  {
   "cell_type": "code",
   "execution_count": null,
   "id": "e84ae6d1-40bd-4d31-a068-2577cc27c518",
   "metadata": {},
   "outputs": [],
   "source": [
    "@tool\n",
    "def list_tables_tool(config: RunnableConfig) -> List[str]:\n",
    "    \"\"\"\n",
    "    List all tables in database\n",
    "    \"\"\"\n",
    "    db_engine:Engine = config.get(\"configurable\", {}).get(\"db_engine\")\n",
    "    inspector = sqlalchemy.inspect(db_engine)\n",
    "\n",
    "    return inspector.get_table_names()"
   ]
  },
  {
   "cell_type": "code",
   "execution_count": null,
   "id": "dfdfabac-dabe-4b28-bc00-3dd7e73fd333",
   "metadata": {},
   "outputs": [],
   "source": [
    "@tool\n",
    "def get_table_schema_tool(table_name:str, config: RunnableConfig) -> List[str]:\n",
    "    \"\"\"\n",
    "    Get schema information about a table. Returns a list of dictionaries.\n",
    "    - name is the column name\n",
    "    - type is the column type\n",
    "    - nullable is whether the column is nullable or not\n",
    "    - default is the default value of the column\n",
    "    - primary_key is whether the column is a primary key or not\n",
    "\n",
    "    Args:\n",
    "        table_name (str): Table name\n",
    "    \"\"\"\n",
    "    db_engine:Engine = config.get(\"configurable\", {}).get(\"db_engine\")\n",
    "    inspector = sqlalchemy.inspect(db_engine)\n",
    "\n",
    "    return inspector.get_columns(table_name)"
   ]
  },
  {
   "cell_type": "code",
   "execution_count": null,
   "id": "07dd819f-e8e6-4d2f-a504-9d1ba9e6b0d5",
   "metadata": {},
   "outputs": [],
   "source": [
    "@tool\n",
    "def execute_sql_tool(query:str, config: RunnableConfig) -> int:\n",
    "    \"\"\"\n",
    "    Execute SQL query and return result. \n",
    "    This will automatically connect to the database and execute the query.\n",
    "    However, if the query is not valid, an error will be raised\n",
    "\n",
    "    Args:\n",
    "        query (str): SQL query\n",
    "    \"\"\"\n",
    "    db_engine:Engine = config.get(\"configurable\", {}).get(\"db_engine\")\n",
    "    with db_engine.begin() as connection:\n",
    "        answer = connection.execute(text(query)).fetchall()\n",
    "\n",
    "    return answer"
   ]
  },
  {
   "cell_type": "code",
   "execution_count": null,
   "id": "136e5fd5-672f-4828-bdac-eb0d90672cd4",
   "metadata": {},
   "outputs": [],
   "source": [
    "db_engine = create_engine(f\"sqlite:///sales.db\")"
   ]
  },
  {
   "cell_type": "code",
   "execution_count": null,
   "id": "1bc3ed9a-384e-4fbf-af33-1a429dd52e4b",
   "metadata": {},
   "outputs": [],
   "source": [
    "config = {'configurable':{'db_engine': db_engine}}"
   ]
  },
  {
   "cell_type": "code",
   "execution_count": null,
   "id": "c40765a8-432e-4196-aa90-1ee7d3e7a09d",
   "metadata": {},
   "outputs": [],
   "source": [
    "tables = list_tables_tool.invoke({}, config)\n",
    "tables"
   ]
  },
  {
   "cell_type": "code",
   "execution_count": null,
   "id": "29811a5d-ad53-44b0-b4db-d93eeeb4d3fe",
   "metadata": {},
   "outputs": [],
   "source": [
    "schemas = {\n",
    "    table: get_table_schema_tool.invoke({\n",
    "            'table_name': table\n",
    "        }, config) \n",
    "    for table in tables\n",
    "}\n",
    "schemas"
   ]
  },
  {
   "cell_type": "code",
   "execution_count": null,
   "id": "e8ae83d3-2bdb-4139-99bd-c5e49b66d108",
   "metadata": {},
   "outputs": [],
   "source": [
    "sql = f\"SELECT * FROM {tables[0]} LIMIT 10\"\n",
    "result = execute_sql_tool.invoke({'query': sql}, config)\n",
    "result"
   ]
  },
  {
   "cell_type": "code",
   "execution_count": null,
   "id": "22633aa2-cba9-4db6-823d-0ba476b70223",
   "metadata": {},
   "outputs": [],
   "source": []
  },
  {
   "cell_type": "markdown",
   "id": "ae39e34e-48d9-4ede-be13-2a7a450e625e",
   "metadata": {},
   "source": [
    "## Exercise - Create a Text2SQL Agent - STARTER\n",
    "In this exercise, you’ll build an AI agent capable of converting natural language questions into SQL queries, executing them, and returning the results.\n",
    "\n",
    "Challenge\n",
    "\n",
    "You’re building a Text2SQL assistant for a Sales Dashboard. The agent should:\n",
    "\n",
    "Parse user questions.\n",
    "Identify the relevant tables and columns.\n",
    "Generate the corresponding SQL query.\n",
    "Execute the query and return the result.\n",
    "This enables non-technical users to ask questions in plain English and get data insights without writing SQL."
   ]
  },
  {
   "cell_type": "markdown",
   "id": "c806ffce-3bdf-4765-af61-5fbf1b508411",
   "metadata": {},
   "source": [
    "## 0. Import the necessary libs\n"
   ]
  },
  {
   "cell_type": "code",
   "execution_count": 1,
   "id": "82a335c1-1140-46e0-a832-be64aba3d6b5",
   "metadata": {},
   "outputs": [
    {
     "ename": "ModuleNotFoundError",
     "evalue": "No module named 'sql_toolkit'",
     "output_type": "error",
     "traceback": [
      "\u001b[31m---------------------------------------------------------------------------\u001b[39m",
      "\u001b[31mModuleNotFoundError\u001b[39m                       Traceback (most recent call last)",
      "\u001b[36mCell\u001b[39m\u001b[36m \u001b[39m\u001b[32mIn[1]\u001b[39m\u001b[32m, line 9\u001b[39m\n\u001b[32m      6\u001b[39m \u001b[38;5;28;01mfrom\u001b[39;00m\u001b[38;5;250m \u001b[39m\u001b[34;01mIPython\u001b[39;00m\u001b[34;01m.\u001b[39;00m\u001b[34;01mdisplay\u001b[39;00m\u001b[38;5;250m \u001b[39m\u001b[38;5;28;01mimport\u001b[39;00m Image, display\n\u001b[32m      7\u001b[39m \u001b[38;5;28;01mfrom\u001b[39;00m\u001b[38;5;250m \u001b[39m\u001b[34;01msqlalchemy\u001b[39;00m\u001b[38;5;250m \u001b[39m\u001b[38;5;28;01mimport\u001b[39;00m create_engine\n\u001b[32m----> \u001b[39m\u001b[32m9\u001b[39m \u001b[38;5;28;01mfrom\u001b[39;00m\u001b[38;5;250m \u001b[39m\u001b[34;01msql_toolkit\u001b[39;00m\u001b[38;5;250m \u001b[39m\u001b[38;5;28;01mimport\u001b[39;00m (\n\u001b[32m     10\u001b[39m     list_tables_tool, \n\u001b[32m     11\u001b[39m     get_table_schema_tool, \n\u001b[32m     12\u001b[39m     execute_sql_tool\n\u001b[32m     13\u001b[39m )\n",
      "\u001b[31mModuleNotFoundError\u001b[39m: No module named 'sql_toolkit'"
     ]
    }
   ],
   "source": [
    "from langchain_core.messages import SystemMessage, HumanMessage\n",
    "from langchain_openai import ChatOpenAI\n",
    "from langgraph.graph import START, END, StateGraph\n",
    "from langgraph.graph.message import MessagesState\n",
    "from langgraph.prebuilt import ToolNode\n",
    "from IPython.display import Image, display\n",
    "from sqlalchemy import create_engine\n",
    "\n",
    "# this next stuff was defined in a previous demo: see above\n",
    "from sql_toolkit import (\n",
    "    list_tables_tool, \n",
    "    get_table_schema_tool, \n",
    "    execute_sql_tool\n",
    ")"
   ]
  },
  {
   "cell_type": "markdown",
   "id": "29a7a2e6-c8f5-4fac-a180-8b18069db755",
   "metadata": {},
   "source": [
    "1. Instantiate Chat Model with your API Key\n",
    "To be able to connect with OpenAI, you need to instantiate an ChatOpenAI client passing your OpenAI key.\n",
    "\n",
    "You can pass the api_key argument directly.\n",
    "\n",
    "llm = ChatOpenAI(\n",
    "    model=\"gpt-4o-mini\",\n",
    "    temperature=0.0,\n",
    "    api_key=\"voc-\",\n",
    ")"
   ]
  },
  {
   "cell_type": "code",
   "execution_count": null,
   "id": "41076440-3efd-4300-bb7b-19a1c1a69371",
   "metadata": {},
   "outputs": [],
   "source": [
    "from dotenv import load_dotenv\n",
    "load_dotenv()\n",
    "llm = ChatOpenAI(\n",
    "    model=\"gpt-4o-mini\",\n",
    "    temperature=0.0,\n",
    ")"
   ]
  },
  {
   "cell_type": "markdown",
   "id": "292c699e-4cee-4de4-aa08-1ddbf326b2f4",
   "metadata": {},
   "source": [
    "2. Initialize the State Graph\n",
    "You can either chose from creating it with TypedDict, Pydantic or using the MessagesState. It should store:\n",
    "\n",
    "user_query: The user's natural language question.\n",
    "messages: The conversation history."
   ]
  },
  {
   "cell_type": "code",
   "execution_count": null,
   "id": "5bd2264e-8f90-4053-979f-f68b21b6d637",
   "metadata": {},
   "outputs": [],
   "source": [
    "class State(MessagesState):\n",
    "    user_query: str\n",
    "\n",
    "workflow = StateGraph(State)"
   ]
  },
  {
   "cell_type": "markdown",
   "id": "3be3cd81-2f93-493b-9791-7e26013be955",
   "metadata": {},
   "source": [
    "3. Define the tools available\n",
    "We created the following tools:\n",
    "\n",
    "list_tables_tool: Lists tables in the database.,\n",
    "get_table_schema_tool: Retrieves the schema of a specific table,\n",
    "execute_sql_tool: Executes the generated SQL query.\n",
    "They are all accessible in the sql_toolkit.py. It's already imported. You need to add them to the tools list, then add the tools list to a node and bind the tools to the llm."
   ]
  },
  {
   "cell_type": "code",
   "execution_count": null,
   "id": "0ba0d7c3-c7ca-4632-91bf-3b664d5f7976",
   "metadata": {},
   "outputs": [],
   "source": [
    "dba_tools = [list_tables_tool, get_table_schema_tool, execute_sql_tool]"
   ]
  },
  {
   "cell_type": "code",
   "execution_count": null,
   "id": "15944266-50cf-4f60-b90a-4dfed99452a1",
   "metadata": {},
   "outputs": [],
   "source": [
    "workflow.add_node(\"dba_tools\", ToolNode(dba_tools))"
   ]
  },
  {
   "cell_type": "code",
   "execution_count": null,
   "id": "90b6bffe-9a89-4898-bdd9-db65a5b63bb3",
   "metadata": {},
   "outputs": [],
   "source": [
    "dba_llm = llm.bind_tools(dba_tools, tool_choice=\"auto\")"
   ]
  },
  {
   "cell_type": "markdown",
   "id": "76b7cc82-cc87-4a4a-84ae-08d170c51e52",
   "metadata": {},
   "source": [
    "4. The agent node\n",
    "Before creating the dba_agent node, you need to build the initial messages to start the conversation. So, we'll first create the messages builder node.\n",
    "\n",
    "The llm you'll use has already the tools bound to it, so the message will have a content or a tool_calls."
   ]
  },
  {
   "cell_type": "code",
   "execution_count": null,
   "id": "ea94530e-a2a3-49a8-a0ff-ba1c0ad2deee",
   "metadata": {},
   "outputs": [],
   "source": [
    "def messages_builder(state: State):\n",
    "    dba_sys_msg = (\n",
    "        \"You are a Sr. SQL developer tasked with generating SQL queries. Perform the following steps:\\n\"\n",
    "        \"First, find out the appropriate table name based on all tables. \"\n",
    "        \"Then get the table's schema to understand the columns. \"\n",
    "        \"With the table name and the schema, generate the ANSI SQL query you think is applicable to the user question. \"\n",
    "        \"Finally, use a tool to execute the above SQL query and output the result based on the user question.\"\n",
    "    )\n",
    "    messages = [\n",
    "        SystemMessage(dba_sys_msg),\n",
    "        HumanMessage(state[\"user_query\"])\n",
    "    ]\n",
    "    return {\"messages\": messages}"
   ]
  },
  {
   "cell_type": "code",
   "execution_count": null,
   "id": "8d8f45a8-bb6c-41aa-9189-65bde109eb3d",
   "metadata": {},
   "outputs": [],
   "source": [
    "def dba_agent(state: State):\n",
    "   ai_message = dba_llm.invoke(state[\"messages\"])\n",
    "   ai_message.name = \"dba_agent\"\n",
    "   return {\"messages\": ai_message}"
   ]
  },
  {
   "cell_type": "code",
   "execution_count": null,
   "id": "99967408-2e31-42a4-bb50-3e177e9964ba",
   "metadata": {},
   "outputs": [],
   "source": [
    "workflow.add_node(\"messages_builder\", messages_builder)\n",
    "workflow.add_node(\"dba_agent\", dba_agent)"
   ]
  },
  {
   "cell_type": "code",
   "execution_count": null,
   "id": "68c98d8e-37dc-4c56-bd67-a583ff733e65",
   "metadata": {},
   "outputs": [],
   "source": [
    "5. Edges\n",
    "To enable the cycle, you need to have a routing function. This function:\n",
    "\n",
    "Inspects the conversation history.\n",
    "Decides whether to call a tool or end the workflow.\n",
    "Then, create the nodes:\n",
    "\n",
    "After the START entrypoint, you need to move to messages_builder\n",
    "From messages_builder, to the dba_agent\n",
    "The dba_agent should call the routing_function within a conditional edge\n",
    "If the response is a tool_call, send to dba_tools node\n",
    "Else, terminates in the END termination node.\n"
   ]
  },
  {
   "cell_type": "code",
   "execution_count": null,
   "id": "091d4024-a2e6-4d08-8de8-92a407092759",
   "metadata": {},
   "outputs": [],
   "source": [
    "def should_continue(state: State):\n",
    "    messages = state[\"messages\"]\n",
    "    last_message = messages[-1]\n",
    "    if last_message.tool_calls:\n",
    "        return \"dba_tools\"\n",
    "    return END"
   ]
  },
  {
   "cell_type": "code",
   "execution_count": null,
   "id": "3adb90bf-46dd-4031-a765-4d15de650062",
   "metadata": {},
   "outputs": [],
   "source": [
    "workflow.add_edge(START, \"messages_builder\")\n",
    "workflow.add_edge(\"messages_builder\", \"dba_agent\")\n",
    "workflow.add_conditional_edges(\n",
    "    source=\"dba_agent\", \n",
    "    path=should_continue, \n",
    "    path_map=[\"dba_tools\", END]\n",
    ")\n",
    "workflow.add_edge(\"dba_tools\", \"dba_agent\")"
   ]
  },
  {
   "cell_type": "markdown",
   "id": "c32d75e7-f939-4eae-848b-d5d790050224",
   "metadata": {},
   "source": [
    "6. Compile and Run\n",
    "Compile your graph, display it and run for inputs and config passed in the invoke() method."
   ]
  },
  {
   "cell_type": "code",
   "execution_count": null,
   "id": "75dd5690-5958-4df0-b64e-1472ffb247af",
   "metadata": {},
   "outputs": [],
   "source": [
    "react_graph = workflow.compile()"
   ]
  },
  {
   "cell_type": "code",
   "execution_count": null,
   "id": "2b22e790-bddd-4eca-8c67-f93a21499398",
   "metadata": {},
   "outputs": [],
   "source": [
    "display(\n",
    "    Image(\n",
    "        react_graph.get_graph().draw_mermaid_png()\n",
    "    )\n",
    ")"
   ]
  },
  {
   "cell_type": "code",
   "execution_count": null,
   "id": "00829ed1-5bdc-41b2-89d2-5a704c3f1f98",
   "metadata": {},
   "outputs": [],
   "source": [
    "db_engine = create_engine(f\"sqlite:///sales.db\")"
   ]
  },
  {
   "cell_type": "code",
   "execution_count": null,
   "id": "178dd20b-cd74-4939-a7c2-d68b76b8e35e",
   "metadata": {},
   "outputs": [],
   "source": [
    "config = {\n",
    "    \"configurable\": {\n",
    "        \"db_engine\": db_engine\n",
    "    }\n",
    "}"
   ]
  },
  {
   "cell_type": "code",
   "execution_count": null,
   "id": "037aed91-0198-4f62-a864-d09d1be6b51d",
   "metadata": {},
   "outputs": [],
   "source": [
    "inputs = {\n",
    "    \"user_query\": \"How many Dell XPS 15 were sold?\"\n",
    "}"
   ]
  },
  {
   "cell_type": "code",
   "execution_count": null,
   "id": "b9604339-ca0c-4eaa-9b5e-938bc54905e5",
   "metadata": {},
   "outputs": [],
   "source": [
    "messages = react_graph.invoke(\n",
    "    input=inputs, \n",
    "    config=config,\n",
    ")"
   ]
  },
  {
   "cell_type": "code",
   "execution_count": null,
   "id": "ccb5d05f-abea-48b5-a610-e58f8f0d577e",
   "metadata": {},
   "outputs": [],
   "source": [
    "for m in messages['messages']:\n",
    "    m.pretty_print()"
   ]
  },
  {
   "cell_type": "markdown",
   "id": "450ed5b1-0c28-4125-9240-89d65a20abb5",
   "metadata": {},
   "source": [
    "7. Experiment\n",
    "Now that you understood how it works, experiment with new things.\n",
    "\n",
    "Use the tools to understand what you have in the sales.db\n",
    "Ask other questions to it\n",
    "Use your own database"
   ]
  },
  {
   "cell_type": "code",
   "execution_count": null,
   "id": "d2dc18a8-cc40-4c4f-831c-6d8c889113a6",
   "metadata": {},
   "outputs": [],
   "source": []
  }
 ],
 "metadata": {
  "kernelspec": {
   "display_name": "Python 3 (ipykernel)",
   "language": "python",
   "name": "python3"
  },
  "language_info": {
   "codemirror_mode": {
    "name": "ipython",
    "version": 3
   },
   "file_extension": ".py",
   "mimetype": "text/x-python",
   "name": "python",
   "nbconvert_exporter": "python",
   "pygments_lexer": "ipython3",
   "version": "3.13.7"
  }
 },
 "nbformat": 4,
 "nbformat_minor": 5
}
