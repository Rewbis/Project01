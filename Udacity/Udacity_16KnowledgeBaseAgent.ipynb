{
 "cells": [
  {
   "cell_type": "markdown",
   "id": "2f6d7721-33a1-4d00-9289-3afb8290cafa",
   "metadata": {},
   "source": [
    "## Exercise: Create a Knowledge Base Agent\n"
   ]
  },
  {
   "cell_type": "markdown",
   "id": "f7d0fca6-8ed2-498b-b6be-8bc097a428b1",
   "metadata": {
    "editable": true,
    "slideshow": {
     "slide_type": ""
    },
    "tags": []
   },
   "source": [
    "Welcome to your Knowledge Base Agent Challenge!  \n",
    "\n",
    "In this exercise, you'll create an agent that can answer user questions by consulting a collection of documents. Instead of relying solely on the model’s internal knowledge, the agent will ground its responses in an external source of truth.\n",
    "\n",
    "Scenario  \n",
    "You’re building a support assistant for a company that maintains a large set of internal documentation, such as FAQs, policy guides, and how-to manuals. The assistant should be able to:\n",
    "  \n",
    "Search through the documentation\n",
    "Retrieve the most relevant sections\n",
    "Provide helpful answers grounded in the retrieved information\n",
    "This approach, aka Retrieval-Augmented Generation (RAG) — is a powerful technique for building agents that are accurate, verifiable, and up-to-date.\n",
    "  \n",
    "Challenge  \n",
    "Your task is to create a LangGraph Workflow that includes:  \n",
    "\n",
    "A document loading and vectorization process for a knowledge base.\n",
    "An Agent Node capable of:\n",
    "Retrieving relevant knowledge.\n",
    "Augmenting responses with contextual documents.\n",
    "Generating accurate answers.\n",
    "Conditional routing to control query resolution.\n",
    "Optimization techniques such as text chunking and embedding search."
   ]
  },
  {
   "cell_type": "markdown",
   "id": "a799bf7d-2285-4337-a9f3-5fda5e2952dc",
   "metadata": {},
   "source": [
    "## 0. Import the necessary libs\n"
   ]
  },
  {
   "cell_type": "code",
   "execution_count": 1,
   "id": "91e272d6-a1b7-46ff-9e19-f03a5161931f",
   "metadata": {},
   "outputs": [],
   "source": [
    "from typing import List\n",
    "from langchain_openai import OpenAIEmbeddings, ChatOpenAI\n",
    "from langchain_core.prompts import ChatPromptTemplate\n",
    "from langchain_core.documents import Document\n",
    "from langchain_text_splitters import RecursiveCharacterTextSplitter\n",
    "from langchain_chroma import Chroma\n",
    "from langchain_community.document_loaders import PyPDFLoader\n",
    "from langgraph.graph import START, END, StateGraph\n",
    "from langgraph.graph.message import MessagesState\n",
    "from IPython.display import Image, display"
   ]
  },
  {
   "cell_type": "markdown",
   "id": "16a6d0ac-88c2-48dd-bf1d-90d85b88fff2",
   "metadata": {},
   "source": [
    "## 1. Instantiate Chat Model with your API Key\n",
    "To be able to connect with OpenAI, you need to instantiate an ChatOpenAI client passing your OpenAI key.\n",
    "\n",
    "You can pass the api_key argument directly.\n",
    "\n",
    "llm = ChatOpenAI(\n",
    "    model=\"gpt-4o-mini\",\n",
    "    temperature=0.0,\n",
    "    api_key=\"voc-\",\n",
    ")"
   ]
  },
  {
   "cell_type": "code",
   "execution_count": 2,
   "id": "eb12111f-d621-410e-a283-de6c26730961",
   "metadata": {},
   "outputs": [],
   "source": [
    "# TODO - Instantiate your chat model\n",
    "llm = ChatOpenAI(\n",
    "    model=\"gpt-4o-mini\",\n",
    "    temperature=0.0,\n",
    " #   api_key = \"YOUR_API_KEY_HERE\",    # It's already in my venv\n",
    ")"
   ]
  },
  {
   "cell_type": "code",
   "execution_count": 3,
   "id": "0374b230-01ba-4d82-be56-ea5a3b815297",
   "metadata": {},
   "outputs": [],
   "source": [
    "# TODO - Instantiate your embeddings model\n",
    "embeddings_fn = OpenAIEmbeddings(\n",
    "    model=\"text-embedding-3-large\"\n",
    "  #  api_key = \"YOUR_API_KEY_HERE\",    # Does this still work though?\n",
    ")"
   ]
  },
  {
   "cell_type": "markdown",
   "id": "42c5c6bb-a1b4-4426-96bd-b3b2eaa172db",
   "metadata": {},
   "source": [
    "## 2. Load and Process Documents"
   ]
  },
  {
   "cell_type": "code",
   "execution_count": 4,
   "id": "f6fd66e3-3c47-4e24-896a-ce4287e2fd5b",
   "metadata": {},
   "outputs": [],
   "source": [
    "# TODO create your Chroma vector store with a collection name \n",
    "# and the embedding function\n",
    "vector_store = Chroma(\n",
    "    collection_name=\"udacity\",\n",
    "    embedding_function=embeddings_fn\n",
    ")"
   ]
  },
  {
   "cell_type": "code",
   "execution_count": 7,
   "id": "17090dbf-ce8b-4f58-a86f-8a8db69d6ffb",
   "metadata": {},
   "outputs": [],
   "source": [
    "file_path = \"Arcadia-30_Grayscale.pdf\""
   ]
  },
  {
   "cell_type": "code",
   "execution_count": 8,
   "id": "145a2372-ab14-459a-830c-29c7ff76f4b0",
   "metadata": {},
   "outputs": [],
   "source": [
    "loader = PyPDFLoader(file_path)"
   ]
  },
  {
   "cell_type": "code",
   "execution_count": 10,
   "id": "8e72aeb2-02be-47bb-97c6-cd582bb4e2c5",
   "metadata": {},
   "outputs": [],
   "source": [
    "pages = []\n",
    "async for page in loader.alazy_load():\n",
    "    pages.append(page)"
   ]
  },
  {
   "cell_type": "code",
   "execution_count": 11,
   "id": "e36960fd-6e01-4238-89df-ebe9139468ea",
   "metadata": {},
   "outputs": [],
   "source": [
    "# TODO - Create a text splitter with chunk_size and chunk_overlap \n",
    "# values of 1000 and 200, respectively\n",
    "text_splitter = RecursiveCharacterTextSplitter(\n",
    "    chunk_size=1000,\n",
    "    chunk_overlap=200\n",
    ")"
   ]
  },
  {
   "cell_type": "code",
   "execution_count": 12,
   "id": "63c2af0f-1837-4d15-bf59-9cb4651ed6de",
   "metadata": {},
   "outputs": [],
   "source": [
    "all_splits = text_splitter.split_documents(pages)"
   ]
  },
  {
   "cell_type": "code",
   "execution_count": 13,
   "id": "2be8d0f8-ebbc-490f-bb05-2a64877f3938",
   "metadata": {},
   "outputs": [],
   "source": [
    "_ = vector_store.add_documents(documents=all_splits)"
   ]
  },
  {
   "cell_type": "markdown",
   "id": "320fcdc3-ff5c-4f20-bd4d-f63b7c81bc87",
   "metadata": {},
   "source": [
    "## 3. Define State Schema\n",
    "\n",
    "We define a State Schema for managing:\n",
    "\n",
    "User query\n",
    "Retrieved documents\n",
    "Generated answer"
   ]
  },
  {
   "cell_type": "code",
   "execution_count": 14,
   "id": "343f1c64-4987-4f74-9a62-2baa66ed0f74",
   "metadata": {},
   "outputs": [],
   "source": [
    "# TODO - Create your state schema named State inheriting from MessagesState\n",
    "# with question(str), documents(List) and answer(str) attributes\n",
    "class State(MessagesState):\n",
    "    question: str\n",
    "    documents: List[Document]\n",
    "    answer: str\n",
    "    "
   ]
  },
  {
   "cell_type": "markdown",
   "id": "e8266287-4a48-405c-9a42-c0fb81f62ed4",
   "metadata": {},
   "source": [
    "## 4. RAG Nodes\n",
    "The agent should:\n",
    "  \n",
    "fetch relevant document chunks based on the user query\n",
    "combine the retrieved documents and use them as context\n",
    "invoke the LLM to generate a response"
   ]
  },
  {
   "cell_type": "code",
   "execution_count": 15,
   "id": "5b7bce0d-c579-4bc5-8130-e0c68b2dde1c",
   "metadata": {},
   "outputs": [],
   "source": [
    "def retrieve(state: State):\n",
    "    question = state[\"question\"]\n",
    "\n",
    "    # TODO - Use the vector store to retrieve similar documents to the question\n",
    "    # Use the similarity_search() method\n",
    "    retrieved_docs = vector_store.similarity_search(question)\n",
    "\n",
    "    return {\"documents\": retrieved_docs}"
   ]
  },
  {
   "cell_type": "code",
   "execution_count": 16,
   "id": "910cba14-8b9e-4f2e-ab57-8d278cf2221c",
   "metadata": {},
   "outputs": [],
   "source": [
    "def augment(state: State):\n",
    "    question = state[\"question\"]\n",
    "    documents = state[\"documents\"]\n",
    "    docs_content = \"\\n\\n\".join(doc.page_content for doc in documents)\n",
    "\n",
    "    # TODO - Create a RAG ChatPromptTemplate with question and context variables\n",
    "    template = ChatPromptTemplate([\n",
    "        (\"system\", \"You are an assistant for question-answering tasks.\"),\n",
    "        (\"human\", \"Use the following pieces of retrieved content to answer the question.\"\n",
    "                 \"If you don't know the answr, just say you don't know.\"\n",
    "                 \"Use three sentences maximum and keep the answer concise.\"\n",
    "                 \"\\n# Question: \\n-> {question} \"\n",
    "                 \"\\n# Context: \\n-> {context} \"\n",
    "         \"\\n# Answer: \"),\n",
    "    ])\n",
    "\n",
    "    messages = template.invoke(\n",
    "        {\"context\": docs_content, \"question\": question}\n",
    "    ).to_messages()\n",
    "\n",
    "    return {\"messages\": messages}"
   ]
  },
  {
   "cell_type": "code",
   "execution_count": 17,
   "id": "671a78e0-69fe-42f9-b03e-75c8d3d08456",
   "metadata": {},
   "outputs": [],
   "source": [
    "def generate(state: State):\n",
    "    # TODO - Invoke the LLM passing the messages from state\n",
    "    ai_message = llm.invoke(state[\"messages\"])\n",
    "    return {\"answer\": ai_message.content, \"messages\": ai_message}"
   ]
  },
  {
   "cell_type": "markdown",
   "id": "1e3cc905-1270-41c9-a2e3-6cd0e726c734",
   "metadata": {},
   "source": [
    "## 5. Build the LangGraph Workflow"
   ]
  },
  {
   "cell_type": "code",
   "execution_count": 18,
   "id": "e66edfda-223d-46a9-9e1e-95471d96563d",
   "metadata": {},
   "outputs": [
    {
     "data": {
      "text/plain": [
       "<langgraph.graph.state.StateGraph at 0x1820d7d7230>"
      ]
     },
     "execution_count": 18,
     "metadata": {},
     "output_type": "execute_result"
    }
   ],
   "source": [
    "workflow = StateGraph(State)\n",
    "# TODO - add all the nodes and edges\n",
    "workflow.add_node(\"retrieve\", retrieve)\n",
    "workflow.add_node(\"augment\", augment)\n",
    "workflow.add_node(\"generate\", generate)\n",
    "\n",
    "workflow.add_edge(START, \"retrieve\")\n",
    "workflow.add_edge(\"retrieve\", \"augment\")\n",
    "workflow.add_edge(\"augment\", \"generate\")\n",
    "workflow.add_edge(\"generate\", END)\n"
   ]
  },
  {
   "cell_type": "code",
   "execution_count": 19,
   "id": "2c147bec-bf6c-42d5-9310-654e3b5babca",
   "metadata": {},
   "outputs": [
    {
     "data": {
      "image/png": "[encoded data removed]",
      "text/plain": [
       "<IPython.core.display.Image object>"
      ]
     },
     "metadata": {},
     "output_type": "display_data"
    }
   ],
   "source": [
    "graph = workflow.compile()\n",
    "\n",
    "display(\n",
    "    Image(\n",
    "        graph.get_graph().draw_mermaid_png()\n",
    "    )\n",
    ")"
   ]
  },
  {
   "cell_type": "markdown",
   "id": "bb0fa565-38fb-4d0d-944e-918a2753809d",
   "metadata": {},
   "source": [
    "## 6. Invoke the Agent with a Query\n",
    "Run and Print the retrieved documents to check search accuracy."
   ]
  },
  {
   "cell_type": "code",
   "execution_count": 20,
   "id": "b705d575-ef86-4bd3-b8c8-bc034ed5091d",
   "metadata": {},
   "outputs": [],
   "source": [
    "output = graph.invoke(\n",
    "    {\"question\": \"Who is Kamira Suhan?\"}\n",
    ")"
   ]
  },
  {
   "cell_type": "code",
   "execution_count": 21,
   "id": "6dd83625-7786-441d-850e-0bfc11e3ca81",
   "metadata": {},
   "outputs": [
    {
     "data": {
      "text/plain": [
       "'Kamira Suhan is a tiefling diviner known for her fortune-telling abilities, using a combination of dream interpretation and a special deck of cards. Once seen as a bad omen, she now works to show her divinations can be used for good. Kamira is a member of the Thread, a group that relies on her premonitions to guide their actions.'"
      ]
     },
     "execution_count": 21,
     "metadata": {},
     "output_type": "execute_result"
    }
   ],
   "source": [
    "output[\"answer\"]"
   ]
  },
  {
   "cell_type": "code",
   "execution_count": 22,
   "id": "892436d6-f94d-4a9a-9443-d5144d771e47",
   "metadata": {},
   "outputs": [
    {
     "name": "stdout",
     "output_type": "stream",
     "text": [
      "================================\u001b[1m System Message \u001b[0m================================\n",
      "\n",
      "You are an assistant for question-answering tasks.\n",
      "================================\u001b[1m Human Message \u001b[0m=================================\n",
      "\n",
      "Use the following pieces of retrieved content to answer the question.If you don't know the answr, just say you don't know.Use three sentences maximum and keep the answer concise.\n",
      "# Question: \n",
      "-> Who is Kamira Suhan? \n",
      "# Context: \n",
      "-> might hear of her.\n",
      " When characters first meet or encounter Kamira, read \n",
      "or paraphrase the following:\n",
      "Y ou hear the rustling of a deck of cards being shuffled in \n",
      "fast-moving hands just as a tiefling appears before you, \n",
      "grinning broadly. She is in her middle years, with dark-red \n",
      "skin, black eyes, and a set of black horns nearly as long \n",
      "as her broad shoulders are wide, and she has an air of \n",
      "confidence about her. “Want to know your future?” she \n",
      "asks with a wink and a nod toward the nearest table. “I \n",
      "promise you’ll probably enjoy it. ”\n",
      "\n",
      "often than not, they led to the events Kamira foresaw, \n",
      "as if those events were written by the hand of fate. Over \n",
      "time, she became seen as a bad omen throughout the \n",
      "river lands near her home, avoided by almost everyone \n",
      "except her family. After her brother nearly died in a \n",
      "fishing accident she couldn’t prevent, Kamira ran away, \n",
      "hoping to spare the people she loved from pain.\n",
      " Before Kamira could travel further than a day from \n",
      "home, she encountered a fisher, Khalet, in a small fishing \n",
      "village she had never seen before. Khalet, a longtime \n",
      "Thread member, brought Kamira to Ravel, where \n",
      "fortune tellers taught her how to interpret and use her \n",
      "premonitions safely. Today, Kamira tells fortunes using \n",
      "a combination of dream interpretation and a special \n",
      "deck of cards, unafraid to share the futures she sees. She \n",
      "is proficient with fortune teller’s tools (see “Folk Magic \n",
      "Practices”) and uses a deck of divination to provide \n",
      "readings. She also occasionally has dreams filled with\n",
      "\n",
      "is proficient with fortune teller’s tools (see “Folk Magic \n",
      "Practices”) and uses a deck of divination to provide \n",
      "readings. She also occasionally has dreams filled with \n",
      "premonitions, which she jots down in a book she keeps \n",
      "under lock and key, noting when, where, and if each has \n",
      "come true.\n",
      " Kamira has a booming voice and strong presence \n",
      "that might be intimidating in someone less friendly. She \n",
      "works hard to make people like her from the moment \n",
      "they meet her, deploying considerable charm to disarm \n",
      "those around her. Deep down, the Diviner hopes to show \n",
      "those who knew her as a child how her divinations are \n",
      "used for good, and often brags about the predictions \n",
      "she has made in a way that is both self-deprecating and \n",
      "calculated to impress any old friends or neighbors who \n",
      "might hear of her.\n",
      " When characters first meet or encounter Kamira, read \n",
      "or paraphrase the following:\n",
      "Y ou hear the rustling of a deck of cards being shuffled in\n",
      "\n",
      "Traveler.\n",
      "Th e Diviner\n",
      "If members of the Thread often seem to know where and \n",
      "how they are needed before anyone else does, it is thanks \n",
      "to the Diviner, who uses their fortune telling skills to \n",
      "learn of events that either call for the Thread’s assistance \n",
      "or could impact its future. They remain in this role until \n",
      "their divinations reveal that they should step down \n",
      "in favor of someone new. The current Diviner, dream \n",
      "walker and former pariah Kamira Suhan (kuh-MEER-uh \n",
      "soo-HAHN), like most in her role, is good at making \n",
      "quick judgment calls and is trusted implicitly by those \n",
      "around her.\n",
      "Kamira Suhan\n",
      "Kamira Suhan (CG tiefling druid; she/her) has always \n",
      "dreamed of events yet to come, sometimes even while \n",
      "awake. When the dreams were bad, she tried to warn \n",
      "those in danger, but the warnings never helped. More \n",
      "often than not, they led to the events Kamira foresaw, \n",
      "as if those events were written by the hand of fate. Over \n",
      "time, she became seen as a bad omen throughout the \n",
      "# Answer: \n",
      "==================================\u001b[1m Ai Message \u001b[0m==================================\n",
      "\n",
      "Kamira Suhan is a tiefling diviner known for her fortune-telling abilities, using a combination of dream interpretation and a special deck of cards. Once seen as a bad omen, she now works to show her divinations can be used for good. Kamira is a member of the Thread, a group that relies on her premonitions to guide their actions.\n"
     ]
    }
   ],
   "source": [
    "for message in output[\"messages\"]:\n",
    "    message.pretty_print()"
   ]
  },
  {
   "cell_type": "markdown",
   "id": "9a261f6a-4157-4f80-9adf-57f415024ec0",
   "metadata": {},
   "source": [
    "## 7. Experiment\n",
    "Now that you understood how it works, experiment with new things.\n",
    "  \n",
    "Change the embedding model\n",
    "Change the parameters of RecursiveCharacterTextSplitter(chunk_size and chunk_overlap)\n",
    "Use your own document\n",
    "Add More File Types"
   ]
  },
  {
   "cell_type": "code",
   "execution_count": null,
   "id": "1b6cc06f-acc5-432f-8011-9ddf8d33cd00",
   "metadata": {},
   "outputs": [],
   "source": []
  },
  {
   "cell_type": "markdown",
   "id": "f0dfaacc-6bdf-49d8-bdb2-e1a53eee118c",
   "metadata": {},
   "source": [
    "## Summary: Knowledge Base Agent with RAG  \n",
    "Overview  \n",
    "This exercise demonstrates how to create a knowledge base (KB) agent using Retrieval-Augmented Generation (RAG) techniques in LangGraph. The agent uses vector embeddings to retrieve relevant context from a document and answers user questions by augmenting the prompt with that context.\n",
    "  \n",
    "Key Steps Covered  \n",
    "1. Environment Setup  \n",
    "OpenAI's chat model (ChatOpenAI) and embedding model (OpenAIEmbeddings) are initialized.\n",
    "A vector store is created using Chroma, with a custom collection name and the embedding function.\n",
    "vectorstore = Chroma(collection_name=\"udacity\", embedding_function=embedding)  \n",
    "2. Document Preparation  \n",
    "A PDF file (provided in the environment) is loaded using PyPDFLoader (async).\n",
    "The text is split using a RecursiveCharacterTextSplitter with:\n",
    "chunk_size=1000\n",
    "chunk_overlap=200\n",
    "text_splitter = RecursiveCharacterTextSplitter(chunk_size=1000, chunk_overlap=200)\n",
    "documents = text_splitter.split_documents(pages)\n",
    "vectorstore.add_documents(documents)  \n",
    "3. Session State Definition  \n",
    "A custom state class is defined, extending MessageGraphState, and includes:\n",
    "question: user input string\n",
    "documents: list of retrieved documents\n",
    "answer: model-generated answer\n",
    "class State(MessageGraphState):\n",
    "  question: str\n",
    "  documents: List[Document]\n",
    "  answer: str  \n",
    "4. RAG Workflow Nodes  \n",
    "a. Retrieve Node\n",
    "Performs a similarity search using the vector store.\n",
    "Retrieves documents related to the input question and stores them in state.\n",
    "def retrieve(state):\n",
    "  docs = vectorstore.similarity_search(state[\"question\"])\n",
    "  return {\"documents\": docs}\n",
    "b. Augment Node\n",
    "Uses a ChatPromptTemplate with placeholders for question and context.\n",
    "Constructs a system message with relevant document excerpts and user input.\n",
    "prompt = ChatPromptTemplate.from_messages([\n",
    "  (\"system\", \"Answer using the following context:\\n\\n{context}\"),\n",
    "  (\"human\", \"{question}\")\n",
    "])\n",
    "c. Generate Node\n",
    "Calls the LLM with the constructed prompt to produce an answer.\n",
    "def generate(state):\n",
    "  return {\"answer\": llm.invoke(state[\"messages\"]).content}  \n",
    "5. Workflow Construction  \n",
    "A LangGraph StateGraph is created with four nodes:\n",
    "retrieve, augment, generate, end\n",
    "Sequential edges connect the nodes to form the RAG pipeline:\n",
    "start → retrieve → augment → generate → end\n",
    "workflow = StateGraph(State)\n",
    "workflow.add_node(\"retrieve\", retrieve)\n",
    "workflow.add_node(\"augment\", augment)\n",
    "workflow.add_node(\"generate\", generate)\n",
    "workflow.set_entry_point(\"retrieve\")\n",
    "workflow.set_finish_point(\"generate\")  \n",
    "6. Execution and Testing  \n",
    "The workflow is compiled and visualized.\n",
    "\n",
    "Sample query: \"What are open source models?\"\n",
    "\n",
    "Output:\n",
    "\n",
    "Relevant context is retrieved from Section 3 of the document.\n",
    "LLM response is correctly augmented: \"Open source models are language models developed and shared by the community...\"\n",
    "The state history confirms that:\n",
    "\n",
    "The user's question was processed,\n",
    "The appropriate context was retrieved,\n",
    "A complete answer was generated using RAG.  \n",
    "7. Encouraged Exploration  \n",
    "Learners are encouraged to:\n",
    "Ask new questions of the document.\n",
    "Adjust chunk sizes and overlaps.\n",
    "Swap out the embedding model or vector store."
   ]
  },
  {
   "cell_type": "code",
   "execution_count": null,
   "id": "6d48b69b-67f0-467c-9134-084674e20fe4",
   "metadata": {},
   "outputs": [],
   "source": []
  },
  {
   "cell_type": "code",
   "execution_count": null,
   "id": "62e419d7-3c09-4bef-9fbb-b7c9e5087f49",
   "metadata": {},
   "outputs": [],
   "source": []
  },
  {
   "cell_type": "code",
   "execution_count": null,
   "id": "505db3ed-d002-4121-a35e-3b36d518a9a9",
   "metadata": {},
   "outputs": [],
   "source": []
  },
  {
   "cell_type": "code",
   "execution_count": null,
   "id": "6ff259ec-9755-4005-aa09-1706668d8359",
   "metadata": {},
   "outputs": [],
   "source": []
  }
 ],
 "metadata": {
  "kernelspec": {
   "display_name": "Python 3 (ipykernel)",
   "language": "python",
   "name": "python3"
  },
  "language_info": {
   "codemirror_mode": {
    "name": "ipython",
    "version": 3
   },
   "file_extension": ".py",
   "mimetype": "text/x-python",
   "name": "python",
   "nbconvert_exporter": "python",
   "pygments_lexer": "ipython3",
   "version": "3.13.7"
  }
 },
 "nbformat": 4,
 "nbformat_minor": 5
}
