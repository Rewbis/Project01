{
 "cells": [
  {
   "cell_type": "markdown",
   "id": "d442f34a-17ee-4dee-9752-c4239d2c6bc2",
   "metadata": {},
   "source": [
    "## Exercise: Create a Router with LangGraph\n"
   ]
  },
  {
   "cell_type": "markdown",
   "id": "b58758a3-4399-4bbb-80a8-1365d9f7a00e",
   "metadata": {},
   "source": [
    "Welcome to your Prompt Routing Challenge! In this exercise, you'll build a system that can intelligently route user inputs to different tasks based on an input. This technique is widely used in real-world applications where a single interface must handle multiple tasks — such as summarization, translation, or answering questions.  \n",
    "\n",
    "Scenario  \n",
    "Imagine you're building a smart assistant that can handle various types of requests through a single conversation interface. Your assistant should understand the user's intent and respond accordingly — but each task may require a different prompt structure or strategy.  \n",
    "\n",
    "To manage this complexity, you'll build a node router. This router will evaluate the user input and choose the most appropriate node to use. For example, it should be able to decide whether the user is asking for a summary, a translation, or a general question — and route the request to the correct prompt logic.\n",
    "  \n",
    "Challenge  \n",
    "You're building a text processing application that can:  \n",
    "\n",
    "Reverse a string (e.g., \"hello\" → \"olleh\")  \n",
    "Convert a string to uppercase (e.g., \"hello\" → \"HELLO\")  \n",
    "Your application should:  \n",
    "\n",
    "Accept user input and an action type.  \n",
    "Route to the appropriate node (reverse or upper) based on the action.  \n",
    "Handle invalid actions gracefully.  \n",
    "This will be achieved by routing the input through LangGraph nodes using a conditional edge."
   ]
  },
  {
   "cell_type": "markdown",
   "id": "75ef11c4-2f24-4760-8fad-df4d94664b06",
   "metadata": {},
   "source": [
    "0. Import the necessary libs"
   ]
  },
  {
   "cell_type": "code",
   "execution_count": 1,
   "id": "6acf9de8-da13-476e-9b70-978e74843667",
   "metadata": {},
   "outputs": [],
   "source": [
    "from typing import TypedDict, Literal\n",
    "from langgraph.graph import StateGraph, START, END\n",
    "from IPython.display import Image, display"
   ]
  },
  {
   "cell_type": "markdown",
   "id": "c96b03c2-ce92-4e02-848c-bcb325ce81d2",
   "metadata": {},
   "source": [
    "1. State Schema\n",
    "We’ll use Python’s TypedDict to define the structure of our state:\n",
    "\n",
    "input: The user’s input string.\n",
    "action: The action to be performed (reverse or upper).\n",
    "output: The processed output.\n",
    "Then initialize the State Graph with the state schema you have created"
   ]
  },
  {
   "cell_type": "code",
   "execution_count": 15,
   "id": "648b66f1-cf09-40b5-945b-4d37aaa34c39",
   "metadata": {},
   "outputs": [],
   "source": [
    "# TODO - Create the State Schema class\n",
    "# class State\n",
    "class State(TypedDict):\n",
    "    input: str\n",
    "    action: Literal[\"reverse\", \"upper\"]\n",
    "    output: str"
   ]
  },
  {
   "cell_type": "code",
   "execution_count": 16,
   "id": "cc6129b5-20fa-4118-9021-df00b3e0c1cd",
   "metadata": {},
   "outputs": [],
   "source": [
    "workflow = StateGraph(State)"
   ]
  },
  {
   "cell_type": "markdown",
   "id": "007a9422-240a-400c-910e-3433b06734cb",
   "metadata": {},
   "source": [
    "2. Nodes\n",
    "Create the logics in your nodes.\n",
    "\n",
    "Node A should reverse the input  \n",
    "Node B should convert input to uppercase\n",
    "Then add the nodes to the workflow."
   ]
  },
  {
   "cell_type": "code",
   "execution_count": 17,
   "id": "31730766-4fdf-4611-aa3d-652634fc3583",
   "metadata": {},
   "outputs": [],
   "source": [
    "def node_a(state: State):\n",
    "    print(\"Node A\\n\")\n",
    "\n",
    "    # TODO - Reverse\n",
    "    output = state['input'][::-1]\n",
    "    \n",
    "    print(f\"output: {output}\")\n",
    "    return {\"output\": output}"
   ]
  },
  {
   "cell_type": "code",
   "execution_count": 18,
   "id": "dbf64082-6c6a-442a-bf05-62aca1fd7a83",
   "metadata": {},
   "outputs": [],
   "source": [
    "def node_b(state: State):\n",
    "    print(\"Node B\\n\")\n",
    "\n",
    "    # TODO - Uppercase\n",
    "    output = state['input'].upper()\n",
    "    \n",
    "    print(f\"output: {output}\")\n",
    "    return {\"output\": output}"
   ]
  },
  {
   "cell_type": "code",
   "execution_count": 19,
   "id": "98f83f14-1761-4473-ad59-87552291e099",
   "metadata": {},
   "outputs": [
    {
     "data": {
      "text/plain": [
       "<langgraph.graph.state.StateGraph at 0x232bd466990>"
      ]
     },
     "execution_count": 19,
     "metadata": {},
     "output_type": "execute_result"
    }
   ],
   "source": [
    "# TODO- Add node A to the workflow\n",
    "workflow.add_node(node_a)"
   ]
  },
  {
   "cell_type": "code",
   "execution_count": 20,
   "id": "0d9426da-6f89-410f-9869-5c043c419310",
   "metadata": {},
   "outputs": [
    {
     "data": {
      "text/plain": [
       "<langgraph.graph.state.StateGraph at 0x232bd466990>"
      ]
     },
     "execution_count": 20,
     "metadata": {},
     "output_type": "execute_result"
    }
   ],
   "source": [
    "# TODO - Add node B to the workflow\n",
    "workflow.add_node(node_b)"
   ]
  },
  {
   "cell_type": "markdown",
   "id": "fd6e81c1-cabc-4b03-97cf-a19e143a763d",
   "metadata": {},
   "source": [
    "3. Routing Function  \n",
    "Create a routing function to determine which node to execute based on the action. If action is reverse, it should return node A, if action is upper, node B."
   ]
  },
  {
   "cell_type": "code",
   "execution_count": 21,
   "id": "2c736198-75f3-4924-90f1-ff43a1615aa2",
   "metadata": {},
   "outputs": [],
   "source": [
    "# TODO - The routing function\n",
    "def routing_function(state: State):\n",
    "    action = state[\"action\"]\n",
    "    if action == \"reverse\":\n",
    "        return \"node_a\"\n",
    "    if action == \"upper\":\n",
    "        return \"node_b\""
   ]
  },
  {
   "cell_type": "markdown",
   "id": "2398dd28-c592-4219-82a2-ae667d84e003",
   "metadata": {},
   "source": [
    "4. Edges  \n",
    "Use conditional edges to control the flow of data:  \n",
    "\n",
    "START → routing_function to decide the path.  \n",
    "node_a → END for reverse.  \n",
    "node_b → END for uppercase.  \n",
    "In add_conditional_edges() method, use source, path and path_map as the necessary arguments for routing."
   ]
  },
  {
   "cell_type": "code",
   "execution_count": 22,
   "id": "fe9593ac-4f84-451a-9bfd-aca580888917",
   "metadata": {},
   "outputs": [
    {
     "data": {
      "text/plain": [
       "<langgraph.graph.state.StateGraph at 0x232bd466990>"
      ]
     },
     "execution_count": 22,
     "metadata": {},
     "output_type": "execute_result"
    }
   ],
   "source": [
    "# TODO - Add your condital edges\n",
    "workflow.add_conditional_edges(\n",
    "    source=START, \n",
    "    path=routing_function, \n",
    "    path_map=[\"node_a\", \"node_b\"]\n",
    ")"
   ]
  },
  {
   "cell_type": "code",
   "execution_count": 23,
   "id": "b36fab40-e5c7-40a3-92ad-c2bfad0ecf33",
   "metadata": {},
   "outputs": [
    {
     "data": {
      "text/plain": [
       "<langgraph.graph.state.StateGraph at 0x232bd466990>"
      ]
     },
     "execution_count": 23,
     "metadata": {},
     "output_type": "execute_result"
    }
   ],
   "source": [
    "workflow.add_edge(\"node_a\", END)\n",
    "workflow.add_edge(\"node_b\", END)"
   ]
  },
  {
   "cell_type": "markdown",
   "id": "e6ec525c-b8f5-4718-a92c-c91809e19a18",
   "metadata": {},
   "source": [
    "5. Compile and Run  \n",
    "Compile the graph, display and run it with different actions."
   ]
  },
  {
   "cell_type": "code",
   "execution_count": 24,
   "id": "df910dde-8c11-4295-9096-7d2494c4ebc5",
   "metadata": {},
   "outputs": [],
   "source": [
    "graph = workflow.compile()"
   ]
  },
  {
   "cell_type": "code",
   "execution_count": 25,
   "id": "b690626a-1c91-499b-8248-563a77a8a88a",
   "metadata": {},
   "outputs": [
    {
     "data": {
      "image/png": "[encoded data removed]",
      "text/plain": [
       "<IPython.core.display.Image object>"
      ]
     },
     "metadata": {},
     "output_type": "display_data"
    }
   ],
   "source": [
    "display(\n",
    "    Image(\n",
    "        graph.get_graph().draw_mermaid_png()\n",
    "    )\n",
    ")"
   ]
  },
  {
   "cell_type": "code",
   "execution_count": 26,
   "id": "84bba8ad-b750-4dd4-911c-e42d000fa846",
   "metadata": {},
   "outputs": [
    {
     "name": "stdout",
     "output_type": "stream",
     "text": [
      "Node B\n",
      "\n",
      "output: HERE I GO AGAIN, ON MY OWN, GOING DOWN THE ONLY ROAD I'VE EVER KNOWN\n"
     ]
    },
    {
     "data": {
      "text/plain": [
       "{'input': \"Here I go again, on my own, going down the only road I've ever known\",\n",
       " 'action': 'upper',\n",
       " 'output': \"HERE I GO AGAIN, ON MY OWN, GOING DOWN THE ONLY ROAD I'VE EVER KNOWN\"}"
      ]
     },
     "execution_count": 26,
     "metadata": {},
     "output_type": "execute_result"
    }
   ],
   "source": [
    "# TODO - Input upper action\n",
    "graph.invoke(\n",
    "    input = {\n",
    "        \"input\": \"Here I go again, on my own, going down the only road I've ever known\",\n",
    "        \"action\": \"upper\"\n",
    "    }, \n",
    ")"
   ]
  },
  {
   "cell_type": "code",
   "execution_count": 27,
   "id": "e55718ad-a72c-4fe1-9425-73e85ad8f226",
   "metadata": {},
   "outputs": [
    {
     "name": "stdout",
     "output_type": "stream",
     "text": [
      "Node A\n",
      "\n",
      "output: enola klaw ot nrob saw I retfird a ekil\n"
     ]
    },
    {
     "data": {
      "text/plain": [
       "{'input': 'like a drifter I was born to walk alone',\n",
       " 'action': 'reverse',\n",
       " 'output': 'enola klaw ot nrob saw I retfird a ekil'}"
      ]
     },
     "execution_count": 27,
     "metadata": {},
     "output_type": "execute_result"
    }
   ],
   "source": [
    "# TODO - Input reverse action\n",
    "graph.invoke(\n",
    "    input = {\n",
    "        \"input\": \"like a drifter I was born to walk alone\",\n",
    "        \"action\": \"reverse\"\n",
    "    }, \n",
    ")"
   ]
  },
  {
   "cell_type": "markdown",
   "id": "9d03981e-10ad-43ad-8b83-895a6edc4db4",
   "metadata": {},
   "source": [
    "6. Experiment\n",
    "Now that you understood how it works, experiment with new things.\n",
    "\n",
    "Test different scenarios, like passing \"lower\" as the actions\n",
    "Make it more robust when this case happen\n",
    "Add more actions"
   ]
  },
  {
   "cell_type": "markdown",
   "id": "ca2459f4-6345-410e-af35-17ba56da128c",
   "metadata": {},
   "source": [
    "Summary: Router with LangGraph  \n",
    "Overview  \n",
    "This exercise focuses on building a simple router workflow using LangGraph. Learners create a branching logic where inputs are routed dynamically to different nodes based on specified actions (\"reverse\" or \"upper\"), illustrating how control flow and routing work within LangGraph.\n",
    "  \n",
    "Key Steps Covered  \n",
    "1. Setup and Imports  \n",
    "All necessary libraries are imported.\n",
    "Environment is prepared to use LangGraph components.  \n",
    "2. State Schema Definition  \n",
    "A State class is created using TypedDict to define the schema for the workflow's input and output.\n",
    "The State includes:\n",
    "input (string)\n",
    "action (string constrained by a Literal type to either \"reverse\" or \"upper\")\n",
    "output (string)\n",
    "class State(TypedDict):\n",
    "  input: str\n",
    "  action: Literal[\"reverse\", \"upper\"]\n",
    "  output: str  \n",
    "3. Node Functions  \n",
    "Two nodes are defined:  \n",
    "Node A: Reverses the input string.\n",
    "Node B: Converts the input string to uppercase.\n",
    "def node_a(state):  \n",
    "  return {\"output\": state[\"input\"][::-1]}\n",
    "\n",
    "def node_b(state):  \n",
    "  return {\"output\": state[\"input\"].upper()}  \n",
    "4. Workflow Creation  \n",
    "A workflow object is created.\n",
    "Nodes A and B are added to the workflow using add_node().\n",
    "workflow.add_node(\"node_a\", node_a)\n",
    "workflow.add_node(\"node_b\", node_b)\n",
    "5. Routing Function  \n",
    "A routing function directs execution to the appropriate node based on the action specified in the input.\n",
    "def router(state):\n",
    "  if state[\"action\"] == \"reverse\":\n",
    "      return \"node_a\"\n",
    "  elif state[\"action\"] == \"upper\":\n",
    "      return \"node_b\"\n",
    "6. Defining Edges\n",
    "Edges are defined in the workflow:\n",
    "From start to either node_a or node_b, based on the router function.\n",
    "From both node_a and node_b to end.\n",
    "workflow.add_edge(\"start\", router)\n",
    "workflow.add_edge(\"node_a\", \"end\")\n",
    "workflow.add_edge(\"node_b\", \"end\")\n",
    "7. Compilation and Visualization\n",
    "The workflow graph is compiled and visualized, showing:\n",
    "Start → Router → Node A or Node B → End\n",
    "8. Testing the Router\n",
    "Inputs are tested:\n",
    "With action \"upper\": Input is converted to uppercase.\n",
    "With action \"reverse\": Input is reversed.\n",
    "graph.invoke({\"input\": \"some input\", \"action\": \"upper\"})\n",
    "# Output: \"SOME INPUT\"\n",
    "\n",
    "graph.invoke({\"input\": \"some input\", \"action\": \"reverse\"})\n",
    "# Output: \"tupni emos\"\n",
    "An error initially occurred because the State class was missing its base class (TypedDict), but it was corrected, and the workflow executed as expected.\n",
    "9. Encouraged Exploration\n",
    "Learners are invited to:\n",
    "Add more actions (e.g., \"lower\", \"capitalize\").\n",
    "Improve error handling for unsupported actions.\n",
    "Make the router more flexible and robust."
   ]
  },
  {
   "cell_type": "markdown",
   "id": "74196ea6-67fc-4aff-bcfb-c279a33b3e25",
   "metadata": {},
   "source": [
    "## Managing State in LangGraph\n",
    "State management is essential in LangGraph workflows, where a StateGraph tracks inputs, outputs, and intermediate data. Understanding how to define and manage state properly improves reliability and control in AI-driven workflows.  \n",
    "\n",
    "State Machines and LangGraph  \n",
    "State-based systems are not new. State Machines—like traffic light controllers—transition between predefined states based on logic and conditions. In LangGraph, workflows follow a similar approach, where nodes represent states and edges define transitions.  \n",
    "\n",
    "Defining State Schemas  \n",
    "State schemas define what data is stored and updated as the workflow runs. Two common methods exist:  \n",
    "\n",
    "TypedDict – A lightweight approach for defining structured key-value pairs.  \n",
    "\n",
    "Pydantic – A more robust option with built-in validation for production use.  \n",
    "\n",
    "Using TypedDict (Simple, No Validation)  \n",
    "TypedDict works well for small states but does not enforce validation.  \n",
    "\n",
    "from typing_extensions import TypedDict  \n",
    "\n",
    "class State(TypedDict):  \n",
    "      color: str  \n",
    "If incorrect data is passed, LangGraph won’t raise an error, which can lead to unintended behavior:  \n",
    "\n",
    "graph.invoke({\"color\": 2})  # No error, but incorrect state handling  \n",
    "Using Pydantic (Validated, More Reliable)  \n",
    "Pydantic ensures type safety and prevents incorrect inputs.  \n",
    "\n",
    "from pydantic import BaseModel  \n",
    "\n",
    "class State(BaseModel):  \n",
    "      color: str  \n",
    "Now, if an invalid value is passed, LangGraph raises an error:  \n",
    "\n",
    "graph.invoke({\"color\": 2})  \n",
    "# ValidationError: Input should be a valid string  \n",
    "Final Thoughts  \n",
    "When designing LangGraph workflows, take the time to define a structured state that aligns with your application’s needs.  \n",
    "\n",
    "Use TypedDict for lightweight, simple state management.  \n",
    "Use Pydantic for complex, validated workflows to prevent data inconsistencies.  \n",
    "Proper state design improves reliability, ensuring your workflow behaves predictably while handling data dynamically.  "
   ]
  },
  {
   "cell_type": "markdown",
   "id": "848ae57f-51e4-4a0c-8693-4c947c96f062",
   "metadata": {},
   "source": [
    "## Summary: State Schemas and State Machines in LangGraph  \n",
    "Overview  \n",
    "This demo explores how to define state schemas for workflows using both TypedDict and Pydantic, and how to implement state machines in LangGraph, including basic workflows and conditional branching with repeatable flows.\n",
    "  \n",
    "Key Steps Covered  \n",
    "1. TypedDict vs. Pydantic for State Definition\n",
    "a. Using TypedDict  \n",
    "A simple State is defined using TypedDict with:\n",
    "input_color: Literal[\"green\", \"yellow\", \"red\"]\n",
    "output_color: Literal[\"green\", \"yellow\", \"red\"]\n",
    "class State(TypedDict):\n",
    "  input_color: Literal[\"green\", \"yellow\", \"red\"]\n",
    "  output_color: Literal[\"green\", \"yellow\", \"red\"]\n",
    "A color_node randomly selects an output color based on the input.\n",
    "def color_node(state):\n",
    "  output_color = random.choice([\"green\", \"yellow\", \"red\"])\n",
    "  return {\"output_color\": output_color}\n",
    "Problem: TypedDict does not enforce type validation at runtime.\n",
    "Even invalid inputs like \"black\" pass silently.  \n",
    "b. Using Pydantic  \n",
    "Same state but now using BaseModel from Pydantic for strict validation.\n",
    "class State(BaseModel):\n",
    "  input_color: Literal[\"green\", \"yellow\", \"red\"]\n",
    "  output_color: Literal[\"green\", \"yellow\", \"red\"]\n",
    "Benefits:  \n",
    "Validation errors are raised if an invalid color is passed.\n",
    "Errors show exactly which field failed validation.\n",
    "State(input_color=\"black\", output_color=\"green\")  # Raises validation error\n",
    "Note:  \n",
    "Pydantic uses dot notation (state.input_color), not dictionary subscripting (state[\"input_color\"]).  \n",
    "2. Simple Color Workflow  \n",
    "A basic StateGraph is created.\n",
    "Nodes:\n",
    "One color_node operating on state.\n",
    "Edges:\n",
    "start → color_node → end\n",
    "workflow.add_node(\"color_node\", color_node)\n",
    "workflow.add_edge(\"start\", \"color_node\")\n",
    "workflow.add_edge(\"color_node\", \"end\")\n",
    "Invocations generate random color transitions based on input.\n",
    "3. Traffic Light State Machine  \n",
    "a. Extended State Definition\n",
    "A more complex State is defined with:\n",
    "color: str\n",
    "repeat_mode: bool\n",
    "messages: list\n",
    "counter: int\n",
    "class State(BaseModel):\n",
    "  color: str\n",
    "  repeat_mode: bool\n",
    "  messages: List[str]\n",
    "  counter: int\n",
    "b. Node Definitions\n",
    "green_light_node: Waits 60 seconds (simulated), sets color to green.\n",
    "yellow_light_node: Waits 3 seconds, sets color to yellow.\n",
    "red_light_node: Waits 15 seconds, sets color to red.\n",
    "Each node updates the state and logs its action to the messages list.\n",
    "  \n",
    "def green_light_node(state):\n",
    "  # Simulate green light action\n",
    "  return {\"color\": \"green\", \"counter\": state.counter + 1}\n",
    "c. Conditional Router  \n",
    "After red_light_node, a conditional router (should_repeat) decides:\n",
    "If repeat_mode is True and counter <= 3, loop back to green_light_node.\n",
    "Else, terminate the workflow.\n",
    "def should_repeat(state):\n",
    "  if state[\"repeat_mode\"] and state[\"counter\"] <= 3:\n",
    "      return \"green_light\"\n",
    "  return \"end\"\n",
    "d. Workflow Construction  \n",
    "Nodes added: green, yellow, red.\n",
    "Edges:\n",
    "start → green_light\n",
    "green_light → yellow_light\n",
    "yellow_light → red_light\n",
    "red_light → (conditional router) → green_light or end\n",
    "workflow.add_edge(\"red_light\", should_repeat)\n",
    "workflow.add_conditional_edges(should_repeat, path_map={\"green_light\": \"green_light\", \"end\": \"end\"})\n",
    "e. Execution Example\n",
    "If repeat_mode=True, the lights cycle through green → yellow → red up to 3 times.\n",
    "If repeat_mode=False, the lights complete only one full cycle.\n",
    "state = {\"color\": \"green\", \"repeat_mode\": True, \"messages\": [], \"counter\": 0}\n",
    "Outputs trace each light transition and counter increment.  \n",
    "4. Key Concepts Highlighted  \n",
    "TypedDict is flexible but weak on validation; Pydantic enforces strong runtime validation.\n",
    "State graphs allow for sequential and conditional flows.\n",
    "Conditional branching enables looping behaviors like state machines.\n",
    "LangGraph easily supports both simple workflows and complex event-driven state transitions.  \n",
    "5. Conclusion  \n",
    "TypedDict is useful for simple, lenient workflows.\n",
    "Pydantic is essential for robust, validated workflows.\n",
    "LangGraph provides the control and flexibility needed to build real-world, multi-path workflows with clear state management."
   ]
  },
  {
   "cell_type": "markdown",
   "id": "b9cb713d-cd7e-4773-ad19-49201d4a4176",
   "metadata": {},
   "source": [
    "## Summary: Using Reducers in LangGraph\n",
    "Overview\n",
    "This demo explains reducers in LangGraph—mechanisms that allow safe merging of parallel updates to the same field in a workflow’s state. It walks through basic examples with integers, lists, and LangChain messages, highlighting how reducers prevent conflicts when nodes operate in parallel.\n",
    "\n",
    "Key Steps Covered\n",
    "1. Recap: Sequential Data Processing\n",
    "A basic state was created with:\n",
    "\n",
    "input: integer\n",
    "output: integer\n",
    "Two nodes:\n",
    "\n",
    "node_a: Adds a random offset to input.\n",
    "node_b: Adds another random offset to the result from node_a.\n",
    "class State(TypedDict):\n",
    "  input: int\n",
    "  output: int\n",
    "Sequential flow: start → node_a → node_b → end.\n",
    "Example:\n",
    "Input: 1\n",
    "Offset node_a: +13 → 14\n",
    "Offset node_b: +3 → 17\n",
    "2. Problem with Parallel Execution\n",
    "Changing the workflow so start sends the state to both node_a and node_b in parallel causes a problem:\n",
    "Both nodes try to update the output field at the same time.\n",
    "Results in an InvalidUpdateError because the output field was designed to store only a single integer.\n",
    "workflow.add_edge(\"start\", \"node_a\")\n",
    "workflow.add_edge(\"start\", \"node_b\")\n",
    "The system cannot automatically merge two integer outputs.\n",
    "3. Solution: Reducers\n",
    "Reducers resolve conflicts by defining how to combine multiple updates to the same field.\n",
    "Example:\n",
    "Using operator.add to concatenate two lists.\n",
    "Now output becomes a list instead of an integer.\n",
    "class State(TypedDict):\n",
    "  input: int\n",
    "  output: List[int]  # Note: output is now a list\n",
    "Example run:\n",
    "\n",
    "node_a produces 9\n",
    "node_b produces 4\n",
    "Final output: [9, 4]\n",
    "The reducer ensures both results are preserved.\n",
    "\n",
    "4. Reducers with LangChain Messages\n",
    "In workflows involving messages, a simple operator.add doesn’t work well when merging structured messages.\n",
    "Instead, LangGraph provides the add_messages reducer.\n",
    "from langgraph.reducers import add_messages\n",
    "This handles merging messages (e.g., SystemMessage, HumanMessage, AIMessage) properly into a list.\n",
    "5. Creating a Workflow with MessageState\n",
    "A MessageState is used instead of custom schema:\n",
    "It automatically sets up messages with the add_messages reducer.\n",
    "from langgraph.graph.message import MessageState\n",
    "Node:\n",
    "\n",
    "Receives the user’s question.\n",
    "Passes it to the LLM.\n",
    "Captures the AI's answer.\n",
    "Example:\n",
    "\n",
    "Input: \"What is the name of Ash’s first Pokémon?\"\n",
    "Output: \"Ash’s first Pokémon is Pikachu.\"\n",
    "6. Key Concepts Highlighted\n",
    "Sequential workflows are simple because each node modifies the state one after another.\n",
    "Parallel workflows require reducers to avoid update conflicts.\n",
    "Reducers define how to merge concurrent updates:\n",
    "Adding numbers → Sum\n",
    "Adding lists → Concatenation\n",
    "Adding messages → Message aggregation\n",
    "MessageState simplifies using LangChain messages in workflows without needing custom schemas.\n",
    "7. Conclusion\n",
    "Reducers are critical for safe and correct parallel execution in LangGraph.\n",
    "They allow multiple nodes to contribute to the same field without data loss or collisions.\n",
    "Properly designing state and reducers enables scalable, modular graph workflows."
   ]
  },
  {
   "cell_type": "code",
   "execution_count": null,
   "id": "664f8423-b2ec-4ed9-83e2-1c668dfe2b0e",
   "metadata": {},
   "outputs": [],
   "source": []
  }
 ],
 "metadata": {
  "kernelspec": {
   "display_name": "Python 3 (ipykernel)",
   "language": "python",
   "name": "python3"
  },
  "language_info": {
   "codemirror_mode": {
    "name": "ipython",
    "version": 3
   },
   "file_extension": ".py",
   "mimetype": "text/x-python",
   "name": "python",
   "nbconvert_exporter": "python",
   "pygments_lexer": "ipython3",
   "version": "3.13.7"
  }
 },
 "nbformat": 4,
 "nbformat_minor": 5
}
